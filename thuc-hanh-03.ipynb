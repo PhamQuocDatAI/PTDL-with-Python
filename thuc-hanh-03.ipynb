{
 "cells": [
  {
   "cell_type": "markdown",
   "metadata": {},
   "source": [
    "THỰC HÀNH THỐNG KÊ MÔ TẢ VỚI DỮ LIỆU ĐỊNH LƯỢNG\n",
    "\n",
    "Sử dụng tập dữ liệu microbiome.csv được cung cấp để hoàn thành các bài tập sau"
   ]
  },
  {
   "cell_type": "markdown",
   "metadata": {},
   "source": [
    "Câu 1: Tải tập dữ liệu microbiome.csv vào bộ nhớ (sử dụng pandas)"
   ]
  },
  {
   "cell_type": "code",
   "execution_count": 2,
   "metadata": {},
   "outputs": [
    {
     "data": {
      "text/html": [
       "<div>\n",
       "<style scoped>\n",
       "    .dataframe tbody tr th:only-of-type {\n",
       "        vertical-align: middle;\n",
       "    }\n",
       "\n",
       "    .dataframe tbody tr th {\n",
       "        vertical-align: top;\n",
       "    }\n",
       "\n",
       "    .dataframe thead th {\n",
       "        text-align: right;\n",
       "    }\n",
       "</style>\n",
       "<table border=\"1\" class=\"dataframe\">\n",
       "  <thead>\n",
       "    <tr style=\"text-align: right;\">\n",
       "      <th></th>\n",
       "      <th>Taxon</th>\n",
       "      <th>Patient</th>\n",
       "      <th>Tissue</th>\n",
       "      <th>Stool</th>\n",
       "    </tr>\n",
       "  </thead>\n",
       "  <tbody>\n",
       "    <tr>\n",
       "      <th>0</th>\n",
       "      <td>Firmicutes</td>\n",
       "      <td>1</td>\n",
       "      <td>632</td>\n",
       "      <td>305</td>\n",
       "    </tr>\n",
       "    <tr>\n",
       "      <th>1</th>\n",
       "      <td>Firmicutes</td>\n",
       "      <td>2</td>\n",
       "      <td>136</td>\n",
       "      <td>4182</td>\n",
       "    </tr>\n",
       "    <tr>\n",
       "      <th>2</th>\n",
       "      <td>Firmicutes</td>\n",
       "      <td>3</td>\n",
       "      <td>1174</td>\n",
       "      <td>703</td>\n",
       "    </tr>\n",
       "    <tr>\n",
       "      <th>3</th>\n",
       "      <td>Firmicutes</td>\n",
       "      <td>4</td>\n",
       "      <td>408</td>\n",
       "      <td>3946</td>\n",
       "    </tr>\n",
       "    <tr>\n",
       "      <th>4</th>\n",
       "      <td>Firmicutes</td>\n",
       "      <td>5</td>\n",
       "      <td>831</td>\n",
       "      <td>8605</td>\n",
       "    </tr>\n",
       "    <tr>\n",
       "      <th>...</th>\n",
       "      <td>...</td>\n",
       "      <td>...</td>\n",
       "      <td>...</td>\n",
       "      <td>...</td>\n",
       "    </tr>\n",
       "    <tr>\n",
       "      <th>70</th>\n",
       "      <td>Other</td>\n",
       "      <td>11</td>\n",
       "      <td>203</td>\n",
       "      <td>6</td>\n",
       "    </tr>\n",
       "    <tr>\n",
       "      <th>71</th>\n",
       "      <td>Other</td>\n",
       "      <td>12</td>\n",
       "      <td>392</td>\n",
       "      <td>6</td>\n",
       "    </tr>\n",
       "    <tr>\n",
       "      <th>72</th>\n",
       "      <td>Other</td>\n",
       "      <td>13</td>\n",
       "      <td>28</td>\n",
       "      <td>25</td>\n",
       "    </tr>\n",
       "    <tr>\n",
       "      <th>73</th>\n",
       "      <td>Other</td>\n",
       "      <td>14</td>\n",
       "      <td>12</td>\n",
       "      <td>22</td>\n",
       "    </tr>\n",
       "    <tr>\n",
       "      <th>74</th>\n",
       "      <td>Other</td>\n",
       "      <td>15</td>\n",
       "      <td>305</td>\n",
       "      <td>32</td>\n",
       "    </tr>\n",
       "  </tbody>\n",
       "</table>\n",
       "<p>75 rows × 4 columns</p>\n",
       "</div>"
      ],
      "text/plain": [
       "         Taxon  Patient  Tissue  Stool\n",
       "0   Firmicutes        1     632    305\n",
       "1   Firmicutes        2     136   4182\n",
       "2   Firmicutes        3    1174    703\n",
       "3   Firmicutes        4     408   3946\n",
       "4   Firmicutes        5     831   8605\n",
       "..         ...      ...     ...    ...\n",
       "70       Other       11     203      6\n",
       "71       Other       12     392      6\n",
       "72       Other       13      28     25\n",
       "73       Other       14      12     22\n",
       "74       Other       15     305     32\n",
       "\n",
       "[75 rows x 4 columns]"
      ]
     },
     "execution_count": 2,
     "metadata": {},
     "output_type": "execute_result"
    }
   ],
   "source": [
    "import pandas as pd\n",
    "\n",
    "\n",
    "data = pd.read_csv(\"microbiome.csv\")\n",
    "# pd.set_option('display.max_rows', data.shape[0]+1)\n",
    "data"
   ]
  },
  {
   "cell_type": "markdown",
   "metadata": {},
   "source": [
    "NHÓM CÁC CÂU LỆNH THỰC HIỆN CÁC PHÉP TÍNH HƯỚNG TÂM\n",
    "\n",
    "Câu 2: Hãy tính trung bình cộng của cột Patient"
   ]
  },
  {
   "cell_type": "code",
   "execution_count": 3,
   "metadata": {},
   "outputs": [
    {
     "name": "stdout",
     "output_type": "stream",
     "text": [
      "Trung binh cac gia tri cua Patient la:\n"
     ]
    },
    {
     "data": {
      "text/plain": [
       "8.0"
      ]
     },
     "execution_count": 3,
     "metadata": {},
     "output_type": "execute_result"
    }
   ],
   "source": [
    "print(\"Trung binh cac gia tri cua Patient la:\")\n",
    "data['Patient'].mean()"
   ]
  },
  {
   "cell_type": "markdown",
   "metadata": {},
   "source": [
    "Câu 3: Hãy tính trung bình cộng (mean) đồng thời cho 3 cột Patient, Tissue và Stool"
   ]
  },
  {
   "cell_type": "code",
   "execution_count": 4,
   "metadata": {},
   "outputs": [
    {
     "data": {
      "text/plain": [
       "Patient      8.000000\n",
       "Tissue     975.000000\n",
       "Stool      723.786667\n",
       "dtype: float64"
      ]
     },
     "execution_count": 4,
     "metadata": {},
     "output_type": "execute_result"
    }
   ],
   "source": [
    "data.mean()"
   ]
  },
  {
   "cell_type": "markdown",
   "metadata": {},
   "source": [
    "Câu 4: Hãy tính trung vị (median) cho 2 cột Tissue và Stool"
   ]
  },
  {
   "cell_type": "code",
   "execution_count": 5,
   "metadata": {},
   "outputs": [
    {
     "name": "stdout",
     "output_type": "stream",
     "text": [
      "Trung vi cua cot Tissue la:  310.0\n",
      "Trung vi cua cot Stool la:  80.0\n"
     ]
    },
    {
     "data": {
      "text/plain": [
       "80.0"
      ]
     },
     "execution_count": 5,
     "metadata": {},
     "output_type": "execute_result"
    }
   ],
   "source": [
    "print(\"Trung vi cua cot Tissue la: \", data.loc[:, \"Tissue\"].median())\n",
    "print(\"Trung vi cua cot Stool la: \", data.loc[:, \"Stool\"].median())\n",
    "\n",
    "# Hoac co the tinh truc tiep bang:\n",
    "data[\"Tissue\"].median()\n",
    "data[\"Stool\"].median()"
   ]
  },
  {
   "cell_type": "markdown",
   "metadata": {},
   "source": [
    "Câu 5: Hãy tính số yếu vị (mode) cho 3 cột Patient, Tissue và Stool"
   ]
  },
  {
   "cell_type": "code",
   "execution_count": 6,
   "metadata": {},
   "outputs": [
    {
     "data": {
      "text/html": [
       "<div>\n",
       "<style scoped>\n",
       "    .dataframe tbody tr th:only-of-type {\n",
       "        vertical-align: middle;\n",
       "    }\n",
       "\n",
       "    .dataframe tbody tr th {\n",
       "        vertical-align: top;\n",
       "    }\n",
       "\n",
       "    .dataframe thead th {\n",
       "        text-align: right;\n",
       "    }\n",
       "</style>\n",
       "<table border=\"1\" class=\"dataframe\">\n",
       "  <thead>\n",
       "    <tr style=\"text-align: right;\">\n",
       "      <th></th>\n",
       "      <th>Taxon</th>\n",
       "      <th>Patient</th>\n",
       "      <th>Tissue</th>\n",
       "      <th>Stool</th>\n",
       "    </tr>\n",
       "  </thead>\n",
       "  <tbody>\n",
       "    <tr>\n",
       "      <th>0</th>\n",
       "      <td>Actinobacteria</td>\n",
       "      <td>1</td>\n",
       "      <td>42.0</td>\n",
       "      <td>0.0</td>\n",
       "    </tr>\n",
       "    <tr>\n",
       "      <th>1</th>\n",
       "      <td>Bacteroidetes</td>\n",
       "      <td>2</td>\n",
       "      <td>51.0</td>\n",
       "      <td>2.0</td>\n",
       "    </tr>\n",
       "    <tr>\n",
       "      <th>2</th>\n",
       "      <td>Firmicutes</td>\n",
       "      <td>3</td>\n",
       "      <td>67.0</td>\n",
       "      <td>NaN</td>\n",
       "    </tr>\n",
       "    <tr>\n",
       "      <th>3</th>\n",
       "      <td>Other</td>\n",
       "      <td>4</td>\n",
       "      <td>106.0</td>\n",
       "      <td>NaN</td>\n",
       "    </tr>\n",
       "    <tr>\n",
       "      <th>4</th>\n",
       "      <td>Proteobacteria</td>\n",
       "      <td>5</td>\n",
       "      <td>678.0</td>\n",
       "      <td>NaN</td>\n",
       "    </tr>\n",
       "    <tr>\n",
       "      <th>5</th>\n",
       "      <td>NaN</td>\n",
       "      <td>6</td>\n",
       "      <td>NaN</td>\n",
       "      <td>NaN</td>\n",
       "    </tr>\n",
       "    <tr>\n",
       "      <th>6</th>\n",
       "      <td>NaN</td>\n",
       "      <td>7</td>\n",
       "      <td>NaN</td>\n",
       "      <td>NaN</td>\n",
       "    </tr>\n",
       "    <tr>\n",
       "      <th>7</th>\n",
       "      <td>NaN</td>\n",
       "      <td>8</td>\n",
       "      <td>NaN</td>\n",
       "      <td>NaN</td>\n",
       "    </tr>\n",
       "    <tr>\n",
       "      <th>8</th>\n",
       "      <td>NaN</td>\n",
       "      <td>9</td>\n",
       "      <td>NaN</td>\n",
       "      <td>NaN</td>\n",
       "    </tr>\n",
       "    <tr>\n",
       "      <th>9</th>\n",
       "      <td>NaN</td>\n",
       "      <td>10</td>\n",
       "      <td>NaN</td>\n",
       "      <td>NaN</td>\n",
       "    </tr>\n",
       "    <tr>\n",
       "      <th>10</th>\n",
       "      <td>NaN</td>\n",
       "      <td>11</td>\n",
       "      <td>NaN</td>\n",
       "      <td>NaN</td>\n",
       "    </tr>\n",
       "    <tr>\n",
       "      <th>11</th>\n",
       "      <td>NaN</td>\n",
       "      <td>12</td>\n",
       "      <td>NaN</td>\n",
       "      <td>NaN</td>\n",
       "    </tr>\n",
       "    <tr>\n",
       "      <th>12</th>\n",
       "      <td>NaN</td>\n",
       "      <td>13</td>\n",
       "      <td>NaN</td>\n",
       "      <td>NaN</td>\n",
       "    </tr>\n",
       "    <tr>\n",
       "      <th>13</th>\n",
       "      <td>NaN</td>\n",
       "      <td>14</td>\n",
       "      <td>NaN</td>\n",
       "      <td>NaN</td>\n",
       "    </tr>\n",
       "    <tr>\n",
       "      <th>14</th>\n",
       "      <td>NaN</td>\n",
       "      <td>15</td>\n",
       "      <td>NaN</td>\n",
       "      <td>NaN</td>\n",
       "    </tr>\n",
       "  </tbody>\n",
       "</table>\n",
       "</div>"
      ],
      "text/plain": [
       "             Taxon  Patient  Tissue  Stool\n",
       "0   Actinobacteria        1    42.0    0.0\n",
       "1    Bacteroidetes        2    51.0    2.0\n",
       "2       Firmicutes        3    67.0    NaN\n",
       "3            Other        4   106.0    NaN\n",
       "4   Proteobacteria        5   678.0    NaN\n",
       "5              NaN        6     NaN    NaN\n",
       "6              NaN        7     NaN    NaN\n",
       "7              NaN        8     NaN    NaN\n",
       "8              NaN        9     NaN    NaN\n",
       "9              NaN       10     NaN    NaN\n",
       "10             NaN       11     NaN    NaN\n",
       "11             NaN       12     NaN    NaN\n",
       "12             NaN       13     NaN    NaN\n",
       "13             NaN       14     NaN    NaN\n",
       "14             NaN       15     NaN    NaN"
      ]
     },
     "execution_count": 6,
     "metadata": {},
     "output_type": "execute_result"
    }
   ],
   "source": [
    "data.mode(dropna = True)"
   ]
  },
  {
   "cell_type": "markdown",
   "metadata": {},
   "source": [
    "NHÓM CÂU LỆNH TÍNH PHƯƠNG SAI - ĐỘ LỆCH CHUẨN\n",
    "\n",
    "Câu 6: Hãy tính phương sai (variance) của cột Tissue"
   ]
  },
  {
   "cell_type": "code",
   "execution_count": 7,
   "metadata": {},
   "outputs": [
    {
     "name": "stdout",
     "output_type": "stream",
     "text": [
      "Phuong sai cua Tissue la:  3306370.027027027\n"
     ]
    }
   ],
   "source": [
    "print(\"Phuong sai cua Tissue la: \",data[\"Tissue\"].var(skipna = True))"
   ]
  },
  {
   "cell_type": "markdown",
   "metadata": {},
   "source": [
    "Câu 7: Hãy tính phương sai của 3 cột Patient, Tissue và Stool"
   ]
  },
  {
   "cell_type": "code",
   "execution_count": 8,
   "metadata": {},
   "outputs": [
    {
     "name": "stdout",
     "output_type": "stream",
     "text": [
      "Phuong sai cua dataframe la: \n"
     ]
    },
    {
     "data": {
      "text/plain": [
       "Patient    1.891892e+01\n",
       "Tissue     3.306370e+06\n",
       "Stool      2.108251e+06\n",
       "dtype: float64"
      ]
     },
     "execution_count": 8,
     "metadata": {},
     "output_type": "execute_result"
    }
   ],
   "source": [
    "print(\"Phuong sai cua dataframe la: \")\n",
    "data.var(skipna = True)"
   ]
  },
  {
   "cell_type": "markdown",
   "metadata": {},
   "source": [
    "Câu 8: Hãy tính độ lệch chuẩn (standard deviation) của 3 cột Patient, Tissue và Stool"
   ]
  },
  {
   "cell_type": "code",
   "execution_count": 10,
   "metadata": {},
   "outputs": [
    {
     "name": "stdout",
     "output_type": "stream",
     "text": [
      "Do lech chuan cua dataframe la: \n"
     ]
    },
    {
     "data": {
      "text/plain": [
       "Patient       4.349588\n",
       "Tissue     1818.342659\n",
       "Stool      1451.981733\n",
       "dtype: float64"
      ]
     },
     "execution_count": 10,
     "metadata": {},
     "output_type": "execute_result"
    }
   ],
   "source": [
    "print(\"Do lech chuan cua dataframe la: \")\n",
    "data.std(skipna = True)"
   ]
  },
  {
   "cell_type": "markdown",
   "metadata": {},
   "source": [
    "NHÓM CÂU LỆNH TÍNH PHÂN VỊ (PERCENTILE)"
   ]
  },
  {
   "cell_type": "markdown",
   "metadata": {},
   "source": [
    "Câu 9: Tính Q1 Q2 và Q3 cho cột Tissue\n",
    "\n",
    "Tham khảo:\n",
    "\n",
    "1) https://www.geeksforgeeks.org/python-pandas-dataframe-quantile/\n",
    "\n",
    "2) https://stackoverflow.com/questions/45926230/how-to-calculate-1st-and-3rd-quartiles/45926291"
   ]
  },
  {
   "cell_type": "code",
   "execution_count": 11,
   "metadata": {},
   "outputs": [
    {
     "data": {
      "text/plain": [
       "0.25    108.0\n",
       "0.50    310.0\n",
       "0.75    835.0\n",
       "Name: Tissue, dtype: float64"
      ]
     },
     "execution_count": 11,
     "metadata": {},
     "output_type": "execute_result"
    }
   ],
   "source": [
    "data[\"Tissue\"].quantile([.25, .5, .75])\n"
   ]
  },
  {
   "cell_type": "markdown",
   "metadata": {},
   "source": [
    "Câu 10: Hãy tính z-score cho cột Tissue\n",
    "\n",
    "Gợi ý: sử dụng hàm zscore của thư viện scipy\n",
    "\n",
    "Tham khảo: https://stackoverflow.com/questions/24761998/pandas-compute-z-score-for-all-columns"
   ]
  },
  {
   "cell_type": "code",
   "execution_count": 13,
   "metadata": {},
   "outputs": [
    {
     "data": {
      "text/plain": [
       "array([-0.18990359, -0.46451635,  0.1101773 , -0.31392225, -0.07972629,\n",
       "       -0.15613064, -0.14228928, -0.44403112, -0.41358011, -0.45012133,\n",
       "       -0.33385382,  1.81598764, -0.48057234, -0.48666254, -0.38423641,\n",
       "        0.36707311,  0.82716022, -0.07529705,  1.90401875,  6.12840462,\n",
       "        0.73912911,  1.15049461, -0.32111977,  0.92792539,  0.12180405,\n",
       "        3.25659734, -0.27239815,  1.09346817,  0.3133686 ,  0.18381338,\n",
       "       -0.22478384,  0.34049768, -0.52597203, -0.39641681, -0.22533749,\n",
       "        0.07031416, -0.16443547, -0.39586316, -0.30506378, -0.23641059,\n",
       "       -0.42852879, -0.5165599 , -0.47946503, -0.51157701, -0.36818042,\n",
       "       -0.4761431 , -0.50271853, -0.5398134 , -0.49275274, -0.46064077,\n",
       "       -0.16443547,  2.13378547, -0.49884295, -0.44624574, -0.48112599,\n",
       "       -0.4993966 , -0.52320376, -0.51157701,  0.82937484, -0.48334061,\n",
       "       -0.47669676, -0.43185072, -0.5165599 , -0.36485849, -0.42797514,\n",
       "       -0.47558945, -0.24803734, -0.34215865, -0.48112599, -0.50271853,\n",
       "       -0.42742148, -0.32278073, -0.52431107, -0.53316954, -0.37094869])"
      ]
     },
     "execution_count": 13,
     "metadata": {},
     "output_type": "execute_result"
    }
   ],
   "source": [
    "from scipy import stats\n",
    "\n",
    "Tissue = data[\"Tissue\"]\n",
    "Z_score = scipy.stats.zscore(Tissue)\n",
    "Z_score"
   ]
  },
  {
   "cell_type": "markdown",
   "metadata": {},
   "source": [
    "NHÓM CÂU LỆNH TỔNG HỢP\n",
    "\n",
    "Câu 11: (bổ sung) Hãy tính giá trị lớn nhất và nhỏ nhất của 3 cột Patient, Tissue và Stool"
   ]
  },
  {
   "cell_type": "code",
   "execution_count": 15,
   "metadata": {},
   "outputs": [
    {
     "name": "stdout",
     "output_type": "stream",
     "text": [
      "Gia tri nho nhat cua dataframe: \n",
      "Patient    1\n",
      "Tissue     0\n",
      "Stool      0\n",
      "dtype: int64\n",
      "Gia tri lon nhat cua dataframe: \n",
      "Patient       15\n",
      "Tissue     12044\n",
      "Stool       8605\n",
      "dtype: int64\n"
     ]
    }
   ],
   "source": [
    "print(\"Gia tri nho nhat cua dataframe: \")\n",
    "print(data.min(numeric_only = True))\n",
    "print(\"Gia tri lon nhat cua dataframe: \") \n",
    "print(data.max(numeric_only = True))\n",
    "# Dung numeric_only de loai cot Taxon "
   ]
  },
  {
   "cell_type": "markdown",
   "metadata": {},
   "source": [
    "Câu 12: Hãy thực thi hàm describe đối với data frame chứa dữ liệu của microbiome.csv\n",
    "\n",
    "Tham khảo: https://pandas.pydata.org/docs/reference/api/pandas.DataFrame.describe.html"
   ]
  },
  {
   "cell_type": "code",
   "execution_count": 16,
   "metadata": {},
   "outputs": [
    {
     "data": {
      "text/html": [
       "<div>\n",
       "<style scoped>\n",
       "    .dataframe tbody tr th:only-of-type {\n",
       "        vertical-align: middle;\n",
       "    }\n",
       "\n",
       "    .dataframe tbody tr th {\n",
       "        vertical-align: top;\n",
       "    }\n",
       "\n",
       "    .dataframe thead th {\n",
       "        text-align: right;\n",
       "    }\n",
       "</style>\n",
       "<table border=\"1\" class=\"dataframe\">\n",
       "  <thead>\n",
       "    <tr style=\"text-align: right;\">\n",
       "      <th></th>\n",
       "      <th>Patient</th>\n",
       "      <th>Tissue</th>\n",
       "      <th>Stool</th>\n",
       "    </tr>\n",
       "  </thead>\n",
       "  <tbody>\n",
       "    <tr>\n",
       "      <th>count</th>\n",
       "      <td>75.000000</td>\n",
       "      <td>75.000000</td>\n",
       "      <td>75.000000</td>\n",
       "    </tr>\n",
       "    <tr>\n",
       "      <th>mean</th>\n",
       "      <td>8.000000</td>\n",
       "      <td>975.000000</td>\n",
       "      <td>723.786667</td>\n",
       "    </tr>\n",
       "    <tr>\n",
       "      <th>std</th>\n",
       "      <td>4.349588</td>\n",
       "      <td>1818.342659</td>\n",
       "      <td>1451.981733</td>\n",
       "    </tr>\n",
       "    <tr>\n",
       "      <th>min</th>\n",
       "      <td>1.000000</td>\n",
       "      <td>0.000000</td>\n",
       "      <td>0.000000</td>\n",
       "    </tr>\n",
       "    <tr>\n",
       "      <th>25%</th>\n",
       "      <td>4.000000</td>\n",
       "      <td>108.000000</td>\n",
       "      <td>16.000000</td>\n",
       "    </tr>\n",
       "    <tr>\n",
       "      <th>50%</th>\n",
       "      <td>8.000000</td>\n",
       "      <td>310.000000</td>\n",
       "      <td>80.000000</td>\n",
       "    </tr>\n",
       "    <tr>\n",
       "      <th>75%</th>\n",
       "      <td>12.000000</td>\n",
       "      <td>835.000000</td>\n",
       "      <td>656.000000</td>\n",
       "    </tr>\n",
       "    <tr>\n",
       "      <th>max</th>\n",
       "      <td>15.000000</td>\n",
       "      <td>12044.000000</td>\n",
       "      <td>8605.000000</td>\n",
       "    </tr>\n",
       "  </tbody>\n",
       "</table>\n",
       "</div>"
      ],
      "text/plain": [
       "         Patient        Tissue        Stool\n",
       "count  75.000000     75.000000    75.000000\n",
       "mean    8.000000    975.000000   723.786667\n",
       "std     4.349588   1818.342659  1451.981733\n",
       "min     1.000000      0.000000     0.000000\n",
       "25%     4.000000    108.000000    16.000000\n",
       "50%     8.000000    310.000000    80.000000\n",
       "75%    12.000000    835.000000   656.000000\n",
       "max    15.000000  12044.000000  8605.000000"
      ]
     },
     "execution_count": 16,
     "metadata": {},
     "output_type": "execute_result"
    }
   ],
   "source": [
    "data.describe()"
   ]
  },
  {
   "cell_type": "markdown",
   "metadata": {},
   "source": [
    "NHÓM CÂU LỆNH ĐỒ HỌA\n",
    "\n",
    "Câu 13: Hãy vẽ biểu đồ box plot cho cột Tissue"
   ]
  },
  {
   "cell_type": "code",
   "execution_count": 17,
   "metadata": {},
   "outputs": [
    {
     "data": {
      "text/plain": [
       "<AxesSubplot:>"
      ]
     },
     "execution_count": 17,
     "metadata": {},
     "output_type": "execute_result"
    },
    {
     "data": {
      "image/png": "[encoded data removed]",
      "text/plain": [
       "<Figure size 432x288 with 1 Axes>"
      ]
     },
     "metadata": {
      "needs_background": "light"
     },
     "output_type": "display_data"
    }
   ],
   "source": [
    "import matplotlib.pyplot as plt\n",
    "import seaborn as sns\n",
    "\n",
    "\n",
    "data.boxplot(column = \"Tissue\", color = 'b')"
   ]
  },
  {
   "cell_type": "code",
   "execution_count": 25,
   "metadata": {},
   "outputs": [
    {
     "data": {
      "text/plain": [
       "[<matplotlib.lines.Line2D at 0x21da3645100>]"
      ]
     },
     "execution_count": 25,
     "metadata": {},
     "output_type": "execute_result"
    },
    {
     "data": {
      "image/png": "[encoded data removed]",
      "text/plain": [
       "<Figure size 432x288 with 1 Axes>"
      ]
     },
     "metadata": {
      "needs_background": "light"
     },
     "output_type": "display_data"
    }
   ],
   "source": [
    "import matplotlib.pyplot as plt\n",
    "\n",
    "plt.plot(data[\"Tissue\"])\n"
   ]
  },
  {
   "cell_type": "markdown",
   "metadata": {},
   "source": [
    "Câu 14: Hãy vẽ biểu đồ box plot cho cả 2 cột Tissue và Stool chung 1 hình (gồm có 2 box plot)"
   ]
  },
  {
   "cell_type": "code",
   "execution_count": 18,
   "metadata": {},
   "outputs": [
    {
     "data": {
      "text/plain": [
       "<AxesSubplot:>"
      ]
     },
     "execution_count": 18,
     "metadata": {},
     "output_type": "execute_result"
    },
    {
     "data": {
      "image/png": "[encoded data removed]",
      "text/plain": [
       "<Figure size 432x288 with 1 Axes>"
      ]
     },
     "metadata": {
      "needs_background": "light"
     },
     "output_type": "display_data"
    }
   ],
   "source": [
    "data.boxplot(column = [\"Tissue\", \"Stool\"])"
   ]
  },
  {
   "cell_type": "markdown",
   "metadata": {},
   "source": [
    "Câu 15: Hãy vẽ lại câu 14 với các box plot nằm ngang"
   ]
  },
  {
   "cell_type": "code",
   "execution_count": 19,
   "metadata": {},
   "outputs": [
    {
     "data": {
      "text/plain": [
       "<AxesSubplot:>"
      ]
     },
     "execution_count": 19,
     "metadata": {},
     "output_type": "execute_result"
    },
    {
     "data": {
      "image/png": "[encoded data removed]",
      "text/plain": [
       "<Figure size 432x288 with 1 Axes>"
      ]
     },
     "metadata": {
      "needs_background": "light"
     },
     "output_type": "display_data"
    }
   ],
   "source": [
    "data.boxplot(['Tissue','Stool'],vert=0)"
   ]
  },
  {
   "cell_type": "markdown",
   "metadata": {},
   "source": [
    "Câu 16: Hãy sử dụng thư viện seaborn để vẽ biểu đồ box plot cho Tissue và Stool"
   ]
  },
  {
   "cell_type": "code",
   "execution_count": 20,
   "metadata": {},
   "outputs": [
    {
     "data": {
      "text/plain": [
       "Text(0.5, 1.0, 'Microbiome')"
      ]
     },
     "execution_count": 20,
     "metadata": {},
     "output_type": "execute_result"
    },
    {
     "data": {
      "image/png": "[encoded data removed]",
      "text/plain": [
       "<Figure size 792x504 with 1 Axes>"
      ]
     },
     "metadata": {
      "needs_background": "light"
     },
     "output_type": "display_data"
    }
   ],
   "source": [
    "plt.figure(figsize= (11, 7))\n",
    "sns.set(style = \"whitegrid\")\n",
    "sns.set_palette(\"bright\")\n",
    "sns.boxplot(x= \"Tissue\", y= \"Taxon\", data= data, hue= data.Taxon)\n",
    "plt.xlabel(\"Tissue\", size= 15)\n",
    "plt.ylabel(\"Taxon\", size= 15)\n",
    "plt.title(\"Microbiome\", size = 20)"
   ]
  }
 ],
 "metadata": {
  "kernelspec": {
   "display_name": "Python 3",
   "language": "python",
   "name": "python3"
  },
  "language_info": {
   "codemirror_mode": {
    "name": "ipython",
    "version": 3
   },
   "file_extension": ".py",
   "mimetype": "text/x-python",
   "name": "python",
   "nbconvert_exporter": "python",
   "pygments_lexer": "ipython3",
   "version": "3.8.5"
  }
 },
 "nbformat": 4,
 "nbformat_minor": 2
}
