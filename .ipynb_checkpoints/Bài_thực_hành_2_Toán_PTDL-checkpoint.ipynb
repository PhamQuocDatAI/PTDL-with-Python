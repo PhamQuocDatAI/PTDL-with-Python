{
 "cells": [
  {
   "cell_type": "markdown",
   "metadata": {},
   "source": [
    "Bài thực hành 2:\n",
    "\n",
    "Mục đích: Kiểm tra dữ liệu có tuân theo phân phối chuẩn $X \\sim N(\\mu, \\sigma)$\n",
    "\n",
    "Có 2 cách tiếp cận:\n",
    "- I/ Sử dụng trực quan (Visualization)\n",
    "    - 1. Tính thống kê mô tả của data: mean, med, std, bách phân vị\n",
    "    - 2. Sử dụng biểu đồ histogram, vẽ thêm normal curve \n",
    "    - 3. QQ-plot để so sánh với đường thẳng chuẩn\n",
    "    - 4. Tìm hiểu thêm về Feature Engineering\n",
    "    \n",
    "Nội dung thực hành:\n",
    "- Viết 1 class:\n",
    "    - input: mảng data\n",
    "    - output: tham số $\\rightarrow$ mean, med, mod, max, min (nằm trong __init__)\n",
    "    - method $\\rightarrow$ quantile() = ?, hist(), qq() (nằm trong def return)"
   ]
  },
  {
   "cell_type": "code",
   "execution_count": 153,
   "metadata": {},
   "outputs": [],
   "source": [
    "import numpy as np\n",
    "import seaborn as sns\n",
    "import pandas as pd\n",
    "import random\n",
    "from scipy import stats\n",
    "from statsmodels.stats.weightstats import ztest\n",
    "import warnings\n",
    "import matplotlib.pyplot as plt\n",
    "import seaborn as sns\n",
    "import statistics \n",
    "import math\n",
    "import statsmodels.api as sm\n",
    "import pylab as py\n",
    "from scipy.stats import norm"
   ]
  },
  {
   "cell_type": "code",
   "execution_count": 182,
   "metadata": {},
   "outputs": [],
   "source": [
    "class Bai2():\n",
    "    \n",
    "    \n",
    "    def __init__(self, data):\n",
    "        data.sort()\n",
    "        self.data = pd.DataFrame(data, columns = ['Bai2'])\n",
    "        self.mean = np.mean(data) #self.data hoặc data đều được\n",
    "        self.mod = stats.mode(data)\n",
    "        self.max = np.max(data)\n",
    "        self.min = np.min(data)\n",
    "        self.std = statistics.stdev(data)\n",
    "        \n",
    "    def quantile(self):\n",
    "        list = [0.1, 0.25, 0.5, 0.75, 0.9]\n",
    "        return self.data.quantile(list, axis = 0)\n",
    "    \n",
    "    def hist(self):\n",
    "        # Nâng cấp sang seaborn hoặc altair \n",
    "        plt.figure()\n",
    "        ax = sns.displot(self.data, kde = True)\n",
    "        plt.axvline(self.mean, color = 'r', linestyle = 'dashed', linewidth = 3)\n",
    "        plt.show()\n",
    "        \n",
    "    def qqplot(self):\n",
    "        plt.figure()\n",
    "        sm.qqplot(self.data, line ='45')\n",
    "        py.show()"
   ]
  },
  {
   "cell_type": "code",
   "execution_count": 188,
   "metadata": {},
   "outputs": [
    {
     "data": {
      "text/html": [
       "<div>\n",
       "<style scoped>\n",
       "    .dataframe tbody tr th:only-of-type {\n",
       "        vertical-align: middle;\n",
       "    }\n",
       "\n",
       "    .dataframe tbody tr th {\n",
       "        vertical-align: top;\n",
       "    }\n",
       "\n",
       "    .dataframe thead th {\n",
       "        text-align: right;\n",
       "    }\n",
       "</style>\n",
       "<table border=\"1\" class=\"dataframe\">\n",
       "  <thead>\n",
       "    <tr style=\"text-align: right;\">\n",
       "      <th></th>\n",
       "      <th>Bai2</th>\n",
       "    </tr>\n",
       "  </thead>\n",
       "  <tbody>\n",
       "    <tr>\n",
       "      <th>0</th>\n",
       "      <td>-2.552990</td>\n",
       "    </tr>\n",
       "    <tr>\n",
       "      <th>1</th>\n",
       "      <td>-1.980796</td>\n",
       "    </tr>\n",
       "    <tr>\n",
       "      <th>2</th>\n",
       "      <td>-1.726283</td>\n",
       "    </tr>\n",
       "    <tr>\n",
       "      <th>3</th>\n",
       "      <td>-1.706270</td>\n",
       "    </tr>\n",
       "    <tr>\n",
       "      <th>4</th>\n",
       "      <td>-1.630198</td>\n",
       "    </tr>\n",
       "    <tr>\n",
       "      <th>...</th>\n",
       "      <td>...</td>\n",
       "    </tr>\n",
       "    <tr>\n",
       "      <th>95</th>\n",
       "      <td>1.867558</td>\n",
       "    </tr>\n",
       "    <tr>\n",
       "      <th>96</th>\n",
       "      <td>1.895889</td>\n",
       "    </tr>\n",
       "    <tr>\n",
       "      <th>97</th>\n",
       "      <td>1.950775</td>\n",
       "    </tr>\n",
       "    <tr>\n",
       "      <th>98</th>\n",
       "      <td>2.240893</td>\n",
       "    </tr>\n",
       "    <tr>\n",
       "      <th>99</th>\n",
       "      <td>2.269755</td>\n",
       "    </tr>\n",
       "  </tbody>\n",
       "</table>\n",
       "<p>100 rows × 1 columns</p>\n",
       "</div>"
      ],
      "text/plain": [
       "        Bai2\n",
       "0  -2.552990\n",
       "1  -1.980796\n",
       "2  -1.726283\n",
       "3  -1.706270\n",
       "4  -1.630198\n",
       "..       ...\n",
       "95  1.867558\n",
       "96  1.895889\n",
       "97  1.950775\n",
       "98  2.240893\n",
       "99  2.269755\n",
       "\n",
       "[100 rows x 1 columns]"
      ]
     },
     "execution_count": 188,
     "metadata": {},
     "output_type": "execute_result"
    }
   ],
   "source": [
    "np.random.seed(0)\n",
    "data = np.random.normal(0, 1, 100)\n",
    "test = Bai2(data)\n",
    "test.data"
   ]
  },
  {
   "cell_type": "code",
   "execution_count": 189,
   "metadata": {},
   "outputs": [
    {
     "name": "stdout",
     "output_type": "stream",
     "text": [
      "Mean:  0.059808015534484955\n",
      "Mod:  ModeResult(mode=array([-2.55298982]), count=array([1]))\n",
      "Max:  2.2697546239876076\n",
      "Min:  -2.5529898158340787\n",
      "Standard Deviation:  1.0129597692685017\n"
     ]
    }
   ],
   "source": [
    "print('Mean: ',test.mean)\n",
    "print('Mod: ', test.mod)\n",
    "print('Max: ', test.max)\n",
    "print('Min: ', test.min)\n",
    "print('Standard Deviation: ', test.std)"
   ]
  },
  {
   "cell_type": "code",
   "execution_count": 190,
   "metadata": {},
   "outputs": [
    {
     "data": {
      "text/plain": [
       "<Figure size 432x288 with 0 Axes>"
      ]
     },
     "metadata": {},
     "output_type": "display_data"
    },
    {
     "data": {
      "image/png": "[encoded data removed]",
      "text/plain": [
       "<Figure size 418.25x360 with 1 Axes>"
      ]
     },
     "metadata": {
      "needs_background": "light"
     },
     "output_type": "display_data"
    }
   ],
   "source": [
    "test.hist()"
   ]
  },
  {
   "cell_type": "code",
   "execution_count": 191,
   "metadata": {},
   "outputs": [
    {
     "data": {
      "text/html": [
       "<div>\n",
       "<style scoped>\n",
       "    .dataframe tbody tr th:only-of-type {\n",
       "        vertical-align: middle;\n",
       "    }\n",
       "\n",
       "    .dataframe tbody tr th {\n",
       "        vertical-align: top;\n",
       "    }\n",
       "\n",
       "    .dataframe thead th {\n",
       "        text-align: right;\n",
       "    }\n",
       "</style>\n",
       "<table border=\"1\" class=\"dataframe\">\n",
       "  <thead>\n",
       "    <tr style=\"text-align: right;\">\n",
       "      <th></th>\n",
       "      <th>Bai2</th>\n",
       "    </tr>\n",
       "  </thead>\n",
       "  <tbody>\n",
       "    <tr>\n",
       "      <th>0.10</th>\n",
       "      <td>-1.236623</td>\n",
       "    </tr>\n",
       "    <tr>\n",
       "      <th>0.25</th>\n",
       "      <td>-0.643857</td>\n",
       "    </tr>\n",
       "    <tr>\n",
       "      <th>0.50</th>\n",
       "      <td>0.094096</td>\n",
       "    </tr>\n",
       "    <tr>\n",
       "      <th>0.75</th>\n",
       "      <td>0.737077</td>\n",
       "    </tr>\n",
       "    <tr>\n",
       "      <th>0.90</th>\n",
       "      <td>1.471248</td>\n",
       "    </tr>\n",
       "  </tbody>\n",
       "</table>\n",
       "</div>"
      ],
      "text/plain": [
       "          Bai2\n",
       "0.10 -1.236623\n",
       "0.25 -0.643857\n",
       "0.50  0.094096\n",
       "0.75  0.737077\n",
       "0.90  1.471248"
      ]
     },
     "execution_count": 191,
     "metadata": {},
     "output_type": "execute_result"
    }
   ],
   "source": [
    "test.quantile()"
   ]
  },
  {
   "cell_type": "code",
   "execution_count": 192,
   "metadata": {},
   "outputs": [
    {
     "data": {
      "text/plain": [
       "<Figure size 432x288 with 0 Axes>"
      ]
     },
     "metadata": {},
     "output_type": "display_data"
    },
    {
     "data": {
      "image/png": "[encoded data removed]",
      "text/plain": [
       "<Figure size 432x288 with 1 Axes>"
      ]
     },
     "metadata": {
      "needs_background": "light"
     },
     "output_type": "display_data"
    }
   ],
   "source": [
    "test.qqplot()"
   ]
  },
  {
   "cell_type": "markdown",
   "metadata": {},
   "source": [
    "Chốt lại:\n",
    "- 1. Luyện tập xây dựng lại class\n",
    "- 2. Cải tiến biểu đồ bằng seaborn hoặc altair"
   ]
  }
 ],
 "metadata": {
  "kernelspec": {
   "display_name": "Python 3",
   "language": "python",
   "name": "python3"
  },
  "language_info": {
   "codemirror_mode": {
    "name": "ipython",
    "version": 3
   },
   "file_extension": ".py",
   "mimetype": "text/x-python",
   "name": "python",
   "nbconvert_exporter": "python",
   "pygments_lexer": "ipython3",
   "version": "3.8.5"
  }
 },
 "nbformat": 4,
 "nbformat_minor": 4
}
