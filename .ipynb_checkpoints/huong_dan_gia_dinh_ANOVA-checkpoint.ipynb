{
 "cells": [
  {
   "cell_type": "markdown",
   "metadata": {
    "id": "G4j2WpULPHXm"
   },
   "source": [
    "PHÂN TÍCH ANOVA MỘT CHIỀU\n",
    "\n",
    "Phân tích ANOVA chấp nhận các giả định sau:\n",
    "\n",
    "(1) Tất cả các nhóm đều độc lập với nhau\n",
    "\n",
    "(2) Dữ liệu của mỗi nhóm đều tuân theo phân phối chuẩn. Tính chất này có thể được kiểm định bằng phương pháp Shapiro-Wilks.\n",
    "\n",
    "(3) Phương sai (variance) của các nhóm bằng nhau. Tính chất này có thể được kiểm định bằng phương pháp kiểm định Bartlett hay Levene.\n",
    "\n",
    "Nếu dữ liệu hiện có thỏa mãn các tính chất trên thì chúng ta mới tiến hành kiểm định ANOVA. Do vậy trước khi tiến hành kiểm định ANOVA, chúng ta cần thực hiện kiểm tra tập dữ liệu cần thỏa mãn 3 tính chất trên.\n",
    "    "
   ]
  },
  {
   "cell_type": "code",
   "execution_count": 1,
   "metadata": {
    "id": "H8r5rHJrPHXz"
   },
   "outputs": [],
   "source": [
    "import numpy as np\n",
    "import pandas as pd\n",
    "import matplotlib.pyplot as plt\n",
    "from scipy import stats as st"
   ]
  },
  {
   "cell_type": "code",
   "execution_count": 2,
   "metadata": {},
   "outputs": [
    {
     "name": "stdout",
     "output_type": "stream",
     "text": [
      "[14.87303609  8.16473076  8.41548474  6.78109413 12.59622289  3.09538391\n",
      " 15.23443529  7.7163793  10.95711729  9.25188887 14.38632381  3.81957787\n",
      "  9.03274839  8.84783694 13.40130833  6.7003262   9.48271538  7.36642475\n",
      " 10.12664124 11.74844564  6.69814247 13.43417113 12.70477216 11.50748302\n",
      " 12.70256785  7.94881642  9.63132932  7.1926917   9.19633576 11.5910664\n",
      "  7.92501774  8.80973942  7.9384819   7.46438308  7.98626161  9.9620062\n",
      "  6.64806895 10.70324709 14.97940653 12.22613248  9.42449334  7.33711311\n",
      "  7.75852512 15.0773638  10.15242326  8.08901306 10.57274645 16.30076541\n",
      " 10.36047686 11.85160933 10.90051096  8.94325046  6.57244541  8.95197183\n",
      "  9.3733173  11.75986957 12.51695024 12.79330624 10.85676198 12.65542349\n",
      "  7.73680618 13.75860447 11.53878946  9.10572149 11.46555444  9.77328486\n",
      " 13.39488816 14.55945045 16.55672622  5.81051099  5.66765858  8.48660241\n",
      " 10.48011121 12.62850676 10.94690484  3.93339635  9.08138796 12.48392393\n",
      " 10.69028421 12.28603354  9.33301557  9.39772579 10.55968417 11.23015494\n",
      " 10.59489916 10.35702594  7.98801314 11.13269136 10.36546381 13.38845172\n",
      " 13.59675364 10.55546925  8.87414515  8.08380878 11.27048306 10.23202021\n",
      "  8.96843897 10.13079057  8.13999747 12.0940961 ]\n"
     ]
    }
   ],
   "source": [
    "np.random.seed(1)\n",
    "sample_1 = st.norm.rvs(loc = 10, scale = 3, size = 100)\n",
    "print(sample_1)"
   ]
  },
  {
   "cell_type": "code",
   "execution_count": 3,
   "metadata": {
    "id": "oq4ES_ThPHX1"
   },
   "outputs": [
    {
     "name": "stdout",
     "output_type": "stream",
     "text": [
      "[11 12 11 12 12 11 14 11 11 10 11 10 11 11 13 12 14 12 14 12 10 11 15 12\n",
      " 10 13 11 13 12 10 12 12 11 11 12 13 12 14 13 13 12 13 11 10 11 12 10 11\n",
      " 11 13 12 13 11 12 10 12 10 10 12 13 13 12 11 11 15 13 13 10 11 12 14 12\n",
      " 10 14 13 11 14 12 11 10 11 14 12 14 12 13 12 12 12 10 11 11 11 11 14 11\n",
      " 13 19 12 14]\n"
     ]
    }
   ],
   "source": [
    "np.random.seed(2)\n",
    "sample_2 = st.poisson.rvs(loc = 10, mu = 2, size = 100)\n",
    "print(sample_2)"
   ]
  },
  {
   "cell_type": "markdown",
   "metadata": {
    "id": "lTRMVIJtPHX1"
   },
   "source": [
    "Hãy tham khảo các hướng dẫn sau để kiểm định tính chất thứ 2 bằng phương pháp Shapiro-Wilks đối với sample_1 và sample_2\n",
    "\n",
    "(1) [Tài liệu tham khảo scipy](https://docs.scipy.org/doc/scipy/reference/generated/scipy.stats.shapiro.html)\n",
    "\n",
    "(2) [Hướng dẫn cụ thể của statology](https://www.statology.org/shapiro-wilk-test-python/)"
   ]
  },
  {
   "cell_type": "code",
   "execution_count": 4,
   "metadata": {
    "id": "G3zHp6UFPHX2"
   },
   "outputs": [
    {
     "name": "stdout",
     "output_type": "stream",
     "text": [
      "ShapiroResult(statistic=0.9920046329498291, pvalue=0.8215612173080444)\n",
      "Mẫu 1 tuân theo phân phối chuẩn.\n"
     ]
    }
   ],
   "source": [
    "alpha = 0.05\n",
    "shapiro_test1 = st.shapiro(sample_1)\n",
    "print(shapiro_test1)\n",
    "if (shapiro_test1.statistic > 0) and (shapiro_test1.pvalue > alpha):\n",
    "    print('Mẫu 1 tuân theo phân phối chuẩn.')\n",
    "else:\n",
    "    print('Mẫu 1 không tuân theo phân phối chuẩn.')"
   ]
  },
  {
   "cell_type": "code",
   "execution_count": 5,
   "metadata": {
    "scrolled": true
   },
   "outputs": [
    {
     "name": "stdout",
     "output_type": "stream",
     "text": [
      "ShapiroResult(statistic=0.8791595697402954, pvalue=1.6724470697226934e-07)\n",
      "Mẫu 2 không tuân theo phân phối chuẩn.\n"
     ]
    }
   ],
   "source": [
    "shapiro_test2 = st.shapiro(sample_2)\n",
    "print(shapiro_test2)\n",
    "if (shapiro_test2.statistic > 0) and (shapiro_test2.pvalue > alpha):\n",
    "    print('Mẫu 2 tuân theo phân phối chuẩn.')\n",
    "else:\n",
    "    print('Mẫu 2 không tuân theo phân phối chuẩn.')"
   ]
  },
  {
   "cell_type": "markdown",
   "metadata": {
    "id": "5HqD1Bc_PHX3"
   },
   "source": [
    "Hãy tham khảo các hướng dẫn sau để kiểm định tính chất thứ 3 bằng kiểm định Bartlett hoặc kiểm định Levene\n",
    "\n",
    "(1) [Hướng dẫn tổng quát](https://www.marsja.se/levenes-bartletts-test-of-equality-homogeneity-of-variance-in-python/)\n",
    "\n",
    "(2) [Hướng dẫn ở stackoverflow](https://stackoverflow.com/questions/36141254/how-to-test-for-homoscedasticity-having-the-same-population-variance-in-python)\n",
    "\n",
    "(3) Sử dụng bài giảng về kiểm định Bartlett và Levene ở buổi trước"
   ]
  },
  {
   "cell_type": "code",
   "execution_count": null,
   "metadata": {
    "id": "TDyGOlYjPHX4"
   },
   "outputs": [],
   "source": []
  }
 ],
 "metadata": {
  "colab": {
   "name": "huong-dan-gia-dinh-ANOVA.ipynb",
   "provenance": []
  },
  "kernelspec": {
   "display_name": "Python 3",
   "language": "python",
   "name": "python3"
  },
  "language_info": {
   "codemirror_mode": {
    "name": "ipython",
    "version": 3
   },
   "file_extension": ".py",
   "mimetype": "text/x-python",
   "name": "python",
   "nbconvert_exporter": "python",
   "pygments_lexer": "ipython3",
   "version": "3.8.5"
  }
 },
 "nbformat": 4,
 "nbformat_minor": 1
}
