{
 "cells": [
  {
   "cell_type": "markdown",
   "metadata": {},
   "source": [
    "XÂY DỰNG CHƯƠNG TRÌNH KIỂM ĐỊNH Z (HOẶC T) CHO CÁC BÀI TẬP SAU\n",
    "\n",
    "Gợi ý:\n",
    "\n",
    "- Số liệu được sinh ngẫu nhiên theo phân phối chuẩn\n",
    "- Sử dụng gói phần mềm statsmodels để tiến hành kiểm định\n",
    "- Đối với các bài tập kiểm định giả thuyết thì sinh viên cần phát biểu các giả thuyết (bằng tiếng Việt) $H_{0}$ và $H_{a}$ trước khi lập trình kiểm định"
   ]
  },
  {
   "cell_type": "markdown",
   "metadata": {},
   "source": [
    "Bài 1: Bạn là thanh tra Q / C cho Gallo. Độ lệch chuẩn của mẫu đối với chai 2 lít là 0,05 lít. Một mẫu ngẫu nhiên gồm 100 chai cho thấy sample trung bình = 1,99 lít. Ước lượng khoảng tin cậy 90% của lượng trung bình thực trong chai 2 lít là bao nhiêu?\n",
    "\n",
    "Giả thuyết:\n",
    "\n",
    "- $\\overline{\\rm X} = 1.99$\n",
    "- $\\mu = 2$\n",
    "- $\\sigma = 0.05$\n",
    "- $\\alpha = 0.1$\n",
    "- $n =100$\n",
    "\n",
    "=> Khoảng ước lượng cho $\\mu = 95$% có dạng:\n",
    "\n",
    "($\\mu_{1};\\mu_{2}$) = ( $\\overline{\\rm X} - \\epsilon; \\overline{\\rm X} + \\epsilon$)\n",
    "\n",
    "Với $\\epsilon = \\left(\\frac{\\sigma}{\\sqrt(n)}.t_{\\frac{1-\\alpha}{2}}\\right)$\n",
    "\n",
    "$t_{\\frac{1-\\alpha}{2}}$ = $t_{\\frac{1 - 0.1}{2}}$ = $t_{0.45}$ = 1.645"
   ]
  },
  {
   "cell_type": "code",
   "execution_count": 1,
   "metadata": {},
   "outputs": [],
   "source": [
    "import numpy as np\n",
    "import pandas as pd\n",
    "import random\n",
    "from scipy import stats\n",
    "from statsmodels.stats.weightstats import ztest\n",
    "import warnings\n",
    "import matplotlib.pyplot as plt\n",
    "import seaborn as sns\n",
    "import statistics \n",
    "import math"
   ]
  },
  {
   "cell_type": "code",
   "execution_count": 2,
   "metadata": {},
   "outputs": [],
   "source": [
    "warnings.filterwarnings('ignore')"
   ]
  },
  {
   "cell_type": "code",
   "execution_count": 71,
   "metadata": {},
   "outputs": [],
   "source": [
    "class Bai1():\n",
    "\n",
    "\n",
    "    def __init__(self):\n",
    "        mean = 1.9\n",
    "        std = 0.1\n",
    "        count = 100\n",
    "        self.array = np.random.normal(mean, std, count)\n",
    "            \n",
    "    def arrange(self):\n",
    "        return self.array.sort()\n",
    "    \n",
    "    def mean(self):\n",
    "        return (sum(self.array)/len(self.array))\n",
    "    \n",
    "    def sig(self):\n",
    "        return statistics.stdev(self.array)"
   ]
  },
  {
   "cell_type": "code",
   "execution_count": 72,
   "metadata": {},
   "outputs": [
    {
     "name": "stdout",
     "output_type": "stream",
     "text": [
      "[1.66669001 1.71999088 1.72162031 1.72980615 1.73296426 1.74518557\n",
      " 1.75005041 1.75061123 1.7522742  1.77886552 1.78155538 1.78511527\n",
      " 1.79205292 1.79545297 1.80046388 1.80174051 1.80437814 1.80845195\n",
      " 1.80985768 1.81247703 1.81432836 1.81882317 1.82154637 1.83111858\n",
      " 1.83680249 1.83725706 1.83738032 1.84082165 1.84696816 1.84823449\n",
      " 1.85005614 1.85297921 1.85668086 1.85970867 1.86008319 1.86713349\n",
      " 1.87182974 1.87313504 1.87478469 1.8805246  1.88285122 1.88958475\n",
      " 1.8907083  1.89399875 1.89449193 1.89676956 1.89731626 1.89981716\n",
      " 1.89995506 1.90107263 1.90564323 1.90566369 1.91434791 1.91763134\n",
      " 1.91850035 1.92105801 1.92220326 1.92504039 1.92546876 1.92609887\n",
      " 1.93239572 1.93915725 1.93959942 1.94337804 1.94924093 1.95635248\n",
      " 1.95661885 1.96129505 1.9615566  1.96247865 1.96355331 1.9687973\n",
      " 1.97358713 1.9787398  1.98621375 1.9880333  1.98937442 1.99149732\n",
      " 1.99379974 1.99522777 2.00197513 2.00291392 2.00894057 2.01298904\n",
      " 2.01322306 2.01444017 2.01586426 2.0161753  2.03072329 2.03289387\n",
      " 2.03747434 2.04172939 2.04573808 2.06993504 2.07019478 2.07711246\n",
      " 2.09183484 2.10314492 2.15199573 2.16159277]\n"
     ]
    }
   ],
   "source": [
    "random.seed(0)\n",
    "sample1 = Bai1()\n",
    "sample1.arrange()\n",
    "print(sample1.array)"
   ]
  },
  {
   "cell_type": "code",
   "execution_count": 73,
   "metadata": {},
   "outputs": [
    {
     "data": {
      "text/html": [
       "<div>\n",
       "<style scoped>\n",
       "    .dataframe tbody tr th:only-of-type {\n",
       "        vertical-align: middle;\n",
       "    }\n",
       "\n",
       "    .dataframe tbody tr th {\n",
       "        vertical-align: top;\n",
       "    }\n",
       "\n",
       "    .dataframe thead th {\n",
       "        text-align: right;\n",
       "    }\n",
       "</style>\n",
       "<table border=\"1\" class=\"dataframe\">\n",
       "  <thead>\n",
       "    <tr style=\"text-align: right;\">\n",
       "      <th></th>\n",
       "      <th>Liter</th>\n",
       "    </tr>\n",
       "  </thead>\n",
       "  <tbody>\n",
       "    <tr>\n",
       "      <th>0</th>\n",
       "      <td>1.666690</td>\n",
       "    </tr>\n",
       "    <tr>\n",
       "      <th>1</th>\n",
       "      <td>1.719991</td>\n",
       "    </tr>\n",
       "    <tr>\n",
       "      <th>2</th>\n",
       "      <td>1.721620</td>\n",
       "    </tr>\n",
       "    <tr>\n",
       "      <th>3</th>\n",
       "      <td>1.729806</td>\n",
       "    </tr>\n",
       "    <tr>\n",
       "      <th>4</th>\n",
       "      <td>1.732964</td>\n",
       "    </tr>\n",
       "    <tr>\n",
       "      <th>...</th>\n",
       "      <td>...</td>\n",
       "    </tr>\n",
       "    <tr>\n",
       "      <th>95</th>\n",
       "      <td>2.077112</td>\n",
       "    </tr>\n",
       "    <tr>\n",
       "      <th>96</th>\n",
       "      <td>2.091835</td>\n",
       "    </tr>\n",
       "    <tr>\n",
       "      <th>97</th>\n",
       "      <td>2.103145</td>\n",
       "    </tr>\n",
       "    <tr>\n",
       "      <th>98</th>\n",
       "      <td>2.151996</td>\n",
       "    </tr>\n",
       "    <tr>\n",
       "      <th>99</th>\n",
       "      <td>2.161593</td>\n",
       "    </tr>\n",
       "  </tbody>\n",
       "</table>\n",
       "<p>100 rows × 1 columns</p>\n",
       "</div>"
      ],
      "text/plain": [
       "       Liter\n",
       "0   1.666690\n",
       "1   1.719991\n",
       "2   1.721620\n",
       "3   1.729806\n",
       "4   1.732964\n",
       "..       ...\n",
       "95  2.077112\n",
       "96  2.091835\n",
       "97  2.103145\n",
       "98  2.151996\n",
       "99  2.161593\n",
       "\n",
       "[100 rows x 1 columns]"
      ]
     },
     "execution_count": 73,
     "metadata": {},
     "output_type": "execute_result"
    }
   ],
   "source": [
    "test = pd.DataFrame(sample1.array)\n",
    "test.columns = ['Liter']\n",
    "test"
   ]
  },
  {
   "cell_type": "code",
   "execution_count": 74,
   "metadata": {},
   "outputs": [
    {
     "name": "stdout",
     "output_type": "stream",
     "text": [
      "1.8961393100735489\n",
      "--------------------------------------------------\n",
      "0.10164246494012155\n",
      "--------------------------------------------------\n"
     ]
    }
   ],
   "source": [
    "mean_bt1 = sample1.mean()\n",
    "print(mean)\n",
    "print('-'*50)\n",
    "std_bt1 = sample1.sig()\n",
    "print(std)\n",
    "print('-'*50)\n",
    "n = 100"
   ]
  },
  {
   "cell_type": "code",
   "execution_count": 75,
   "metadata": {},
   "outputs": [
    {
     "data": {
      "text/plain": [
       "0.016720185482649995"
      ]
     },
     "execution_count": 75,
     "metadata": {},
     "output_type": "execute_result"
    }
   ],
   "source": [
    "epsilon_bt1 = (std/math.sqrt(n))*1.645\n",
    "epsilon_bt1"
   ]
  },
  {
   "cell_type": "code",
   "execution_count": 76,
   "metadata": {},
   "outputs": [
    {
     "name": "stdout",
     "output_type": "stream",
     "text": [
      "Vậy uớc lượng khoảng tin cậy 90% của lượng trung bình thực trong chai 2 lít là:\n",
      "( 1.8794191245908989 : 1.9128594955561988 )\n"
     ]
    }
   ],
   "source": [
    "print('Vậy uớc lượng khoảng tin cậy 90% của lượng trung bình thực trong chai 2 lít là:')\n",
    "print('(',mean - epsilon,':',mean + epsilon,')')\n"
   ]
  },
  {
   "cell_type": "markdown",
   "metadata": {},
   "source": [
    "Bài 2: Bạn là một nhà phân tích nghiên cứu thời gian trong lĩnh vực sản xuất. Bạn đã ghi lại thời gian tác vụ sau (tối thiểu): 3.6, 4.2, 4.0, 3.5, 3.8, 3.1. Ước tính khoảng tin cậy 90% của thời gian thực hiện nhiệm vụ trung bình của tổng thể là bao nhiêu?"
   ]
  },
  {
   "cell_type": "code",
   "execution_count": 92,
   "metadata": {},
   "outputs": [],
   "source": [
    "class Bai2():\n",
    "    \n",
    "    \n",
    "    def __init__(self):\n",
    "        count = int(input('Nhập count: '))\n",
    "        data = []\n",
    "        for x in range(count):\n",
    "            a = np.random.uniform(3, 5)\n",
    "            data.append(round(a, 4))        \n",
    "        self.data = data\n",
    "    \n",
    "    def arrange(self):\n",
    "        return self.data.sort()\n",
    "    \n",
    "    def mean(self):\n",
    "        return (sum(self.data)/len(self.data))\n",
    "    \n",
    "    def std(self):\n",
    "        return statistics.stdev(self.data)\n",
    "    \n",
    "    def epsilon(self):\n",
    "        return statistics.stdev(self.data)/math.sqrt(len(self.data))"
   ]
  },
  {
   "cell_type": "code",
   "execution_count": 94,
   "metadata": {},
   "outputs": [
    {
     "name": "stdout",
     "output_type": "stream",
     "text": [
      "Nhập count: 10\n"
     ]
    },
    {
     "data": {
      "text/plain": [
       "[4.2646, 3.6884, 3.1713, 4.7813, 3.5239, 4.6628, 3.53, 4.4786, 4.0657, 3.721]"
      ]
     },
     "execution_count": 94,
     "metadata": {},
     "output_type": "execute_result"
    }
   ],
   "source": [
    "bt2 = Bai2()\n",
    "bt2.data"
   ]
  },
  {
   "cell_type": "code",
   "execution_count": 95,
   "metadata": {},
   "outputs": [
    {
     "data": {
      "text/html": [
       "<div>\n",
       "<style scoped>\n",
       "    .dataframe tbody tr th:only-of-type {\n",
       "        vertical-align: middle;\n",
       "    }\n",
       "\n",
       "    .dataframe tbody tr th {\n",
       "        vertical-align: top;\n",
       "    }\n",
       "\n",
       "    .dataframe thead th {\n",
       "        text-align: right;\n",
       "    }\n",
       "</style>\n",
       "<table border=\"1\" class=\"dataframe\">\n",
       "  <thead>\n",
       "    <tr style=\"text-align: right;\">\n",
       "      <th></th>\n",
       "      <th>Time</th>\n",
       "    </tr>\n",
       "  </thead>\n",
       "  <tbody>\n",
       "    <tr>\n",
       "      <th>0</th>\n",
       "      <td>4.2646</td>\n",
       "    </tr>\n",
       "    <tr>\n",
       "      <th>1</th>\n",
       "      <td>3.6884</td>\n",
       "    </tr>\n",
       "    <tr>\n",
       "      <th>2</th>\n",
       "      <td>3.1713</td>\n",
       "    </tr>\n",
       "    <tr>\n",
       "      <th>3</th>\n",
       "      <td>4.7813</td>\n",
       "    </tr>\n",
       "    <tr>\n",
       "      <th>4</th>\n",
       "      <td>3.5239</td>\n",
       "    </tr>\n",
       "    <tr>\n",
       "      <th>5</th>\n",
       "      <td>4.6628</td>\n",
       "    </tr>\n",
       "    <tr>\n",
       "      <th>6</th>\n",
       "      <td>3.5300</td>\n",
       "    </tr>\n",
       "    <tr>\n",
       "      <th>7</th>\n",
       "      <td>4.4786</td>\n",
       "    </tr>\n",
       "    <tr>\n",
       "      <th>8</th>\n",
       "      <td>4.0657</td>\n",
       "    </tr>\n",
       "    <tr>\n",
       "      <th>9</th>\n",
       "      <td>3.7210</td>\n",
       "    </tr>\n",
       "  </tbody>\n",
       "</table>\n",
       "</div>"
      ],
      "text/plain": [
       "     Time\n",
       "0  4.2646\n",
       "1  3.6884\n",
       "2  3.1713\n",
       "3  4.7813\n",
       "4  3.5239\n",
       "5  4.6628\n",
       "6  3.5300\n",
       "7  4.4786\n",
       "8  4.0657\n",
       "9  3.7210"
      ]
     },
     "execution_count": 95,
     "metadata": {},
     "output_type": "execute_result"
    }
   ],
   "source": [
    "data2 = pd.DataFrame(bt2.data)\n",
    "data2.columns = ['Time']\n",
    "data2"
   ]
  },
  {
   "cell_type": "code",
   "execution_count": 96,
   "metadata": {},
   "outputs": [
    {
     "name": "stdout",
     "output_type": "stream",
     "text": [
      "Giá trị trung bình là:\n",
      "3.9888\n",
      "--------------------------------------------------\n",
      "Độ lệch chuẩn của data là:\n",
      "0.5438\n",
      "--------------------------------------------------\n",
      "Epsilon là: \n",
      "0.0167\n"
     ]
    }
   ],
   "source": [
    "print('Giá trị trung bình là:')\n",
    "mean_bt2 = bt2.mean()\n",
    "print(round(mean_bt2, 4))\n",
    "print('-'*50)\n",
    "print('Độ lệch chuẩn của data là:')\n",
    "std_bt2 = bt2.std()\n",
    "print(round(std_bt2, 4))\n",
    "print('-'*50)\n",
    "print('Epsilon là: ')\n",
    "epsilon_bt2 = bt2.epsilon()\n",
    "print(round(epsilon, 4))"
   ]
  },
  {
   "cell_type": "code",
   "execution_count": 97,
   "metadata": {},
   "outputs": [
    {
     "name": "stdout",
     "output_type": "stream",
     "text": [
      "Vậy ước tính khoảng tin cậy 90% của thời gian thực hiện nhiệm vụ trung bình của tổng thể là:\n",
      "( 3.816806898383439 : 4.160713101616562 )\n"
     ]
    }
   ],
   "source": [
    "print('Vậy ước tính khoảng tin cậy 90% của thời gian thực hiện nhiệm vụ trung bình của tổng thể là:')\n",
    "print('(',mean_bt2 - epsilon_bt2,':',mean_bt2 + epsilon_bt2,')')"
   ]
  },
  {
   "cell_type": "markdown",
   "metadata": {},
   "source": [
    "Bài 3: Một hộp cốm trung bình có 368 gam cốm? Một mẫu ngẫu nhiên gồm 25 hộp có $\\overline{\\rm X}$ = 372,5. Công ty đã quy định $\\sigma$ là 25 gram. Kiểm định ở mức ý nghĩa .05.\n",
    "\n",
    "- $n = 25$\n",
    "- $\\overline{\\rm X} = 372.5$\n",
    "- $\\sigma = 25$\n",
    "- $\\alpha = 0.05$\n",
    "\n",
    "=> $H_{0}: \\overline{\\rm X} = 368? $\n",
    "\n",
    "Vì $n = 25$ (<30) và X ~ $N(\\mu, \\sigma^2)$ nên:\n",
    "- $df = 24; \\alpha = 0.05$\n",
    " => $t_{\\frac{1-\\alpha}{2}}$ = $t_{\\frac{1 - 0.05}{2}}$ = $t_{0.475}$ = 2.064\n",
    "- $\\epsilon = \\left(\\frac{\\sigma}{\\sqrt(n)}.t_{\\frac{1-\\alpha}{2}}\\right)$"
   ]
  },
  {
   "cell_type": "code",
   "execution_count": 100,
   "metadata": {},
   "outputs": [],
   "source": [
    "class Bai3():\n",
    "    \n",
    "    \n",
    "    def __init__(self):\n",
    "        count = 25\n",
    "        sig = 25\n",
    "        mean = 372.5\n",
    "        self.data = np.random.normal(mean, sig, count)\n",
    "    \n",
    "    def arrange(self):\n",
    "        return self.data.sort()\n",
    "    \n",
    "    def mean(self):\n",
    "        return sum(self.data)/len(self.data)\n",
    "    \n",
    "    def std(self):\n",
    "        return statistics.stdev(self.data)\n",
    "    \n",
    "    def epsilon(self):\n",
    "        return statistics.stdev(self.data)/math.sqrt(len(self.data))"
   ]
  },
  {
   "cell_type": "code",
   "execution_count": 101,
   "metadata": {},
   "outputs": [
    {
     "data": {
      "text/plain": [
       "array([346.16495667, 350.75299758, 376.84608697, 394.46871137,\n",
       "       401.90752725, 394.28034466, 382.53041289, 377.27111305,\n",
       "       346.04915696, 394.9226052 , 341.21756862, 354.02852023,\n",
       "       378.13691871, 361.25820029, 374.87449861, 358.56891219,\n",
       "       432.96535287, 361.83880207, 391.97513272, 384.35010816,\n",
       "       387.07028151, 368.6669071 , 389.5496925 , 365.66017952,\n",
       "       419.26522136])"
      ]
     },
     "execution_count": 101,
     "metadata": {},
     "output_type": "execute_result"
    }
   ],
   "source": [
    "bt3 = Bai3()\n",
    "bt3.data"
   ]
  },
  {
   "cell_type": "code",
   "execution_count": 104,
   "metadata": {},
   "outputs": [
    {
     "data": {
      "text/html": [
       "<div>\n",
       "<style scoped>\n",
       "    .dataframe tbody tr th:only-of-type {\n",
       "        vertical-align: middle;\n",
       "    }\n",
       "\n",
       "    .dataframe tbody tr th {\n",
       "        vertical-align: top;\n",
       "    }\n",
       "\n",
       "    .dataframe thead th {\n",
       "        text-align: right;\n",
       "    }\n",
       "</style>\n",
       "<table border=\"1\" class=\"dataframe\">\n",
       "  <thead>\n",
       "    <tr style=\"text-align: right;\">\n",
       "      <th></th>\n",
       "      <th>Khối lượng tịnh (gram)</th>\n",
       "    </tr>\n",
       "  </thead>\n",
       "  <tbody>\n",
       "    <tr>\n",
       "      <th>0</th>\n",
       "      <td>346.164957</td>\n",
       "    </tr>\n",
       "    <tr>\n",
       "      <th>1</th>\n",
       "      <td>350.752998</td>\n",
       "    </tr>\n",
       "    <tr>\n",
       "      <th>2</th>\n",
       "      <td>376.846087</td>\n",
       "    </tr>\n",
       "    <tr>\n",
       "      <th>3</th>\n",
       "      <td>394.468711</td>\n",
       "    </tr>\n",
       "    <tr>\n",
       "      <th>4</th>\n",
       "      <td>401.907527</td>\n",
       "    </tr>\n",
       "    <tr>\n",
       "      <th>5</th>\n",
       "      <td>394.280345</td>\n",
       "    </tr>\n",
       "    <tr>\n",
       "      <th>6</th>\n",
       "      <td>382.530413</td>\n",
       "    </tr>\n",
       "    <tr>\n",
       "      <th>7</th>\n",
       "      <td>377.271113</td>\n",
       "    </tr>\n",
       "    <tr>\n",
       "      <th>8</th>\n",
       "      <td>346.049157</td>\n",
       "    </tr>\n",
       "    <tr>\n",
       "      <th>9</th>\n",
       "      <td>394.922605</td>\n",
       "    </tr>\n",
       "    <tr>\n",
       "      <th>10</th>\n",
       "      <td>341.217569</td>\n",
       "    </tr>\n",
       "    <tr>\n",
       "      <th>11</th>\n",
       "      <td>354.028520</td>\n",
       "    </tr>\n",
       "    <tr>\n",
       "      <th>12</th>\n",
       "      <td>378.136919</td>\n",
       "    </tr>\n",
       "    <tr>\n",
       "      <th>13</th>\n",
       "      <td>361.258200</td>\n",
       "    </tr>\n",
       "    <tr>\n",
       "      <th>14</th>\n",
       "      <td>374.874499</td>\n",
       "    </tr>\n",
       "    <tr>\n",
       "      <th>15</th>\n",
       "      <td>358.568912</td>\n",
       "    </tr>\n",
       "    <tr>\n",
       "      <th>16</th>\n",
       "      <td>432.965353</td>\n",
       "    </tr>\n",
       "    <tr>\n",
       "      <th>17</th>\n",
       "      <td>361.838802</td>\n",
       "    </tr>\n",
       "    <tr>\n",
       "      <th>18</th>\n",
       "      <td>391.975133</td>\n",
       "    </tr>\n",
       "    <tr>\n",
       "      <th>19</th>\n",
       "      <td>384.350108</td>\n",
       "    </tr>\n",
       "    <tr>\n",
       "      <th>20</th>\n",
       "      <td>387.070282</td>\n",
       "    </tr>\n",
       "    <tr>\n",
       "      <th>21</th>\n",
       "      <td>368.666907</td>\n",
       "    </tr>\n",
       "    <tr>\n",
       "      <th>22</th>\n",
       "      <td>389.549693</td>\n",
       "    </tr>\n",
       "    <tr>\n",
       "      <th>23</th>\n",
       "      <td>365.660180</td>\n",
       "    </tr>\n",
       "    <tr>\n",
       "      <th>24</th>\n",
       "      <td>419.265221</td>\n",
       "    </tr>\n",
       "  </tbody>\n",
       "</table>\n",
       "</div>"
      ],
      "text/plain": [
       "    Khối lượng tịnh (gram)\n",
       "0               346.164957\n",
       "1               350.752998\n",
       "2               376.846087\n",
       "3               394.468711\n",
       "4               401.907527\n",
       "5               394.280345\n",
       "6               382.530413\n",
       "7               377.271113\n",
       "8               346.049157\n",
       "9               394.922605\n",
       "10              341.217569\n",
       "11              354.028520\n",
       "12              378.136919\n",
       "13              361.258200\n",
       "14              374.874499\n",
       "15              358.568912\n",
       "16              432.965353\n",
       "17              361.838802\n",
       "18              391.975133\n",
       "19              384.350108\n",
       "20              387.070282\n",
       "21              368.666907\n",
       "22              389.549693\n",
       "23              365.660180\n",
       "24              419.265221"
      ]
     },
     "execution_count": 104,
     "metadata": {},
     "output_type": "execute_result"
    }
   ],
   "source": [
    "data3 = pd.DataFrame(bt3.data)\n",
    "data3.columns = ['Khối lượng tịnh (gram)']\n",
    "data3"
   ]
  },
  {
   "cell_type": "code",
   "execution_count": 111,
   "metadata": {},
   "outputs": [
    {
     "name": "stdout",
     "output_type": "stream",
     "text": [
      "Giá trị trung bình là:\n",
      "377.3848\n",
      "--------------------------------------------------\n",
      "Độ lệch chuẩn của data là:\n",
      "22.7806\n",
      "--------------------------------------------------\n",
      "Epsilon là: \n",
      "0.0167\n"
     ]
    }
   ],
   "source": [
    "print('Giá trị trung bình là:')\n",
    "mean_bt3 = bt3.mean()\n",
    "print(round(mean_bt3, 4))\n",
    "print('-'*50)\n",
    "print('Độ lệch chuẩn của data là:')\n",
    "std_bt3 = bt3.std()\n",
    "print(round(std_bt3, 4))\n",
    "print('-'*50)\n",
    "print('Epsilon là: ')\n",
    "epsilon_bt3 = bt3.epsilon()\n",
    "print(round(epsilon, 4))\n",
    "h0 = 368\n",
    "muy1 = mean_bt3 - epsilon_bt3\n",
    "muy2 = mean_bt3 + epsilon_bt3"
   ]
  },
  {
   "cell_type": "code",
   "execution_count": 116,
   "metadata": {},
   "outputs": [
    {
     "name": "stdout",
     "output_type": "stream",
     "text": [
      "Vậy ước tính khoảng tin cậy 95% của khối lượng trong mỗi gói cốm là:\n",
      "( 372.8286861483832 : 381.9409305776652 )\n",
      "Bác bỏ giả thuyết H0\n"
     ]
    }
   ],
   "source": [
    "print('Vậy ước tính khoảng tin cậy 95% của khối lượng trong mỗi gói cốm là:')\n",
    "print('(',muy1,':',muy2,')')\n",
    "if (h0 > muy1) and (h0 < muy2):\n",
    "    print('Không đủ bằng chứng bác bỏ giả thuyết H0')\n",
    "else:\n",
    "    print('Bác bỏ giả thuyết H0')"
   ]
  }
 ],
 "metadata": {
  "kernelspec": {
   "display_name": "Python 3",
   "language": "python",
   "name": "python3"
  },
  "language_info": {
   "codemirror_mode": {
    "name": "ipython",
    "version": 3
   },
   "file_extension": ".py",
   "mimetype": "text/x-python",
   "name": "python",
   "nbconvert_exporter": "python",
   "pygments_lexer": "ipython3",
   "version": "3.8.5"
  }
 },
 "nbformat": 4,
 "nbformat_minor": 4
}
