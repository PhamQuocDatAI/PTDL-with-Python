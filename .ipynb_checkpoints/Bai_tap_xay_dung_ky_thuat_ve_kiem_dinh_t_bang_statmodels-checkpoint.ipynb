{
 "cells": [
  {
   "cell_type": "markdown",
   "metadata": {},
   "source": [
    "Đề bài: Khảo sát thời gian (tuần) mang thai của thai phụ không hút thuốc. Tiến hành lấy mẫu, người ta có số liệu cho như bảng sau:\n",
    "\n",
    "| Thời gian | Số thai phụ |\n",
    "| --- | --- |\n",
    "| 30-34 | 7 |\n",
    "| 34-38 | 10|\n",
    "| 38-42 | 59|\n",
    "| 42-46 | 41|\n",
    "| 46-50 | 4 |\n",
    "\n",
    "Những thai phụ có thời gian mang thai dưới 36 tuần là thai phụ sinh non.\n",
    "Trong kiểm định giả thuyết H: “tỷ lệ thai phụ sinh non là 12%”, độ tin cậy là 95% mức ý nghĩa\n",
    "tối đa để giả thuyết H được chấp nhận là:\n",
    "\n",
    "Xây dựng giả thuyết:\n",
    "$$H_{0}: \\mu = 0.12$$\n",
    "Giả thuyết thay thế:\n",
    "$$H_{a}: \\mu_{1} \\neq \\mu_{2}$$\n"
   ]
  },
  {
   "cell_type": "code",
   "execution_count": 2,
   "metadata": {},
   "outputs": [],
   "source": [
    "import numpy as np\n",
    "import pandas as pd\n",
    "import random\n",
    "from scipy import stats\n",
    "from statsmodels.stats.weightstats import ztest\n",
    "import warnings\n",
    "import matplotlib.pyplot as plt\n",
    "import seaborn as sns\n",
    "import statistics "
   ]
  },
  {
   "cell_type": "code",
   "execution_count": 3,
   "metadata": {},
   "outputs": [],
   "source": [
    "# Tắt các cảnh báo của scipy\n",
    "warnings.filterwarnings('ignore')"
   ]
  },
  {
   "cell_type": "code",
   "execution_count": 9,
   "metadata": {},
   "outputs": [],
   "source": [
    "class Stat():\n",
    "\n",
    "\n",
    "    def __init__(self):\n",
    "        low = int(input(\"Nhap gia tri low: \"))\n",
    "        high = int(input('Nhap gia tri high: '))\n",
    "        count = int(input('Nhap so luong cua mau: '))\n",
    "        self.array = []\n",
    "        for x in range(count):\n",
    "            a = np.random.randint(low, high)\n",
    "            self.array.append(a)\n",
    "            \n",
    "    def arrange(self):\n",
    "        return self.array.sort()\n",
    "    \n",
    "        "
   ]
  },
  {
   "cell_type": "code",
   "execution_count": 10,
   "metadata": {},
   "outputs": [
    {
     "name": "stdout",
     "output_type": "stream",
     "text": [
      "Nhập giá trị cho mẫu 1 ứng với row 1\n",
      "Nhap gia tri low: 30\n",
      "Nhap gia tri high: 34\n",
      "Nhap so luong cua mau: 7\n",
      "--------------------------------------------------\n",
      "Nhập giá trị cho mẫu 2 ứng với row 2\n",
      "Nhap gia tri low: 34\n",
      "Nhap gia tri high: 38\n",
      "Nhap so luong cua mau: 10\n",
      "--------------------------------------------------\n",
      "Nhập giá trị cho mẫu 3 ứng với row 3\n",
      "Nhap gia tri low: 38\n",
      "Nhap gia tri high: 42\n",
      "Nhap so luong cua mau: 59\n",
      "--------------------------------------------------\n",
      "Nhập giá trị cho mẫu 4 ứng với row 4\n",
      "Nhap gia tri low: 42\n",
      "Nhap gia tri high: 46\n",
      "Nhap so luong cua mau: 41\n",
      "--------------------------------------------------\n",
      "Nhập giá trị cho mẫu 5 ứng với row 5\n",
      "Nhap gia tri low: 46\n",
      "Nhap gia tri high: 50\n",
      "Nhap so luong cua mau: 4\n",
      "--------------------------------------------------\n"
     ]
    }
   ],
   "source": [
    "random.seed(0)\n",
    "print(\"Nhập giá trị cho mẫu 1 ứng với row 1\")\n",
    "sample1 = Stat()\n",
    "sample1.arrange()\n",
    "print('-'*50)\n",
    "print(\"Nhập giá trị cho mẫu 2 ứng với row 2\")\n",
    "sample2 = Stat()\n",
    "sample2.arrange()\n",
    "print('-'*50)\n",
    "print(\"Nhập giá trị cho mẫu 3 ứng với row 3\")\n",
    "sample3 = Stat()\n",
    "sample3.arrange()\n",
    "print('-'*50)\n",
    "print(\"Nhập giá trị cho mẫu 4 ứng với row 4\")\n",
    "sample4 = Stat()\n",
    "sample4.arrange()\n",
    "print('-'*50)\n",
    "print(\"Nhập giá trị cho mẫu 5 ứng với row 5\")\n",
    "sample5 = Stat()\n",
    "sample5.arrange()\n",
    "print('-'*50)\n"
   ]
  },
  {
   "cell_type": "code",
   "execution_count": 13,
   "metadata": {},
   "outputs": [
    {
     "data": {
      "text/html": [
       "<div>\n",
       "<style scoped>\n",
       "    .dataframe tbody tr th:only-of-type {\n",
       "        vertical-align: middle;\n",
       "    }\n",
       "\n",
       "    .dataframe tbody tr th {\n",
       "        vertical-align: top;\n",
       "    }\n",
       "\n",
       "    .dataframe thead th {\n",
       "        text-align: right;\n",
       "    }\n",
       "</style>\n",
       "<table border=\"1\" class=\"dataframe\">\n",
       "  <thead>\n",
       "    <tr style=\"text-align: right;\">\n",
       "      <th></th>\n",
       "      <th>Time</th>\n",
       "    </tr>\n",
       "  </thead>\n",
       "  <tbody>\n",
       "    <tr>\n",
       "      <th>0</th>\n",
       "      <td>30</td>\n",
       "    </tr>\n",
       "    <tr>\n",
       "      <th>1</th>\n",
       "      <td>31</td>\n",
       "    </tr>\n",
       "    <tr>\n",
       "      <th>2</th>\n",
       "      <td>31</td>\n",
       "    </tr>\n",
       "    <tr>\n",
       "      <th>3</th>\n",
       "      <td>32</td>\n",
       "    </tr>\n",
       "    <tr>\n",
       "      <th>4</th>\n",
       "      <td>32</td>\n",
       "    </tr>\n",
       "    <tr>\n",
       "      <th>...</th>\n",
       "      <td>...</td>\n",
       "    </tr>\n",
       "    <tr>\n",
       "      <th>116</th>\n",
       "      <td>45</td>\n",
       "    </tr>\n",
       "    <tr>\n",
       "      <th>117</th>\n",
       "      <td>46</td>\n",
       "    </tr>\n",
       "    <tr>\n",
       "      <th>118</th>\n",
       "      <td>47</td>\n",
       "    </tr>\n",
       "    <tr>\n",
       "      <th>119</th>\n",
       "      <td>47</td>\n",
       "    </tr>\n",
       "    <tr>\n",
       "      <th>120</th>\n",
       "      <td>48</td>\n",
       "    </tr>\n",
       "  </tbody>\n",
       "</table>\n",
       "<p>121 rows × 1 columns</p>\n",
       "</div>"
      ],
      "text/plain": [
       "     Time\n",
       "0      30\n",
       "1      31\n",
       "2      31\n",
       "3      32\n",
       "4      32\n",
       "..    ...\n",
       "116    45\n",
       "117    46\n",
       "118    47\n",
       "119    47\n",
       "120    48\n",
       "\n",
       "[121 rows x 1 columns]"
      ]
     },
     "execution_count": 13,
     "metadata": {},
     "output_type": "execute_result"
    }
   ],
   "source": [
    "sample = []\n",
    "for x in sample1.array:\n",
    "    sample.append(x)\n",
    "for x in sample2.array:\n",
    "    sample.append(x)\n",
    "for x in sample3.array:\n",
    "    sample.append(x)\n",
    "for x in sample4.array:\n",
    "    sample.append(x)\n",
    "for x in sample5.array:\n",
    "    sample.append(x)\n",
    "    \n",
    "sample = pd.DataFrame(sample)\n",
    "#pd.set_option('display.max_rows', sample.shape[0]+1)\n",
    "sample.columns = ['Time']\n",
    "sample"
   ]
  },
  {
   "cell_type": "code",
   "execution_count": 14,
   "metadata": {},
   "outputs": [
    {
     "data": {
      "image/png": "[encoded data removed]",
      "text/plain": [
       "<Figure size 432x288 with 1 Axes>"
      ]
     },
     "metadata": {
      "needs_background": "light"
     },
     "output_type": "display_data"
    }
   ],
   "source": [
    "plt.hist(sample, 50)\n",
    "plt.show()"
   ]
  }
 ],
 "metadata": {
  "kernelspec": {
   "display_name": "Python 3",
   "language": "python",
   "name": "python3"
  },
  "language_info": {
   "codemirror_mode": {
    "name": "ipython",
    "version": 3
   },
   "file_extension": ".py",
   "mimetype": "text/x-python",
   "name": "python",
   "nbconvert_exporter": "python",
   "pygments_lexer": "ipython3",
   "version": "3.8.5"
  }
 },
 "nbformat": 4,
 "nbformat_minor": 4
}
