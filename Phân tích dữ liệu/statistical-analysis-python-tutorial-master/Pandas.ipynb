{
 "cells": [
  {
   "cell_type": "markdown",
   "metadata": {},
   "source": [
    "### Pandas\n",
    "1. Series \n",
    "2. DataFrame\n",
    "3. Import Data\n",
    "4. Microsoft Excel\n",
    "5. Pandas Fundamentals\n",
    "6. Manipulating indices\n",
    "7. Indexing and Selection\n",
    "8. Operations\n",
    "9. Sorting and Ranking\n",
    "10. Hierarchical indexing\n",
    "11. Missing data\n",
    "12. Data summarization\n",
    "13. Writing Data to Files"
   ]
  }
 ],
 "metadata": {
  "kernelspec": {
   "display_name": "Python 3",
   "language": "python",
   "name": "python3"
  },
  "language_info": {
   "codemirror_mode": {
    "name": "ipython",
    "version": 3
   },
   "file_extension": ".py",
   "mimetype": "text/x-python",
   "name": "python",
   "nbconvert_exporter": "python",
   "pygments_lexer": "ipython3",
   "version": "3.8.5"
  }
 },
 "nbformat": 4,
 "nbformat_minor": 4
}
