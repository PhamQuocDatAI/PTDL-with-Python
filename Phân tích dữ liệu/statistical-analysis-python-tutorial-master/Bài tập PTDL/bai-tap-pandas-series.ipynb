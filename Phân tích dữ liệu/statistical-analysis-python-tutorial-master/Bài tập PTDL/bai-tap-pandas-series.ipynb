{
 "cells": [
  {
   "cell_type": "markdown",
   "metadata": {},
   "source": [
    "Câu 1: Hãy tạo 1 đối tượng kiểu Series có tối thiểu 10 phần tử (kiểu số) với giá trị tùy ý thích của bạn. \n",
    "       In giá trị của Series đó ra màn hình"
   ]
  },
  {
   "cell_type": "code",
   "execution_count": 29,
   "metadata": {},
   "outputs": [
    {
     "name": "stdout",
     "output_type": "stream",
     "text": [
      "Nhập giá trị của n: 15\n",
      "[-959, -163, 705, -421, 536, 360, -316, 859, 968, -252, 616, 193, 723, -307, -195]\n",
      "0    -959\n",
      "1    -163\n",
      "2     705\n",
      "3    -421\n",
      "4     536\n",
      "5     360\n",
      "6    -316\n",
      "7     859\n",
      "8     968\n",
      "9    -252\n",
      "10    616\n",
      "11    193\n",
      "12    723\n",
      "13   -307\n",
      "14   -195\n",
      "dtype: int64\n"
     ]
    }
   ],
   "source": [
    "import pandas as pd\n",
    "import random \n",
    "\n",
    "n = int(input(\"Nhập giá trị của n: \"))\n",
    "test = []\n",
    "for item in range(n):\n",
    "    a = random.randint(-1000, 1000)\n",
    "    test.append(a)\n",
    "\n",
    "print(test)\n",
    "print(pd.Series(test))"
   ]
  },
  {
   "cell_type": "markdown",
   "metadata": {},
   "source": [
    "Câu 2: Hãy tạo 1 đối tượng kiểu Series với giá trị khởi tạo hình thành từ dữ liệu kiểu Dictionary. In kết quả ra màn hình"
   ]
  },
  {
   "cell_type": "code",
   "execution_count": 28,
   "metadata": {},
   "outputs": [
    {
     "data": {
      "text/plain": [
       "Trung       1\n",
       "Nam         2\n",
       "Hai         3\n",
       "Thanh       4\n",
       "Ngan        5\n",
       "Mai         6\n",
       "Tam         7\n",
       "Thien       8\n",
       "Jack        9\n",
       "Lucifer    10\n",
       "dtype: int64"
      ]
     },
     "execution_count": 28,
     "metadata": {},
     "output_type": "execute_result"
    }
   ],
   "source": [
    "import pandas as pd\n",
    "\n",
    "\n",
    "dic = {\"Trung\": 1, \"Nam\": 2, \"Hai\": 3, \"Thanh\": 4, \"Ngan\": 5, \n",
    "       \"Mai\": 6, \"Tam\": 7, \"Thien\":8, \"Jack\": 9, \"Lucifer\": 10}\n",
    "\n",
    "ser = pd.Series(dic)\n",
    "ser"
   ]
  },
  {
   "cell_type": "markdown",
   "metadata": {},
   "source": [
    "Câu 3: Sử dụng series ở câu 1, hãy thay đổi giá trị của cột index từ kiểu số theo kiểu ký tự với giá trị do bạn tự xác định."
   ]
  },
  {
   "cell_type": "code",
   "execution_count": 35,
   "metadata": {},
   "outputs": [
    {
     "data": {
      "text/plain": [
       "A11      -959\n",
       "B22      -163\n",
       "C33       705\n",
       "D33      -421\n",
       "E22       536\n",
       "F11       360\n",
       "GG22     -316\n",
       "Hkdg11    859\n",
       "I77       968\n",
       "J12311   -252\n",
       "11        616\n",
       "22        193\n",
       "33        723\n",
       "77       -307\n",
       "1177     -195\n",
       "dtype: int64"
      ]
     },
     "execution_count": 35,
     "metadata": {},
     "output_type": "execute_result"
    }
   ],
   "source": [
    "series = pd.Series((test), \n",
    "                   index = [\"A11\", \"B22\", \"C33\",\n",
    "                            \"D33\", \"E22\", \"F11\", \n",
    "                            \"GG22\", \"Hkdg11\", \"I77\",\n",
    "                            \"J12311\", \"11\", \"22\", \n",
    "                            \"33\", \"77\", \"1177\"]\n",
    "                  )\n",
    "series"
   ]
  },
  {
   "cell_type": "markdown",
   "metadata": {},
   "source": [
    "Câu 4: Sử dụng series ở câu 2, hãy truy cập đến phần tử thứ 5 và in ra màn hình"
   ]
  },
  {
   "cell_type": "code",
   "execution_count": 8,
   "metadata": {},
   "outputs": [
    {
     "data": {
      "text/plain": [
       "5"
      ]
     },
     "execution_count": 8,
     "metadata": {},
     "output_type": "execute_result"
    }
   ],
   "source": [
    "ser[4]"
   ]
  },
  {
   "cell_type": "markdown",
   "metadata": {},
   "source": [
    "Câu 5: Sử dụng series ở câu 3, hãy truy cập đến 1 phần tử dựa theo chỉ số kiểu ký tự do bạn lựa chọn và in ra màn hình"
   ]
  },
  {
   "cell_type": "code",
   "execution_count": 17,
   "metadata": {},
   "outputs": [
    {
     "data": {
      "text/plain": [
       "(-850, -983, -391)"
      ]
     },
     "execution_count": 17,
     "metadata": {},
     "output_type": "execute_result"
    }
   ],
   "source": [
    "series[\"A\"], series[\"C\"], series[\"F\"]"
   ]
  },
  {
   "cell_type": "markdown",
   "metadata": {},
   "source": [
    "Câu 6: Sử dụng series ở câu 3, hãy tìm ra tính chất đặc thù trong các chỉ số kiểu kí tự, thực hiện vòng lặp for duyệt trên các chỉ mục kiểu kí tự này để lọc ra những phần tử thỏa mãn điều kiện và in ra màn hình"
   ]
  },
  {
   "cell_type": "code",
   "execution_count": 36,
   "metadata": {},
   "outputs": [
    {
     "data": {
      "text/plain": [
       "GG22   -316\n",
       "I77     968\n",
       "77     -307\n",
       "1177   -195\n",
       "dtype: int64"
      ]
     },
     "execution_count": 36,
     "metadata": {},
     "output_type": "execute_result"
    }
   ],
   "source": [
    "series[[name.endswith(\"77\") or name.startswith(\"G\") for name in series.index]]"
   ]
  },
  {
   "cell_type": "markdown",
   "metadata": {},
   "source": [
    "Câu 7: Sử dụng series ở câu 1, hãy đổi tên cột index thành 'STT' và đặt tên cho series là 'Gia_tri'. In kết quả ra màn hình "
   ]
  },
  {
   "cell_type": "code",
   "execution_count": 40,
   "metadata": {},
   "outputs": [
    {
     "data": {
      "text/plain": [
       "STT\n",
       "A11      -959\n",
       "B22      -163\n",
       "C33       705\n",
       "D33      -421\n",
       "E22       536\n",
       "F11       360\n",
       "GG22     -316\n",
       "Hkdg11    859\n",
       "I77       968\n",
       "J12311   -252\n",
       "11        616\n",
       "22        193\n",
       "33        723\n",
       "77       -307\n",
       "1177     -195\n",
       "Name: Gia_tri, dtype: int64"
      ]
     },
     "execution_count": 40,
     "metadata": {},
     "output_type": "execute_result"
    }
   ],
   "source": [
    "series.index.name = \"STT\"\n",
    "series.name = \"Gia_tri\"\n",
    "series"
   ]
  },
  {
   "cell_type": "markdown",
   "metadata": {},
   "source": [
    "Câu 8: Hãy áp dụng hàm logarith của gói numpy với series ở câu 1 và in kết quả ra màn hình"
   ]
  },
  {
   "cell_type": "code",
   "execution_count": 41,
   "metadata": {},
   "outputs": [
    {
     "name": "stderr",
     "output_type": "stream",
     "text": [
      "C:\\Users\\PC\\anaconda3\\lib\\site-packages\\pandas\\core\\series.py:726: RuntimeWarning: invalid value encountered in log\n",
      "  result = getattr(ufunc, method)(*inputs, **kwargs)\n"
     ]
    },
    {
     "data": {
      "text/plain": [
       "STT\n",
       "A11            NaN\n",
       "B22            NaN\n",
       "C33       6.558198\n",
       "D33            NaN\n",
       "E22       6.284134\n",
       "F11       5.886104\n",
       "GG22           NaN\n",
       "Hkdg11    6.755769\n",
       "I77       6.875232\n",
       "J12311         NaN\n",
       "11        6.423247\n",
       "22        5.262690\n",
       "33        6.583409\n",
       "77             NaN\n",
       "1177           NaN\n",
       "Name: Gia_tri, dtype: float64"
      ]
     },
     "execution_count": 41,
     "metadata": {},
     "output_type": "execute_result"
    }
   ],
   "source": [
    "import numpy as np\n",
    "\n",
    "\n",
    "np.log(series)"
   ]
  },
  {
   "cell_type": "markdown",
   "metadata": {},
   "source": [
    "Câu 9: Lọc các giá trị của series 1 > 15 và in ra màn hình"
   ]
  },
  {
   "cell_type": "code",
   "execution_count": 44,
   "metadata": {},
   "outputs": [
    {
     "data": {
      "text/plain": [
       "STT\n",
       "B22      -163\n",
       "C33       705\n",
       "D33      -421\n",
       "E22       536\n",
       "F11       360\n",
       "GG22     -316\n",
       "Hkdg11    859\n",
       "I77       968\n",
       "J12311   -252\n",
       "11        616\n",
       "22        193\n",
       "33        723\n",
       "77       -307\n",
       "1177     -195\n",
       "Name: Gia_tri, dtype: int64"
      ]
     },
     "execution_count": 44,
     "metadata": {},
     "output_type": "execute_result"
    }
   ],
   "source": [
    "series[1:15]"
   ]
  }
 ],
 "metadata": {
  "kernelspec": {
   "display_name": "Python 3",
   "language": "python",
   "name": "python3"
  },
  "language_info": {
   "codemirror_mode": {
    "name": "ipython",
    "version": 3
   },
   "file_extension": ".py",
   "mimetype": "text/x-python",
   "name": "python",
   "nbconvert_exporter": "python",
   "pygments_lexer": "ipython3",
   "version": "3.8.5"
  }
 },
 "nbformat": 4,
 "nbformat_minor": 2
}
