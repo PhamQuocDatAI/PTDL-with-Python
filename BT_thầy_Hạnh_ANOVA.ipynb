{
 "metadata": {
  "language_info": {
   "codemirror_mode": {
    "name": "ipython",
    "version": 3
   },
   "file_extension": ".py",
   "mimetype": "text/x-python",
   "name": "python",
   "nbconvert_exporter": "python",
   "pygments_lexer": "ipython3",
   "version": "3.9.0"
  },
  "orig_nbformat": 2,
  "kernelspec": {
   "name": "python390jvsc74a57bd0ee5cc6fef2d70a7e71ee3826687cbd150f18158e0b1eef11d4f4f92bb920e304",
   "display_name": "Python 3.9.0 64-bit"
  },
  "metadata": {
   "interpreter": {
    "hash": "ee5cc6fef2d70a7e71ee3826687cbd150f18158e0b1eef11d4f4f92bb920e304"
   }
  }
 },
 "nbformat": 4,
 "nbformat_minor": 2,
 "cells": [
  {
   "source": [
    "### Dữ liệu cho phần bài tập"
   ],
   "cell_type": "markdown",
   "metadata": {}
  },
  {
   "cell_type": "code",
   "execution_count": 2,
   "metadata": {},
   "outputs": [],
   "source": [
    "import pandas as pd"
   ]
  },
  {
   "cell_type": "code",
   "execution_count": 3,
   "metadata": {},
   "outputs": [],
   "source": [
    "cl_df = pd.io.stata.read_stata(\"https://www.stata-press.com/data/r17/cholesterol.dta\")"
   ]
  },
  {
   "cell_type": "code",
   "execution_count": 4,
   "metadata": {},
   "outputs": [
    {
     "output_type": "execute_result",
     "data": {
      "text/plain": [
       "     race agegrp        chol  agemidpt     meangrp\n",
       "0   White  10–19  188.962997      15.0  179.853088\n",
       "1   Black  10–19  179.729446      15.0  179.853088\n",
       "2   Other  10–19  169.779404      15.0  179.853088\n",
       "3   Black  10–19  176.760956      15.0  179.853088\n",
       "4   Other  10–19  182.571182      15.0  179.853088\n",
       "5   Black  10–19  181.808868      15.0  179.853088\n",
       "6   Black  10–19  187.074249      15.0  179.853088\n",
       "7   White  10–19  178.875641      15.0  179.853088\n",
       "8   Other  10–19  180.069916      15.0  179.853088\n",
       "9   White  10–19  192.537003      15.0  179.853088\n",
       "10  White  10–19  165.221497      15.0  179.853088\n",
       "11  White  10–19  204.766571      15.0  179.853088\n",
       "12  Black  10–19  170.780914      15.0  179.853088\n",
       "13  Other  10–19  174.505630      15.0  179.853088\n",
       "14  Other  10–19  174.352081      15.0  179.853088\n",
       "15  White  20–29  183.454910      25.0  188.056671\n",
       "16  Other  20–29  179.689636      25.0  188.056671\n",
       "17  Other  20–29  182.051834      25.0  188.056671\n",
       "18  White  20–29  201.929932      25.0  188.056671\n",
       "19  Black  20–29  196.190964      25.0  188.056671"
      ],
      "text/html": "<div>\n<style scoped>\n    .dataframe tbody tr th:only-of-type {\n        vertical-align: middle;\n    }\n\n    .dataframe tbody tr th {\n        vertical-align: top;\n    }\n\n    .dataframe thead th {\n        text-align: right;\n    }\n</style>\n<table border=\"1\" class=\"dataframe\">\n  <thead>\n    <tr style=\"text-align: right;\">\n      <th></th>\n      <th>race</th>\n      <th>agegrp</th>\n      <th>chol</th>\n      <th>agemidpt</th>\n      <th>meangrp</th>\n    </tr>\n  </thead>\n  <tbody>\n    <tr>\n      <th>0</th>\n      <td>White</td>\n      <td>10–19</td>\n      <td>188.962997</td>\n      <td>15.0</td>\n      <td>179.853088</td>\n    </tr>\n    <tr>\n      <th>1</th>\n      <td>Black</td>\n      <td>10–19</td>\n      <td>179.729446</td>\n      <td>15.0</td>\n      <td>179.853088</td>\n    </tr>\n    <tr>\n      <th>2</th>\n      <td>Other</td>\n      <td>10–19</td>\n      <td>169.779404</td>\n      <td>15.0</td>\n      <td>179.853088</td>\n    </tr>\n    <tr>\n      <th>3</th>\n      <td>Black</td>\n      <td>10–19</td>\n      <td>176.760956</td>\n      <td>15.0</td>\n      <td>179.853088</td>\n    </tr>\n    <tr>\n      <th>4</th>\n      <td>Other</td>\n      <td>10–19</td>\n      <td>182.571182</td>\n      <td>15.0</td>\n      <td>179.853088</td>\n    </tr>\n    <tr>\n      <th>5</th>\n      <td>Black</td>\n      <td>10–19</td>\n      <td>181.808868</td>\n      <td>15.0</td>\n      <td>179.853088</td>\n    </tr>\n    <tr>\n      <th>6</th>\n      <td>Black</td>\n      <td>10–19</td>\n      <td>187.074249</td>\n      <td>15.0</td>\n      <td>179.853088</td>\n    </tr>\n    <tr>\n      <th>7</th>\n      <td>White</td>\n      <td>10–19</td>\n      <td>178.875641</td>\n      <td>15.0</td>\n      <td>179.853088</td>\n    </tr>\n    <tr>\n      <th>8</th>\n      <td>Other</td>\n      <td>10–19</td>\n      <td>180.069916</td>\n      <td>15.0</td>\n      <td>179.853088</td>\n    </tr>\n    <tr>\n      <th>9</th>\n      <td>White</td>\n      <td>10–19</td>\n      <td>192.537003</td>\n      <td>15.0</td>\n      <td>179.853088</td>\n    </tr>\n    <tr>\n      <th>10</th>\n      <td>White</td>\n      <td>10–19</td>\n      <td>165.221497</td>\n      <td>15.0</td>\n      <td>179.853088</td>\n    </tr>\n    <tr>\n      <th>11</th>\n      <td>White</td>\n      <td>10–19</td>\n      <td>204.766571</td>\n      <td>15.0</td>\n      <td>179.853088</td>\n    </tr>\n    <tr>\n      <th>12</th>\n      <td>Black</td>\n      <td>10–19</td>\n      <td>170.780914</td>\n      <td>15.0</td>\n      <td>179.853088</td>\n    </tr>\n    <tr>\n      <th>13</th>\n      <td>Other</td>\n      <td>10–19</td>\n      <td>174.505630</td>\n      <td>15.0</td>\n      <td>179.853088</td>\n    </tr>\n    <tr>\n      <th>14</th>\n      <td>Other</td>\n      <td>10–19</td>\n      <td>174.352081</td>\n      <td>15.0</td>\n      <td>179.853088</td>\n    </tr>\n    <tr>\n      <th>15</th>\n      <td>White</td>\n      <td>20–29</td>\n      <td>183.454910</td>\n      <td>25.0</td>\n      <td>188.056671</td>\n    </tr>\n    <tr>\n      <th>16</th>\n      <td>Other</td>\n      <td>20–29</td>\n      <td>179.689636</td>\n      <td>25.0</td>\n      <td>188.056671</td>\n    </tr>\n    <tr>\n      <th>17</th>\n      <td>Other</td>\n      <td>20–29</td>\n      <td>182.051834</td>\n      <td>25.0</td>\n      <td>188.056671</td>\n    </tr>\n    <tr>\n      <th>18</th>\n      <td>White</td>\n      <td>20–29</td>\n      <td>201.929932</td>\n      <td>25.0</td>\n      <td>188.056671</td>\n    </tr>\n    <tr>\n      <th>19</th>\n      <td>Black</td>\n      <td>20–29</td>\n      <td>196.190964</td>\n      <td>25.0</td>\n      <td>188.056671</td>\n    </tr>\n  </tbody>\n</table>\n</div>"
     },
     "metadata": {},
     "execution_count": 4
    }
   ],
   "source": [
    "cl_df.head(20)"
   ]
  },
  {
   "source": [
    "### Bài tập về nhà (phần 2)\n",
    "\n",
    "So sánh trung bình cholesterol của các nhóm sắc tộc khác nhau (race vs chol) -> Anova one-way."
   ],
   "cell_type": "markdown",
   "metadata": {}
  },
  {
   "cell_type": "code",
   "execution_count": 5,
   "metadata": {},
   "outputs": [],
   "source": [
    "chol = cl_df['chol']\n",
    "racegrp = cl_df.groupby('race').groups\n",
    "black = chol[racegrp['Black']]\n",
    "white = chol[racegrp['White']]\n",
    "other = chol[racegrp['Other']]"
   ]
  },
  {
   "cell_type": "code",
   "execution_count": 6,
   "metadata": {},
   "outputs": [
    {
     "output_type": "stream",
     "name": "stdout",
     "text": [
      "stat=0.968, p=0.584\nKhông thể bác bỏ giả thiết H0: Phân phối của dữ liệu là chuẩn\nĐủ điều kiện để phân tích tiếp\n"
     ]
    }
   ],
   "source": [
    "# Kiểm tra phân phối chuẩn\n",
    "# black\n",
    "from scipy.stats import shapiro\n",
    "stat_black, p_black = shapiro(black)\n",
    "print('stat=%.3f, p=%.3f' % (stat_black, p_black))\n",
    "if p_black > 0.05:\n",
    "    print('Không thể bác bỏ giả thiết H0: Phân phối của dữ liệu là chuẩn')\n",
    "    print('Đủ điều kiện để phân tích tiếp')\n",
    "else:\n",
    "    print('Dữ liệu không tuân theo luật phân phối chuẩn')\n",
    "    "
   ]
  },
  {
   "cell_type": "code",
   "execution_count": 8,
   "metadata": {},
   "outputs": [
    {
     "output_type": "stream",
     "name": "stdout",
     "text": [
      "stat=0.967, p=0.581\nKhông thể bác bỏ giả thiết H0: Phân phối của dữ liệu là chuẩn\nĐủ điều kiện để phân tích tiếp\n"
     ]
    }
   ],
   "source": [
    "# Kiểm tra phân phối chuẩn\n",
    "# white \n",
    "\n",
    "stat_white, p_white = shapiro(white)\n",
    "print('stat=%.3f, p=%.3f' % (stat_white, p_white))\n",
    "if p_white > 0.05:\n",
    "    print('Không thể bác bỏ giả thiết H0: Phân phối của dữ liệu là chuẩn')\n",
    "    print('Đủ điều kiện để phân tích tiếp')\n",
    "else:\n",
    "    print('Dữ liệu không tuân theo luật phân phối chuẩn')\n",
    "    "
   ]
  },
  {
   "cell_type": "code",
   "execution_count": 9,
   "metadata": {},
   "outputs": [
    {
     "output_type": "stream",
     "name": "stdout",
     "text": [
      "stat=0.952, p=0.280\nKhông thể bác bỏ giả thiết H0: Phân phối của dữ liệu là chuẩn\nĐủ điều kiện để phân tích tiếp\n"
     ]
    }
   ],
   "source": [
    "# Kiểm tra phân phối chuẩn\n",
    "# orther\n",
    "\n",
    "stat_other, p_other = shapiro(other)\n",
    "print('stat=%.3f, p=%.3f' % (stat_other, p_other))\n",
    "if p_other > 0.05:\n",
    "    print('Không thể bác bỏ giả thiết H0: Phân phối của dữ liệu là chuẩn')\n",
    "    print('Đủ điều kiện để phân tích tiếp')\n",
    "else:\n",
    "    print('Dữ liệu không tuân theo luật phân phối chuẩn')\n",
    "    "
   ]
  },
  {
   "source": [
    "Phát biểu giả thiết:\n",
    "\n",
    "- $H_0$: Trung bình hàm lượng cholesteron giữa các nhóm là bằng nhau\n",
    "- $H_1$: Trung bình hàm lượng cholesteron giữa các nhóm không bằng nhau"
   ],
   "cell_type": "markdown",
   "metadata": {}
  },
  {
   "cell_type": "code",
   "execution_count": 10,
   "metadata": {},
   "outputs": [
    {
     "output_type": "stream",
     "name": "stdout",
     "text": [
      "P_value =  0.33573021801437203\nKhông đủ bằng chứng bác bỏ giả thuyết H0. Điều này ngụ ý rằng hàm lượng choles giữa các nhóm không có sự khác biệt.\n"
     ]
    }
   ],
   "source": [
    "# Tiến hành phân tích ANOVA 1 chiều\n",
    "\n",
    "from scipy.stats import f_oneway\n",
    "std2 , p2 = f_oneway(black, white, other)\n",
    "print('P_value = ',p2)\n",
    "alpha = 0.05\n",
    "if (p2 < alpha):\n",
    "    print('Có bằng chứng bác bỏ giả thuyết H0. Điều này ngụ ý rằng hàm lượng choles giữa các nhóm có sự khác biệt')\n",
    "else:\n",
    "    print('Không đủ bằng chứng bác bỏ giả thuyết H0. Điều này ngụ ý rằng hàm lượng choles giữa các nhóm không có sự khác biệt.')"
   ]
  }
 ]
}