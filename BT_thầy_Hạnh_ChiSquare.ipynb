{
 "metadata": {
  "language_info": {
   "codemirror_mode": {
    "name": "ipython",
    "version": 3
   },
   "file_extension": ".py",
   "mimetype": "text/x-python",
   "name": "python",
   "nbconvert_exporter": "python",
   "pygments_lexer": "ipython3",
   "version": "3.9.0"
  },
  "orig_nbformat": 2,
  "kernelspec": {
   "name": "python390jvsc74a57bd0ee5cc6fef2d70a7e71ee3826687cbd150f18158e0b1eef11d4f4f92bb920e304",
   "display_name": "Python 3.9.0 64-bit"
  },
  "metadata": {
   "interpreter": {
    "hash": "ee5cc6fef2d70a7e71ee3826687cbd150f18158e0b1eef11d4f4f92bb920e304"
   }
  }
 },
 "nbformat": 4,
 "nbformat_minor": 2,
 "cells": [
  {
   "cell_type": "code",
   "execution_count": 1,
   "metadata": {},
   "outputs": [],
   "source": [
    "import numpy as np\n",
    "import pandas as pd\n",
    "from matplotlib import pyplot as plt\n",
    "import seaborn as sns\n",
    "from scipy import stats\n",
    "%matplotlib inline\n",
    "plt.rcParams['figure.figsize'] = [16, 9]\n",
    "plt.rcParams['figure.dpi'] = 100\n",
    "plt.rcParams.update({'font.size': 18})"
   ]
  },
  {
   "cell_type": "code",
   "execution_count": 3,
   "metadata": {},
   "outputs": [
    {
     "output_type": "execute_result",
     "data": {
      "text/plain": [
       "     gender race/ethnicity parental level of education         lunch  \\\n",
       "0    female        group B           bachelor's degree      standard   \n",
       "1    female        group C                some college      standard   \n",
       "2    female        group B             master's degree      standard   \n",
       "3      male        group A          associate's degree  free/reduced   \n",
       "4      male        group C                some college      standard   \n",
       "..      ...            ...                         ...           ...   \n",
       "995  female        group E             master's degree      standard   \n",
       "996    male        group C                 high school  free/reduced   \n",
       "997  female        group C                 high school  free/reduced   \n",
       "998  female        group D                some college      standard   \n",
       "999  female        group D                some college  free/reduced   \n",
       "\n",
       "    test preparation course  math score  reading score  writing score  \n",
       "0                      none          72             72             74  \n",
       "1                 completed          69             90             88  \n",
       "2                      none          90             95             93  \n",
       "3                      none          47             57             44  \n",
       "4                      none          76             78             75  \n",
       "..                      ...         ...            ...            ...  \n",
       "995               completed          88             99             95  \n",
       "996                    none          62             55             55  \n",
       "997               completed          59             71             65  \n",
       "998               completed          68             78             77  \n",
       "999                    none          77             86             86  \n",
       "\n",
       "[1000 rows x 8 columns]"
      ],
      "text/html": "<div>\n<style scoped>\n    .dataframe tbody tr th:only-of-type {\n        vertical-align: middle;\n    }\n\n    .dataframe tbody tr th {\n        vertical-align: top;\n    }\n\n    .dataframe thead th {\n        text-align: right;\n    }\n</style>\n<table border=\"1\" class=\"dataframe\">\n  <thead>\n    <tr style=\"text-align: right;\">\n      <th></th>\n      <th>gender</th>\n      <th>race/ethnicity</th>\n      <th>parental level of education</th>\n      <th>lunch</th>\n      <th>test preparation course</th>\n      <th>math score</th>\n      <th>reading score</th>\n      <th>writing score</th>\n    </tr>\n  </thead>\n  <tbody>\n    <tr>\n      <th>0</th>\n      <td>female</td>\n      <td>group B</td>\n      <td>bachelor's degree</td>\n      <td>standard</td>\n      <td>none</td>\n      <td>72</td>\n      <td>72</td>\n      <td>74</td>\n    </tr>\n    <tr>\n      <th>1</th>\n      <td>female</td>\n      <td>group C</td>\n      <td>some college</td>\n      <td>standard</td>\n      <td>completed</td>\n      <td>69</td>\n      <td>90</td>\n      <td>88</td>\n    </tr>\n    <tr>\n      <th>2</th>\n      <td>female</td>\n      <td>group B</td>\n      <td>master's degree</td>\n      <td>standard</td>\n      <td>none</td>\n      <td>90</td>\n      <td>95</td>\n      <td>93</td>\n    </tr>\n    <tr>\n      <th>3</th>\n      <td>male</td>\n      <td>group A</td>\n      <td>associate's degree</td>\n      <td>free/reduced</td>\n      <td>none</td>\n      <td>47</td>\n      <td>57</td>\n      <td>44</td>\n    </tr>\n    <tr>\n      <th>4</th>\n      <td>male</td>\n      <td>group C</td>\n      <td>some college</td>\n      <td>standard</td>\n      <td>none</td>\n      <td>76</td>\n      <td>78</td>\n      <td>75</td>\n    </tr>\n    <tr>\n      <th>...</th>\n      <td>...</td>\n      <td>...</td>\n      <td>...</td>\n      <td>...</td>\n      <td>...</td>\n      <td>...</td>\n      <td>...</td>\n      <td>...</td>\n    </tr>\n    <tr>\n      <th>995</th>\n      <td>female</td>\n      <td>group E</td>\n      <td>master's degree</td>\n      <td>standard</td>\n      <td>completed</td>\n      <td>88</td>\n      <td>99</td>\n      <td>95</td>\n    </tr>\n    <tr>\n      <th>996</th>\n      <td>male</td>\n      <td>group C</td>\n      <td>high school</td>\n      <td>free/reduced</td>\n      <td>none</td>\n      <td>62</td>\n      <td>55</td>\n      <td>55</td>\n    </tr>\n    <tr>\n      <th>997</th>\n      <td>female</td>\n      <td>group C</td>\n      <td>high school</td>\n      <td>free/reduced</td>\n      <td>completed</td>\n      <td>59</td>\n      <td>71</td>\n      <td>65</td>\n    </tr>\n    <tr>\n      <th>998</th>\n      <td>female</td>\n      <td>group D</td>\n      <td>some college</td>\n      <td>standard</td>\n      <td>completed</td>\n      <td>68</td>\n      <td>78</td>\n      <td>77</td>\n    </tr>\n    <tr>\n      <th>999</th>\n      <td>female</td>\n      <td>group D</td>\n      <td>some college</td>\n      <td>free/reduced</td>\n      <td>none</td>\n      <td>77</td>\n      <td>86</td>\n      <td>86</td>\n    </tr>\n  </tbody>\n</table>\n<p>1000 rows × 8 columns</p>\n</div>"
     },
     "metadata": {},
     "execution_count": 3
    }
   ],
   "source": [
    "df = pd.read_csv('StudentsPerformance.csv')\n",
    "df"
   ]
  },
  {
   "source": [
    "Phát biểu giả thiết:\n",
    "\n",
    "- __$H_0:$__ Điểm môn đọc không phụ thuộc vào giới tính.\n",
    "- __$H_1:$__ Giới tính có ảnh hưởng đến điểm môn đọc."
   ],
   "cell_type": "markdown",
   "metadata": {}
  },
  {
   "cell_type": "code",
   "execution_count": 8,
   "metadata": {},
   "outputs": [
    {
     "output_type": "execute_result",
     "data": {
      "text/plain": [
       "     gender  reading score ThangDiem\n",
       "0    female             72         C\n",
       "1    female             90         A\n",
       "2    female             95         A\n",
       "3      male             57         D\n",
       "4      male             78         B\n",
       "..      ...            ...       ...\n",
       "995  female             99         A\n",
       "996    male             55         D\n",
       "997  female             71         C\n",
       "998  female             78         B\n",
       "999  female             86         A\n",
       "\n",
       "[1000 rows x 3 columns]"
      ],
      "text/html": "<div>\n<style scoped>\n    .dataframe tbody tr th:only-of-type {\n        vertical-align: middle;\n    }\n\n    .dataframe tbody tr th {\n        vertical-align: top;\n    }\n\n    .dataframe thead th {\n        text-align: right;\n    }\n</style>\n<table border=\"1\" class=\"dataframe\">\n  <thead>\n    <tr style=\"text-align: right;\">\n      <th></th>\n      <th>gender</th>\n      <th>reading score</th>\n      <th>ThangDiem</th>\n    </tr>\n  </thead>\n  <tbody>\n    <tr>\n      <th>0</th>\n      <td>female</td>\n      <td>72</td>\n      <td>C</td>\n    </tr>\n    <tr>\n      <th>1</th>\n      <td>female</td>\n      <td>90</td>\n      <td>A</td>\n    </tr>\n    <tr>\n      <th>2</th>\n      <td>female</td>\n      <td>95</td>\n      <td>A</td>\n    </tr>\n    <tr>\n      <th>3</th>\n      <td>male</td>\n      <td>57</td>\n      <td>D</td>\n    </tr>\n    <tr>\n      <th>4</th>\n      <td>male</td>\n      <td>78</td>\n      <td>B</td>\n    </tr>\n    <tr>\n      <th>...</th>\n      <td>...</td>\n      <td>...</td>\n      <td>...</td>\n    </tr>\n    <tr>\n      <th>995</th>\n      <td>female</td>\n      <td>99</td>\n      <td>A</td>\n    </tr>\n    <tr>\n      <th>996</th>\n      <td>male</td>\n      <td>55</td>\n      <td>D</td>\n    </tr>\n    <tr>\n      <th>997</th>\n      <td>female</td>\n      <td>71</td>\n      <td>C</td>\n    </tr>\n    <tr>\n      <th>998</th>\n      <td>female</td>\n      <td>78</td>\n      <td>B</td>\n    </tr>\n    <tr>\n      <th>999</th>\n      <td>female</td>\n      <td>86</td>\n      <td>A</td>\n    </tr>\n  </tbody>\n</table>\n<p>1000 rows × 3 columns</p>\n</div>"
     },
     "metadata": {},
     "execution_count": 8
    }
   ],
   "source": [
    "bins = [0, 60, 75, 85, 100] # => Phân chia thang điểm\n",
    "\n",
    "gen_read_df = df[['gender', 'reading score']].copy()\n",
    "gen_read_df['ThangDiem'] = pd.cut(gen_read_df['reading score'], bins, labels=['D', 'C', 'B', 'A'])\n",
    "gen_read_df"
   ]
  },
  {
   "cell_type": "code",
   "execution_count": 6,
   "metadata": {},
   "outputs": [],
   "source": [
    "def results(p, alpha=0.05):\n",
    "    cols=['score', 'p_value', 'dof', 'KetLuan']\n",
    "    if p['p_value'] < alpha:\n",
    "        p['KetLuan'] = f\"Chấp nhận H1 với mức ý nghĩa {alpha}\"\n",
    "    if p['p_value'] >= alpha:\n",
    "        p['KetLuan'] = f\"Chấp nhận H0 với mức ý nghĩa {alpha}\"\n",
    "    df = pd.DataFrame(p, index=[''])\n",
    "    return df[cols]"
   ]
  },
  {
   "cell_type": "code",
   "execution_count": 10,
   "metadata": {},
   "outputs": [
    {
     "output_type": "execute_result",
     "data": {
      "text/plain": [
       "ThangDiem    D    C    B    A\n",
       "gender                       \n",
       "female      98  195  123  102\n",
       "male       177  186   89   30"
      ],
      "text/html": "<div>\n<style scoped>\n    .dataframe tbody tr th:only-of-type {\n        vertical-align: middle;\n    }\n\n    .dataframe tbody tr th {\n        vertical-align: top;\n    }\n\n    .dataframe thead th {\n        text-align: right;\n    }\n</style>\n<table border=\"1\" class=\"dataframe\">\n  <thead>\n    <tr style=\"text-align: right;\">\n      <th>ThangDiem</th>\n      <th>D</th>\n      <th>C</th>\n      <th>B</th>\n      <th>A</th>\n    </tr>\n    <tr>\n      <th>gender</th>\n      <th></th>\n      <th></th>\n      <th></th>\n      <th></th>\n    </tr>\n  </thead>\n  <tbody>\n    <tr>\n      <th>female</th>\n      <td>98</td>\n      <td>195</td>\n      <td>123</td>\n      <td>102</td>\n    </tr>\n    <tr>\n      <th>male</th>\n      <td>177</td>\n      <td>186</td>\n      <td>89</td>\n      <td>30</td>\n    </tr>\n  </tbody>\n</table>\n</div>"
     },
     "metadata": {},
     "execution_count": 10
    }
   ],
   "source": [
    "count_df = pd.crosstab(index=gen_read_df['gender'], columns=gen_read_df['ThangDiem'])\n",
    "count_df\n"
   ]
  },
  {
   "cell_type": "code",
   "execution_count": 11,
   "metadata": {},
   "outputs": [],
   "source": [
    "score, p_value, dof, expected = stats.chi2_contingency(count_df)"
   ]
  },
  {
   "cell_type": "code",
   "execution_count": 12,
   "metadata": {},
   "outputs": [
    {
     "output_type": "execute_result",
     "data": {
      "text/plain": [
       "      score       p_value  dof                            KetLuan\n",
       "  66.422785  2.488690e-14    3  Chấp nhận H1 với mức ý nghĩa 0.05"
      ],
      "text/html": "<div>\n<style scoped>\n    .dataframe tbody tr th:only-of-type {\n        vertical-align: middle;\n    }\n\n    .dataframe tbody tr th {\n        vertical-align: top;\n    }\n\n    .dataframe thead th {\n        text-align: right;\n    }\n</style>\n<table border=\"1\" class=\"dataframe\">\n  <thead>\n    <tr style=\"text-align: right;\">\n      <th></th>\n      <th>score</th>\n      <th>p_value</th>\n      <th>dof</th>\n      <th>KetLuan</th>\n    </tr>\n  </thead>\n  <tbody>\n    <tr>\n      <th></th>\n      <td>66.422785</td>\n      <td>2.488690e-14</td>\n      <td>3</td>\n      <td>Chấp nhận H1 với mức ý nghĩa 0.05</td>\n    </tr>\n  </tbody>\n</table>\n</div>"
     },
     "metadata": {},
     "execution_count": 12
    }
   ],
   "source": [
    "p ={}\n",
    "p['score'] = score\n",
    "p['p_value'] = p_value\n",
    "p['dof'] = dof\n",
    "results(p)"
   ]
  },
  {
   "source": [
    "### Nghiên cứu lunch có ảnh hưởng đến điểm môn Toán\n",
    "\n",
    "Phát biểu giả thiết:\n",
    "\n",
    "- $H_0$: Chế độ ăn không ảnh hưởng đến điểm môn Toán\n",
    "- $H_1$: Chế độ ăn ảnh hưởng đến điểm môn Toán"
   ],
   "cell_type": "markdown",
   "metadata": {}
  },
  {
   "cell_type": "code",
   "execution_count": 14,
   "metadata": {},
   "outputs": [
    {
     "output_type": "execute_result",
     "data": {
      "text/plain": [
       "            lunch  math score ThangDiem\n",
       "0        standard          72         C\n",
       "1        standard          69         C\n",
       "2        standard          90         A\n",
       "3    free/reduced          47         D\n",
       "4        standard          76         B\n",
       "..            ...         ...       ...\n",
       "995      standard          88         A\n",
       "996  free/reduced          62         C\n",
       "997  free/reduced          59         D\n",
       "998      standard          68         C\n",
       "999  free/reduced          77         B\n",
       "\n",
       "[1000 rows x 3 columns]"
      ],
      "text/html": "<div>\n<style scoped>\n    .dataframe tbody tr th:only-of-type {\n        vertical-align: middle;\n    }\n\n    .dataframe tbody tr th {\n        vertical-align: top;\n    }\n\n    .dataframe thead th {\n        text-align: right;\n    }\n</style>\n<table border=\"1\" class=\"dataframe\">\n  <thead>\n    <tr style=\"text-align: right;\">\n      <th></th>\n      <th>lunch</th>\n      <th>math score</th>\n      <th>ThangDiem</th>\n    </tr>\n  </thead>\n  <tbody>\n    <tr>\n      <th>0</th>\n      <td>standard</td>\n      <td>72</td>\n      <td>C</td>\n    </tr>\n    <tr>\n      <th>1</th>\n      <td>standard</td>\n      <td>69</td>\n      <td>C</td>\n    </tr>\n    <tr>\n      <th>2</th>\n      <td>standard</td>\n      <td>90</td>\n      <td>A</td>\n    </tr>\n    <tr>\n      <th>3</th>\n      <td>free/reduced</td>\n      <td>47</td>\n      <td>D</td>\n    </tr>\n    <tr>\n      <th>4</th>\n      <td>standard</td>\n      <td>76</td>\n      <td>B</td>\n    </tr>\n    <tr>\n      <th>...</th>\n      <td>...</td>\n      <td>...</td>\n      <td>...</td>\n    </tr>\n    <tr>\n      <th>995</th>\n      <td>standard</td>\n      <td>88</td>\n      <td>A</td>\n    </tr>\n    <tr>\n      <th>996</th>\n      <td>free/reduced</td>\n      <td>62</td>\n      <td>C</td>\n    </tr>\n    <tr>\n      <th>997</th>\n      <td>free/reduced</td>\n      <td>59</td>\n      <td>D</td>\n    </tr>\n    <tr>\n      <th>998</th>\n      <td>standard</td>\n      <td>68</td>\n      <td>C</td>\n    </tr>\n    <tr>\n      <th>999</th>\n      <td>free/reduced</td>\n      <td>77</td>\n      <td>B</td>\n    </tr>\n  </tbody>\n</table>\n<p>1000 rows × 3 columns</p>\n</div>"
     },
     "metadata": {},
     "execution_count": 14
    }
   ],
   "source": [
    "bins = [0, 60, 75, 85, 100] # => Phân chia thang điểm\n",
    "\n",
    "lun_math_df = df[['lunch', 'math score']].copy()\n",
    "lun_math_df['ThangDiem'] = pd.cut(lun_math_df['math score'], bins, labels=['D', 'C', 'B', 'A'])\n",
    "lun_math_df"
   ]
  },
  {
   "cell_type": "code",
   "execution_count": 15,
   "metadata": {},
   "outputs": [
    {
     "output_type": "execute_result",
     "data": {
      "text/plain": [
       "ThangDiem       D    C    B   A\n",
       "lunch                          \n",
       "free/reduced  181  124   37  12\n",
       "standard      157  263  134  91"
      ],
      "text/html": "<div>\n<style scoped>\n    .dataframe tbody tr th:only-of-type {\n        vertical-align: middle;\n    }\n\n    .dataframe tbody tr th {\n        vertical-align: top;\n    }\n\n    .dataframe thead th {\n        text-align: right;\n    }\n</style>\n<table border=\"1\" class=\"dataframe\">\n  <thead>\n    <tr style=\"text-align: right;\">\n      <th>ThangDiem</th>\n      <th>D</th>\n      <th>C</th>\n      <th>B</th>\n      <th>A</th>\n    </tr>\n    <tr>\n      <th>lunch</th>\n      <th></th>\n      <th></th>\n      <th></th>\n      <th></th>\n    </tr>\n  </thead>\n  <tbody>\n    <tr>\n      <th>free/reduced</th>\n      <td>181</td>\n      <td>124</td>\n      <td>37</td>\n      <td>12</td>\n    </tr>\n    <tr>\n      <th>standard</th>\n      <td>157</td>\n      <td>263</td>\n      <td>134</td>\n      <td>91</td>\n    </tr>\n  </tbody>\n</table>\n</div>"
     },
     "metadata": {},
     "execution_count": 15
    }
   ],
   "source": [
    "count_df = pd.crosstab(index=lun_math_df['lunch'], columns=lun_math_df['ThangDiem'])\n",
    "count_df\n"
   ]
  },
  {
   "cell_type": "code",
   "execution_count": 16,
   "metadata": {},
   "outputs": [
    {
     "output_type": "execute_result",
     "data": {
      "text/plain": [
       "      score       p_value  dof                            KetLuan\n",
       "  90.126341  2.057882e-19    3  Chấp nhận H1 với mức ý nghĩa 0.05"
      ],
      "text/html": "<div>\n<style scoped>\n    .dataframe tbody tr th:only-of-type {\n        vertical-align: middle;\n    }\n\n    .dataframe tbody tr th {\n        vertical-align: top;\n    }\n\n    .dataframe thead th {\n        text-align: right;\n    }\n</style>\n<table border=\"1\" class=\"dataframe\">\n  <thead>\n    <tr style=\"text-align: right;\">\n      <th></th>\n      <th>score</th>\n      <th>p_value</th>\n      <th>dof</th>\n      <th>KetLuan</th>\n    </tr>\n  </thead>\n  <tbody>\n    <tr>\n      <th></th>\n      <td>90.126341</td>\n      <td>2.057882e-19</td>\n      <td>3</td>\n      <td>Chấp nhận H1 với mức ý nghĩa 0.05</td>\n    </tr>\n  </tbody>\n</table>\n</div>"
     },
     "metadata": {},
     "execution_count": 16
    }
   ],
   "source": [
    "score, p_value, dof, expected = stats.chi2_contingency(count_df)\n",
    "p ={}\n",
    "p['score'] = score\n",
    "p['p_value'] = p_value\n",
    "p['dof'] = dof\n",
    "results(p)"
   ]
  }
 ]
}