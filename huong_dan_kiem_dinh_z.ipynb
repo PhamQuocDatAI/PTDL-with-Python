{
  "nbformat": 4,
  "nbformat_minor": 0,
  "metadata": {
    "kernelspec": {
      "display_name": "Python 3",
      "language": "python",
      "name": "python3"
    },
    "language_info": {
      "codemirror_mode": {
        "name": "ipython",
        "version": 3
      },
      "file_extension": ".py",
      "mimetype": "text/x-python",
      "name": "python",
      "nbconvert_exporter": "python",
      "pygments_lexer": "ipython3",
      "version": "3.7.3"
    },
    "colab": {
      "name": "huong-dan-kiem-dinh-z.ipynb",
      "provenance": [],
      "include_colab_link": true
    }
  },
  "cells": [
    {
      "cell_type": "markdown",
      "metadata": {
        "id": "view-in-github",
        "colab_type": "text"
      },
      "source": [
        "<a href=\"https://colab.research.google.com/github/PhamQuocDatAI/PTDL-with-Python/blob/master/huong_dan_kiem_dinh_z.ipynb\" target=\"_parent\"><img src=\"https://colab.research.google.com/assets/colab-badge.svg\" alt=\"Open In Colab\"/></a>"
      ]
    },
    {
      "cell_type": "markdown",
      "metadata": {
        "id": "FlhZFteLPiIN"
      },
      "source": [
        "HƯỚNG DẪN SUY DIỄN THỐNG KÊ BẰNG GÓI STATS CỦA THƯ VIỆN SCIPY"
      ]
    },
    {
      "cell_type": "markdown",
      "metadata": {
        "id": "vxP1UYYLPiIS"
      },
      "source": [
        "1. Các thư viện cần thiết"
      ]
    },
    {
      "cell_type": "code",
      "metadata": {
        "id": "VP-2dBSsPiIT",
        "outputId": "0d8bbeb0-c99b-4ffa-dd62-98054358b891",
        "colab": {
          "base_uri": "https://localhost:8080/"
        }
      },
      "source": [
        "import numpy as np\n",
        "import pandas as pd\n",
        "import random\n",
        "from scipy import stats\n",
        "from statsmodels.stats.weightstats import ztest\n",
        "import warnings\n",
        "import matplotlib.pyplot as plt\n",
        "import seaborn as sns\n",
        "%matplotlib inline"
      ],
      "execution_count": 1,
      "outputs": [
        {
          "output_type": "stream",
          "text": [
            "/usr/local/lib/python3.7/dist-packages/statsmodels/tools/_testing.py:19: FutureWarning: pandas.util.testing is deprecated. Use the functions in the public API at pandas.testing instead.\n",
            "  import pandas.util.testing as tm\n"
          ],
          "name": "stderr"
        }
      ]
    },
    {
      "cell_type": "markdown",
      "metadata": {
        "id": "dApblv4MPiIT"
      },
      "source": [
        "2. Thiết lập định dạng hình ảnh"
      ]
    },
    {
      "cell_type": "code",
      "metadata": {
        "id": "xGFmDvCJPiIU"
      },
      "source": [
        "sns.set(rc={'figure.figsize':(13, 7.5)})\n",
        "sns.set_context('talk')   "
      ],
      "execution_count": 2,
      "outputs": []
    },
    {
      "cell_type": "markdown",
      "metadata": {
        "id": "TOBvtJ0lPiIU"
      },
      "source": [
        "3. Tắt các cảnh báo của scipy"
      ]
    },
    {
      "cell_type": "code",
      "metadata": {
        "id": "YO14wt37PiIU"
      },
      "source": [
        "warnings.filterwarnings('ignore')"
      ],
      "execution_count": 3,
      "outputs": []
    },
    {
      "cell_type": "markdown",
      "metadata": {
        "id": "yLZwGys3PiIV"
      },
      "source": [
        "4. Một số lưu ý khi kiểm định giả thuyết trong thống kê suy diễn\n",
        "\n",
        "(1) Cỡ mẫu thường phải đủ lớn ($n \\geq 30$) để có ý nghĩa thống kê\n",
        "\n",
        "(2) Các mẫu quan sát được (sample observations) phải được lựa chọn ngẫu nhiên từ quần thể\n",
        "\n",
        "(3) Các đại lượng như trung bình mẫu (sample mean), độ lệch chuẩn của mẫu (standard deviation), phương sai mẫu (sample variance) được tính từ tập mẫu quan sát được.\n",
        "\n",
        "(4) Giả định rằng quần thể được nghiên cứu lấy mẫu xấp xỉ với phân phối chuẩn."
      ]
    },
    {
      "cell_type": "markdown",
      "metadata": {
        "id": "NuP3PIHGPiIV"
      },
      "source": [
        "5. Các bước thực hiện kiểm định giả thuyết (sử dụng kiểm định z)\n",
        "\n",
        "Bước 1: Thực hiện các phép đo, hay thu thập dữ liệu quan sát\n",
        "\n",
        "Bước 2: Phát biểu giả thuyết $H_{0}$ và giả thuyết thay thế $H_{a}$\n",
        "\n",
        "Bước 3: Xác định mức $\\alpha$ (hay khoảng tin cậy)\n",
        "\n",
        "Bước 4: Lấy mẫu và tính toán các đại lượng thống kê của mẫu\n",
        "\n",
        "Bước 5: Thực hiện kiểm định z (z-test)\n",
        "\n",
        "Bước 6: Kết luận dựa vào kết quả kiểm định"
      ]
    },
    {
      "cell_type": "markdown",
      "metadata": {
        "id": "bb6b5GSdPiIV"
      },
      "source": [
        "KIỂM ĐỊNH GIẢ THUYẾT MỘT ĐUÔI \n",
        "\n",
        "1. Kỹ thuật sinh dữ liệu ngẫu nhiên\n",
        "\n",
        "Sinh các mẫu ngẫu nhiên lấy ra từ phân phối chuẩn bằng hàm random.normal() với các tham số:\n",
        "\n",
        "- mean: giá trị trung bình của quần thể\n",
        "\n",
        "- scale: độ lệch chuẩn của quần thể (không âm)\n",
        "\n",
        "- size: kích thước mẫu"
      ]
    },
    {
      "cell_type": "code",
      "metadata": {
        "id": "TkWz0dIhPiIW",
        "outputId": "09d1ddb8-c400-44e0-8e82-36391777466c",
        "colab": {
          "base_uri": "https://localhost:8080/"
        }
      },
      "source": [
        "#Sinh ngẫu nhiên 1000 mẫu tuân theo phân phối chuẩn có trung bình mẫu là 1 và độ lệch chuẩn là 0.1\n",
        "mean = 1\n",
        "std = 0.1\n",
        "N = 1000\n",
        "samples = np.random.normal(mean, std, N)\n",
        "samples"
      ],
      "execution_count": 5,
      "outputs": [
        {
          "output_type": "execute_result",
          "data": {
            "text/plain": [
              "array([0.94206283, 0.95835255, 1.07586515, 1.00799984, 0.98264631,\n",
              "       0.90957569, 1.05703074, 1.02736484, 1.10902144, 1.11144588,\n",
              "       0.98252202, 1.10236271, 1.07214693, 1.02967279, 0.893123  ,\n",
              "       0.947111  , 0.99569032, 0.92616721, 0.85984673, 1.01643116,\n",
              "       0.87543531, 0.80687556, 1.11068663, 1.08929066, 1.01341796,\n",
              "       1.01699844, 1.11476196, 0.8927089 , 0.88777424, 1.01338404,\n",
              "       1.08188929, 0.95799487, 1.14281872, 1.04495632, 1.00905771,\n",
              "       1.04076641, 0.96308587, 0.77788402, 0.90418343, 0.82209687,\n",
              "       0.95653345, 0.87139846, 0.97121025, 0.84325835, 0.87979818,\n",
              "       1.26659441, 0.83627676, 1.07657211, 1.00603556, 0.97145229,\n",
              "       0.88353605, 0.92238686, 0.90198293, 0.95033354, 1.02733504,\n",
              "       0.98209186, 0.94808416, 0.8769405 , 1.00875521, 1.16753033,\n",
              "       1.12360466, 0.92464715, 1.13392229, 0.96681247, 0.97118794,\n",
              "       1.05589332, 1.0064552 , 1.06771787, 1.02674534, 0.99961984,\n",
              "       1.11037509, 1.0054395 , 1.05162376, 0.8303369 , 0.76202921,\n",
              "       0.92205058, 0.90406933, 1.00476201, 0.8518985 , 1.064087  ,\n",
              "       1.09448786, 1.03220076, 1.0622907 , 1.03762628, 0.99379986,\n",
              "       0.98519761, 0.89339835, 1.14009647, 1.12916611, 1.00597722,\n",
              "       0.8435629 , 0.97966229, 1.07622801, 0.87774239, 1.0456875 ,\n",
              "       1.08739957, 0.95669334, 1.19349209, 0.94676307, 1.20187587,\n",
              "       0.97942403, 1.14805732, 0.97594126, 0.97283512, 0.90504969,\n",
              "       0.80181117, 1.14750825, 1.19039385, 1.17843477, 1.05220122,\n",
              "       0.89267186, 0.89395138, 0.94136735, 1.03957077, 1.04639441,\n",
              "       1.07088892, 1.07215946, 1.05193662, 1.02538834, 0.89231772,\n",
              "       1.06765754, 0.99956079, 0.9150334 , 0.97460777, 0.86746161,\n",
              "       1.00507936, 1.04949107, 0.99917266, 1.04095025, 0.82710923,\n",
              "       1.30161459, 0.83474427, 1.06734724, 0.95270699, 1.08050305,\n",
              "       1.08585744, 1.0549904 , 1.05821586, 0.91013242, 0.84961356,\n",
              "       0.9856452 , 1.04242717, 0.92783483, 1.00051349, 1.02904313,\n",
              "       0.90026152, 0.91702869, 0.77454357, 0.93261804, 1.0442757 ,\n",
              "       1.12123808, 0.89186355, 1.148585  , 0.99797942, 1.03930947,\n",
              "       0.98670863, 0.99807396, 1.11750892, 0.9535022 , 1.03063655,\n",
              "       1.02995827, 1.14780133, 1.03337587, 0.91508509, 0.89740846,\n",
              "       1.14398751, 0.94284557, 1.10405788, 0.92238409, 0.9124117 ,\n",
              "       0.96469025, 0.96558893, 0.97776714, 1.04205265, 0.9878918 ,\n",
              "       0.99339309, 0.91771002, 0.93008832, 0.89509908, 0.95745671,\n",
              "       0.94580264, 0.89464344, 1.15887499, 0.93217537, 0.96856804,\n",
              "       0.93308836, 1.08985303, 1.10783804, 0.9966342 , 0.96552494,\n",
              "       0.9358751 , 0.96760745, 0.96283934, 1.10538025, 1.12727451,\n",
              "       1.07615374, 0.95620585, 0.97414418, 1.17197683, 0.99873389,\n",
              "       0.93917286, 0.97892665, 1.0490041 , 0.78044284, 1.10965697,\n",
              "       0.72633567, 0.92452186, 0.94091446, 1.23115657, 0.88301058,\n",
              "       0.96827807, 1.01125782, 0.85268852, 0.92758161, 0.96670769,\n",
              "       0.83930283, 1.04577061, 0.96627461, 1.01506697, 1.13210389,\n",
              "       0.94917379, 1.18713938, 0.9711475 , 1.00292645, 0.89226395,\n",
              "       0.99456035, 0.90755328, 0.95745723, 0.84908041, 0.88619371,\n",
              "       0.87989479, 1.11100309, 1.0085663 , 0.90094492, 1.10031398,\n",
              "       1.09040747, 0.88670818, 1.12579865, 1.14074181, 1.08350162,\n",
              "       0.99217547, 1.00332086, 0.96621376, 0.98054714, 1.08059729,\n",
              "       0.92638826, 0.97612419, 0.90985344, 1.08581679, 0.84350527,\n",
              "       0.91743143, 0.79924596, 0.98527961, 0.96933711, 1.00679743,\n",
              "       0.9913234 , 0.98723283, 1.0092976 , 1.09260228, 1.00743952,\n",
              "       0.84470094, 1.18712358, 1.01549862, 0.98678209, 1.02874481,\n",
              "       1.17096448, 1.16219126, 0.9679579 , 0.82198881, 0.89658827,\n",
              "       0.99488105, 0.96369552, 0.92867164, 0.97840518, 0.99352623,\n",
              "       1.06320952, 0.85424911, 0.94333083, 1.00007731, 0.92145628,\n",
              "       1.07665693, 0.97791686, 1.05966728, 0.89948495, 1.07900351,\n",
              "       1.15687674, 0.90882139, 1.05842151, 1.02911074, 0.84526584,\n",
              "       1.1164531 , 1.00541081, 1.10271549, 0.92634687, 0.97705985,\n",
              "       0.9747683 , 0.8924285 , 0.94794256, 1.1324078 , 0.77794903,\n",
              "       0.9782524 , 0.9955437 , 0.92612785, 0.91653868, 1.21734051,\n",
              "       0.88363465, 0.74423692, 0.9321589 , 0.93809596, 0.95073064,\n",
              "       1.02706759, 0.99691311, 1.06112947, 0.9809026 , 0.94336323,\n",
              "       0.85074213, 0.94352303, 1.12090211, 1.03532557, 0.91675943,\n",
              "       0.99329842, 1.13440148, 0.94292498, 0.94592639, 1.04476516,\n",
              "       0.91232533, 0.85038302, 0.95476673, 0.98716017, 1.05378759,\n",
              "       1.07090242, 0.94416062, 0.81666282, 1.01503311, 0.97572175,\n",
              "       0.95878356, 1.12357314, 1.16579107, 0.78700964, 0.87341563,\n",
              "       1.02344465, 0.95838865, 1.06777892, 0.94143639, 1.08964245,\n",
              "       0.98476999, 1.04816385, 1.10084329, 1.13491308, 1.08851   ,\n",
              "       0.98547952, 0.82930615, 0.92664316, 0.91411749, 1.20315509,\n",
              "       0.86706388, 0.82842798, 1.14635607, 1.04764512, 1.13698811,\n",
              "       1.04359044, 0.99609363, 1.00724318, 0.94556187, 1.01422141,\n",
              "       0.89231257, 1.0691955 , 0.84861797, 1.20850454, 0.99076717,\n",
              "       1.30686387, 1.06550686, 1.1463536 , 0.97154363, 1.09661812,\n",
              "       0.98489544, 1.0499249 , 1.02286849, 0.99201965, 1.2418973 ,\n",
              "       1.13702622, 1.07668268, 1.02422921, 0.89489837, 0.86198791,\n",
              "       1.04722561, 1.05390098, 1.12053807, 1.14701496, 1.14480416,\n",
              "       0.91948757, 1.11019942, 1.1022925 , 0.99037492, 1.19225071,\n",
              "       1.22236851, 1.02339897, 0.78755169, 0.86760137, 0.95539626,\n",
              "       0.94355937, 1.07352797, 1.01730669, 0.96272565, 1.06307075,\n",
              "       1.16115578, 1.08801285, 0.86305474, 1.01783732, 0.86251447,\n",
              "       1.10426792, 0.9545538 , 1.0191172 , 0.91355011, 0.93419986,\n",
              "       0.95391053, 0.93660088, 1.16614414, 1.01780095, 1.09636607,\n",
              "       1.00051711, 0.93482341, 0.95627107, 1.11262886, 1.10885876,\n",
              "       0.91706537, 1.03349544, 0.95077036, 0.84758751, 0.86537598,\n",
              "       0.90386397, 1.00624523, 1.14731574, 0.96969997, 0.97819811,\n",
              "       1.12523345, 1.0514533 , 0.86781001, 1.12439857, 0.94794521,\n",
              "       0.99839217, 1.00815514, 1.0899343 , 0.94006917, 1.09830271,\n",
              "       1.08007527, 0.95212283, 0.95573599, 1.03784114, 0.90809542,\n",
              "       1.02714217, 1.15861889, 1.00098428, 1.09285309, 0.91294633,\n",
              "       0.77911324, 1.25324137, 0.85704493, 0.98095912, 1.10333055,\n",
              "       0.91632494, 1.05000217, 0.95787259, 1.05171464, 0.92641093,\n",
              "       1.0345422 , 0.81380317, 0.97969736, 1.07273438, 0.8551739 ,\n",
              "       1.00328406, 1.10920532, 1.00924464, 0.999715  , 1.17595597,\n",
              "       1.00820393, 0.90086052, 0.84953052, 0.88727691, 1.00356119,\n",
              "       1.07156547, 0.99945193, 1.0336473 , 1.03743027, 0.89589201,\n",
              "       1.03133682, 1.05657042, 1.000447  , 0.89701094, 0.93491866,\n",
              "       1.08801834, 0.89957916, 0.93650644, 1.07733361, 0.80389144,\n",
              "       0.99675267, 0.93559031, 1.07922716, 0.99717169, 0.84709113,\n",
              "       0.93673853, 0.85692152, 0.84210669, 1.11244914, 0.94275413,\n",
              "       1.00100943, 0.95054901, 0.82969821, 1.03039257, 0.95075582,\n",
              "       1.04893886, 0.93079561, 0.86855099, 0.9758771 , 0.92686646,\n",
              "       1.0288472 , 1.06671242, 1.01914597, 0.9604529 , 0.89956454,\n",
              "       0.90860515, 0.96973318, 0.97276837, 0.88635002, 0.93916946,\n",
              "       0.98399699, 0.94663427, 0.9015863 , 1.00369433, 0.98591897,\n",
              "       0.96493362, 0.99017573, 1.00218615, 1.03619691, 1.01982275,\n",
              "       1.02084705, 0.9195007 , 0.92249809, 1.06588042, 1.05602673,\n",
              "       0.93440004, 1.08711555, 1.16748842, 1.06387165, 0.81086545,\n",
              "       1.06860487, 1.09492494, 1.01621992, 0.85772309, 0.89913422,\n",
              "       0.92848461, 1.07789478, 1.01525625, 0.88797959, 0.86789568,\n",
              "       1.06655792, 0.90970923, 0.94632565, 1.11169585, 1.07318888,\n",
              "       0.84936217, 0.98643987, 1.07224544, 0.96091246, 1.03086379,\n",
              "       1.06910508, 1.00852151, 1.00297886, 1.11650754, 1.16605193,\n",
              "       0.84781178, 1.1239464 , 1.02943188, 0.90549578, 1.13646082,\n",
              "       1.06853822, 0.94302983, 0.87302862, 0.96449652, 1.20495005,\n",
              "       1.15874288, 0.86463679, 1.09692984, 0.95598054, 0.96581838,\n",
              "       1.03467593, 1.06997128, 1.14634293, 0.99545224, 1.21579059,\n",
              "       1.11918667, 1.10282873, 0.86905905, 0.90882115, 0.99805513,\n",
              "       1.03120304, 1.08716746, 1.03858608, 0.95556223, 0.76298098,\n",
              "       1.05043652, 0.92054597, 1.04564303, 1.27730382, 1.03858644,\n",
              "       0.89436427, 0.95481451, 0.9702195 , 0.91774068, 0.93029499,\n",
              "       1.08594141, 1.01485184, 0.92011714, 1.09483979, 1.03739172,\n",
              "       0.98184092, 0.9856258 , 0.92409465, 1.17928961, 1.11797188,\n",
              "       1.17039503, 0.99723822, 0.91348344, 1.02469194, 0.88717062,\n",
              "       1.03463512, 0.97431704, 0.9990068 , 0.99211169, 1.1298427 ,\n",
              "       0.88247062, 0.77552285, 1.10355578, 1.06556215, 1.00126643,\n",
              "       0.94909684, 1.09829603, 0.96294134, 1.01252606, 0.9701615 ,\n",
              "       1.11833624, 0.97202691, 1.10142078, 0.86677591, 1.02367106,\n",
              "       0.93189098, 0.99477109, 0.91647623, 0.95109503, 1.04509568,\n",
              "       0.96247747, 0.88854825, 1.12512194, 1.02375339, 1.17781731,\n",
              "       1.18831821, 1.01945664, 0.82179468, 1.16057259, 1.03123534,\n",
              "       1.01267524, 0.99558797, 1.1593217 , 1.00015862, 1.04666973,\n",
              "       0.90985424, 0.94893455, 1.0141318 , 0.93343649, 0.94900427,\n",
              "       0.94617296, 0.96039395, 0.99348708, 0.88544623, 1.01870822,\n",
              "       1.05055914, 0.91476192, 0.99852902, 0.97021312, 0.77451363,\n",
              "       1.06361842, 0.93960299, 0.96400031, 1.07740756, 1.02139029,\n",
              "       0.97217833, 1.21454446, 1.14960866, 1.12733075, 0.97393241,\n",
              "       1.01052396, 0.98982841, 1.00448799, 1.02386713, 1.20128533,\n",
              "       1.13809778, 0.89096772, 1.15921879, 1.19386607, 1.03274892,\n",
              "       0.94671637, 1.07561843, 1.04402948, 0.92438578, 1.17557112,\n",
              "       0.85148882, 0.90911586, 1.02737878, 0.91835272, 1.1704299 ,\n",
              "       1.07925117, 1.02607369, 1.08356332, 1.08519429, 0.89579684,\n",
              "       1.07276481, 0.98864811, 1.02427792, 1.1633198 , 1.01212623,\n",
              "       1.03600573, 1.00248957, 0.66719247, 1.08202787, 0.90672344,\n",
              "       0.96765755, 1.04746825, 1.05328984, 1.11213203, 1.16812641,\n",
              "       0.98230345, 1.06064743, 1.03608832, 0.83480133, 0.89832988,\n",
              "       1.14989047, 1.23315898, 1.01960631, 1.01614203, 0.95547828,\n",
              "       1.06466054, 0.9596085 , 1.08121033, 0.95109217, 0.93441669,\n",
              "       1.01800085, 1.13782438, 1.01753663, 1.05462188, 1.07329641,\n",
              "       1.1784068 , 0.97018694, 1.11275938, 0.97267259, 0.96810612,\n",
              "       1.09024518, 0.94525058, 0.81420202, 0.91599129, 1.0241115 ,\n",
              "       1.19665549, 0.97080326, 0.95165844, 0.93800995, 0.90699704,\n",
              "       0.97830176, 0.98203188, 1.1432724 , 0.90729708, 0.89560112,\n",
              "       1.03209551, 1.08808054, 1.05542072, 1.01495016, 0.8446656 ,\n",
              "       1.15213838, 0.82915415, 1.00092382, 0.89009835, 0.962577  ,\n",
              "       0.84558344, 1.10047145, 0.96203168, 1.12968246, 0.7573796 ,\n",
              "       0.91654072, 0.8786443 , 0.97422106, 0.98519315, 0.93565495,\n",
              "       1.07224315, 1.08286228, 1.09652616, 1.04871949, 0.98509872,\n",
              "       0.98643751, 0.92024341, 0.99079464, 1.02283213, 0.96050349,\n",
              "       1.19632556, 0.93563891, 0.84534275, 0.99793967, 0.95938268,\n",
              "       0.84294425, 0.99978271, 1.01747419, 1.01666576, 0.85326054,\n",
              "       0.87410148, 1.08417273, 0.94052968, 1.0749001 , 1.00637805,\n",
              "       0.89672504, 1.17460481, 1.01775931, 0.89550239, 1.01093209,\n",
              "       0.88365028, 1.15485433, 0.91130866, 0.85125245, 0.94278576,\n",
              "       0.91179522, 1.02929417, 0.97759833, 1.02409284, 1.02148455,\n",
              "       0.87742903, 1.08499432, 0.9119298 , 1.0008659 , 1.07325184,\n",
              "       1.11333131, 0.99852817, 0.94584591, 0.88212129, 1.06521074,\n",
              "       1.00758417, 1.00236672, 0.99835337, 0.999824  , 1.13066799,\n",
              "       0.89706222, 1.03568777, 1.04337737, 1.13398651, 1.08038328,\n",
              "       1.09200473, 0.9145806 , 0.95040521, 0.97953408, 0.96882016,\n",
              "       0.71570365, 1.22953537, 0.95687779, 1.08521079, 1.06898618,\n",
              "       0.98585382, 1.08547395, 0.87773885, 1.11847083, 1.00373015,\n",
              "       1.12561768, 0.92296014, 0.98149187, 0.97327714, 1.15356654,\n",
              "       1.12012748, 0.9930465 , 0.89411399, 0.89558078, 0.99440226,\n",
              "       1.09592834, 0.90340669, 0.98209769, 0.99129874, 1.07829861,\n",
              "       1.02716557, 0.81293303, 1.07628011, 1.07862294, 1.18261073,\n",
              "       1.05538406, 1.10075137, 1.07286234, 0.99582848, 1.1077211 ,\n",
              "       1.08393129, 1.02130046, 1.11473215, 0.80485071, 0.95422868,\n",
              "       0.9916941 , 1.1156673 , 0.99053681, 1.1495242 , 1.10546205,\n",
              "       1.02846948, 0.88990905, 1.11623078, 1.00309451, 0.92541157,\n",
              "       1.0397083 , 1.03623545, 0.94263659, 0.9961233 , 0.90481548,\n",
              "       0.95745624, 1.01982846, 1.11801509, 1.03605486, 1.13411918,\n",
              "       0.91929337, 0.77790464, 0.7983688 , 1.05283289, 1.01993498,\n",
              "       1.23677302, 1.08593894, 1.09988471, 1.06915577, 0.90704262,\n",
              "       1.00972866, 0.92665223, 1.19067857, 1.16693018, 1.0604751 ,\n",
              "       1.10091631, 0.90266738, 1.0287397 , 0.99413616, 0.94691531,\n",
              "       0.90807522, 0.94637519, 1.00918168, 1.0207271 , 1.11158028,\n",
              "       0.87527146, 1.08879208, 0.93281973, 1.1274895 , 1.16559794,\n",
              "       1.0961824 , 1.02476086, 0.90718414, 1.12577848, 1.04666956,\n",
              "       1.11240544, 1.07910226, 0.78246279, 0.89852652, 1.10672757,\n",
              "       0.95423913, 0.80255979, 0.86726234, 1.10965659, 1.0653296 ,\n",
              "       1.08910229, 0.98177596, 0.82701168, 1.0442006 , 0.84926222,\n",
              "       1.02738534, 0.99380218, 1.1003464 , 0.9833646 , 1.05458834,\n",
              "       0.78881013, 1.03235119, 0.84413286, 0.86386011, 0.96839569,\n",
              "       1.06999834, 1.00260303, 1.15566733, 1.12035115, 0.9881922 ,\n",
              "       1.01144668, 0.95620183, 1.13146657, 0.8926081 , 1.08670223,\n",
              "       1.11936167, 0.9437131 , 1.22365702, 1.05762271, 1.05168116,\n",
              "       0.99513698, 0.92955801, 0.87916249, 0.96123082, 0.92184093,\n",
              "       1.12138499, 0.88219154, 0.91977349, 0.95770031, 1.009751  ])"
            ]
          },
          "metadata": {
            "tags": []
          },
          "execution_count": 5
        }
      ]
    },
    {
      "cell_type": "code",
      "metadata": {
        "id": "7OVVQELBPiIW",
        "outputId": "8d5b2008-18ad-4027-c168-8b00070669a1",
        "colab": {
          "base_uri": "https://localhost:8080/"
        }
      },
      "source": [
        "#In ra 10 phần tử đầu tiên\n",
        "print(samples[:10])"
      ],
      "execution_count": 6,
      "outputs": [
        {
          "output_type": "stream",
          "text": [
            "[0.94206283 0.95835255 1.07586515 1.00799984 0.98264631 0.90957569\n",
            " 1.05703074 1.02736484 1.10902144 1.11144588]\n"
          ],
          "name": "stdout"
        }
      ]
    },
    {
      "cell_type": "code",
      "metadata": {
        "id": "H4MmJeQZPiIX",
        "outputId": "ac493cbd-e65a-44b8-b81a-f05ec8a31b24",
        "colab": {
          "base_uri": "https://localhost:8080/"
        }
      },
      "source": [
        "#In ra các giá trị max, min của samples\n",
        "print('Max: ', max(samples))\n",
        "print('Min: ', min(samples))"
      ],
      "execution_count": 7,
      "outputs": [
        {
          "output_type": "stream",
          "text": [
            "Max:  1.3068638700333444\n",
            "Min:  0.6671924701194132\n"
          ],
          "name": "stdout"
        }
      ]
    },
    {
      "cell_type": "code",
      "metadata": {
        "id": "MN41K_e5PiIX",
        "outputId": "875fc3ab-6bed-4ce5-8448-3341864bdea2",
        "colab": {
          "base_uri": "https://localhost:8080/",
          "height": 469
        }
      },
      "source": [
        "#Vẽ histogram của mẫu vừa được sinh ngẫu nhiên\n",
        "plt.hist(samples, 30, density=True)\n",
        "plt.show()"
      ],
      "execution_count": 8,
      "outputs": [
        {
          "output_type": "display_data",
          "data": {
            "image/png": "[encoded data removed]",
            "text/plain": [
              "<Figure size 936x540 with 1 Axes>"
            ]
          },
          "metadata": {
            "tags": []
          }
        }
      ]
    },
    {
      "cell_type": "code",
      "metadata": {
        "id": "WmoPec2CPiIY",
        "outputId": "28ad895b-59f1-43b3-9bf9-3509d908ca9c",
        "colab": {
          "base_uri": "https://localhost:8080/",
          "height": 469
        }
      },
      "source": [
        "#Vẽ đường phân phối chuẩn cùng với histogram\n",
        "count, bins, ignored = plt.hist(samples, 30, density=True)\n",
        "plt.plot(bins, 1/(std * np.sqrt(2 * np.pi)) * np.exp( - (bins - mean)**2 / (2 * std**2) ),\n",
        "         linewidth=2, color='r')\n",
        "plt.show()"
      ],
      "execution_count": 9,
      "outputs": [
        {
          "output_type": "display_data",
          "data": {
            "image/png": "[encoded data removed]",
            "text/plain": [
              "<Figure size 936x540 with 1 Axes>"
            ]
          },
          "metadata": {
            "tags": []
          }
        }
      ]
    },
    {
      "cell_type": "code",
      "metadata": {
        "id": "M6oRXNTLPiIY",
        "outputId": "9bc419cc-a37a-415e-aad7-f08eac3ffbb7",
        "colab": {
          "base_uri": "https://localhost:8080/",
          "height": 533
        }
      },
      "source": [
        "#Sinh ngẫu nhiên 6000 mẫu theo phân phối chuẩn có mean = 0 và std = 10\n",
        "samples = np.random.normal(loc=0, scale=10, size=6000)\n",
        "#Minh họa một đuôi và mức alpha = 0.05\n",
        "two_std_from_mean = np.mean(samples) + np.std(samples)*1.645\n",
        "#kernel density\n",
        "kde = stats.gaussian_kde(samples)\n",
        "#Trả về 10000 giá trị phân bố bằng nhau trong khoảng từ min tới max của samples \n",
        "pos = np.linspace(np.min(samples), np.max(samples), 10000)\n",
        "plt.plot(pos, kde(pos), color='teal')\n",
        "shade = np.linspace(two_std_from_mean, 40, 300)\n",
        "plt.fill_between(shade, kde(shade), alpha=0.45, color='teal')\n",
        "plt.title(\"Phân phối mẫu của kiểm định giả thuyết 1 đuôi\", y=1.015, fontsize=20)\n",
        "plt.xlabel(\"giá trị trung bình mẫu\", labelpad=14)\n",
        "plt.ylabel(\"tần suất xuất hiện\", labelpad=14);"
      ],
      "execution_count": 10,
      "outputs": [
        {
          "output_type": "display_data",
          "data": {
            "image/png": "[encoded data removed]",
            "text/plain": [
              "<Figure size 936x540 with 1 Axes>"
            ]
          },
          "metadata": {
            "tags": []
          }
        }
      ]
    },
    {
      "cell_type": "markdown",
      "metadata": {
        "id": "2SiaqwS9PiIY"
      },
      "source": [
        "2. Hình minh họa các kiểm định 1-đuôi, 2-đuôi"
      ]
    },
    {
      "cell_type": "code",
      "metadata": {
        "id": "ceHPHUENPiIZ",
        "outputId": "cdd9f846-610a-4aeb-e34b-56f6fd386540",
        "colab": {
          "base_uri": "https://localhost:8080/",
          "height": 321
        }
      },
      "source": [
        "# Sử dụng hình minh họa\n",
        "from IPython.display import Image\n",
        "from IPython.core.display import HTML \n",
        "Image(url= \"https://media.geeksforgeeks.org/wp-content/uploads/20201028032933/Screenshot37.png\", width=300, height=300)"
      ],
      "execution_count": 11,
      "outputs": [
        {
          "output_type": "execute_result",
          "data": {
            "text/html": [
              "<img src=\"https://media.geeksforgeeks.org/wp-content/uploads/20201028032933/Screenshot37.png\" width=\"300\" height=\"300\"/>"
            ],
            "text/plain": [
              "<IPython.core.display.Image object>"
            ]
          },
          "metadata": {
            "tags": []
          },
          "execution_count": 11
        }
      ]
    },
    {
      "cell_type": "code",
      "metadata": {
        "id": "qcd7o70MPiIZ",
        "outputId": "ca788304-338a-4632-d655-5375150dd222",
        "colab": {
          "base_uri": "https://localhost:8080/",
          "height": 321
        }
      },
      "source": [
        "Image(url= \"https://media.geeksforgeeks.org/wp-content/uploads/20201028032937/Screenshot39.png\", width=300, height=300)"
      ],
      "execution_count": 12,
      "outputs": [
        {
          "output_type": "execute_result",
          "data": {
            "text/html": [
              "<img src=\"https://media.geeksforgeeks.org/wp-content/uploads/20201028032937/Screenshot39.png\" width=\"300\" height=\"300\"/>"
            ],
            "text/plain": [
              "<IPython.core.display.Image object>"
            ]
          },
          "metadata": {
            "tags": []
          },
          "execution_count": 12
        }
      ]
    },
    {
      "cell_type": "code",
      "metadata": {
        "id": "3xgzhPPXPiIZ",
        "outputId": "74153f14-d0de-4b64-92fc-d1980012fa5d",
        "colab": {
          "base_uri": "https://localhost:8080/",
          "height": 321
        }
      },
      "source": [
        "Image(url= \"https://media.geeksforgeeks.org/wp-content/uploads/20201028032935/Screenshot38.png\", width=300, height=300)t"
      ],
      "execution_count": 13,
      "outputs": [
        {
          "output_type": "execute_result",
          "data": {
            "text/html": [
              "<img src=\"https://media.geeksforgeeks.org/wp-content/uploads/20201028032935/Screenshot38.png\" width=\"300\" height=\"300\"/>"
            ],
            "text/plain": [
              "<IPython.core.display.Image object>"
            ]
          },
          "metadata": {
            "tags": []
          },
          "execution_count": 13
        }
      ]
    },
    {
      "cell_type": "markdown",
      "metadata": {
        "id": "KqNCyq0MPiIZ"
      },
      "source": [
        "3. Xây dựng một kiểm định z cụ thể với số liệu được sinh ngẫu nhiên theo phân phối chuẩn\n",
        "\n",
        "Bài toán: Giả sử lấy ra ngẫu nhiên 50 học sinh đang theo học chương trình tài năng và có IQ trung bình của nhóm này là 110. Biết giá trị trung bình của quần thể là 100 và độ lệch chuẩn là 15. Liệu với độ tin cậy là 95% (hay hệ số sig - significance level) - 5%) có thể nhận định học sinh theo học chương trình tài năng nói trên thông minh hơn học sinh thông thường hay không? \n",
        "\n",
        "Xây dựng giả thuyết\n",
        "\n",
        "$$H_{0}: \\mu = 100$$\n",
        "\n",
        "Giả thuyết thay thế: \n",
        "\n",
        "$$H_{a}: \\mu > 100 $$\n",
        "\n",
        "với:\n",
        "\n",
        "- Hệ số sig = 0.05\n",
        "- Chỉ số z tương ứng với hệ số sig ở trên là 1.645\n",
        "\n",
        "Công thức:\n",
        "$$Z = \\frac{(\\overline{\\rm X} - \\mu)}{(\\sigma / \\sqrt{n})}$$\n",
        "\n",
        "Áp dụng với các giá trị nêu trên:\n",
        "\n",
        "- $\\overline{\\rm X} = 110$\n",
        "- $\\mu = 100$\n",
        "- $\\sigma = 15$\n",
        "- $\\alpha = 0.05$\n",
        "- $n =50$\n",
        "\n",
        "$$Z = \\frac{(110 - 100)}{(15 / \\sqrt{50})} = 4.71$$\n",
        "\n",
        "Giá trị z = 4.71 > 1.645 nên có bằng chứng để bác bỏ giả thuyết $H_{0}$\n"
      ]
    },
    {
      "cell_type": "markdown",
      "metadata": {
        "id": "c-5FO5mvPiIa"
      },
      "source": [
        "Lập trình Python cho bài toán nêu trên"
      ]
    },
    {
      "cell_type": "code",
      "metadata": {
        "id": "W_HwEyaaPiIb",
        "outputId": "443fe537-16d8-438d-969d-be348f18dea4",
        "colab": {
          "base_uri": "https://localhost:8080/"
        }
      },
      "source": [
        "#Sinh ngẫu nhiên một mẫu 50 phần tử có trung bình mẫu là 110, độ lệch chuẩn là 15\n",
        "samples = np.random.normal(110, 15, 50)\n",
        "print(samples[:10])"
      ],
      "execution_count": 14,
      "outputs": [
        {
          "output_type": "stream",
          "text": [
            "[117.99631167 117.68612018 103.17254932 100.103978   132.21966925\n",
            " 136.75000023 136.69707224  97.53357017  79.52221023  93.9146023 ]\n"
          ],
          "name": "stdout"
        }
      ]
    },
    {
      "cell_type": "code",
      "metadata": {
        "id": "vB_VbqhKPiIc"
      },
      "source": [
        "#Xác định các thông số\n",
        "null_mean = 100\n",
        "alpha = 0.05"
      ],
      "execution_count": 15,
      "outputs": []
    },
    {
      "cell_type": "code",
      "metadata": {
        "id": "L3IBAJg3PiIc",
        "outputId": "7be3d8ff-b03d-4fa7-a56d-a6f1642e71c4",
        "colab": {
          "base_uri": "https://localhost:8080/"
        }
      },
      "source": [
        "#Kiểm định z\n",
        "ztest_Score, p_value= ztest(samples, value = null_mean, alternative='larger')\n",
        "if(p_value <  alpha):\n",
        "  print(\"Có bằng chứng để bác bỏ giả thuyết H0\")\n",
        "else:\n",
        "  print(\"Chưa có bằng chứng để bác bỏ giả thuyết H0\")"
      ],
      "execution_count": 16,
      "outputs": [
        {
          "output_type": "stream",
          "text": [
            "Có bằng chứng để bác bỏ giả thuyết H0\n"
          ],
          "name": "stdout"
        }
      ]
    },
    {
      "cell_type": "markdown",
      "metadata": {
        "id": "ktBDxJnkPiIc"
      },
      "source": [
        "Kiểm định giả thuyết 2-đuôi\n",
        "\n",
        "Một cách tổng quát, giả sử chúng ta có 2 quần thể độc lập và tuân theo phân phối chuẩn. Lấy ra 2 mẫu ngẫu nhiên tử 2 quần thể này.\n",
        "\n",
        "Xây dựng giả thuyết:\n",
        "\n",
        "$$H_{0}: \\mu_{1} = \\mu_{2}$$\n",
        "\n",
        "Giả thuyết thay thế:\n",
        "\n",
        "$$H_{a}: \\mu_{1} \\neq \\mu_{2}$$\n",
        "\n",
        "Thực hiện kiểm định z và so sánh với giá trị $z_{\\frac{\\alpha}{2}}$ để đi đến kết luận cuối cùng."
      ]
    },
    {
      "cell_type": "code",
      "metadata": {
        "id": "jZ0ao8F0PiIc",
        "outputId": "9b4e02af-ed94-4879-f00d-7dbd7ac84e2b",
        "colab": {
          "base_uri": "https://localhost:8080/"
        }
      },
      "source": [
        "#Lập trình python minh họa\n",
        "#Sinh ngẫu nhiên sample 1 có 50 phần tử với mean = 15 std = 6\n",
        "samples_1 = np.random.normal(15, 6, 50)\n",
        "samples_1"
      ],
      "execution_count": 18,
      "outputs": [
        {
          "output_type": "execute_result",
          "data": {
            "text/plain": [
              "array([ 3.17595063, -0.22663486, 11.31176789,  9.76262642, 20.78448601,\n",
              "        7.31621018, 15.86413017,  9.6817565 , 14.85846961, 15.58196907,\n",
              "       16.47399297, 12.33613976, 19.42943732, 19.8387419 , 14.11137792,\n",
              "       16.55177335, 10.33443354, 13.30787188, 15.21961715, 14.40641622,\n",
              "       14.34092216, 19.27761257, 26.67460114, 14.30196367, 16.30274302,\n",
              "        7.67190383, 15.64237198, 10.16610579, 14.52503574,  9.9884268 ,\n",
              "        1.23202816, 16.8488985 ,  6.03745386,  9.11665279,  7.74746565,\n",
              "       25.43897678, 24.66443827, 11.57883679, 16.09362103, 14.81176257,\n",
              "        7.83795809,  8.544248  , 10.86660045, 21.38918401, 26.11308531,\n",
              "       24.90278694, 20.37845826, 11.45713564, 12.54839363, 14.44247942])"
            ]
          },
          "metadata": {
            "tags": []
          },
          "execution_count": 18
        }
      ]
    },
    {
      "cell_type": "code",
      "metadata": {
        "id": "EvjowAsxSLPl",
        "outputId": "f07f0abb-7c74-4d1f-84fd-d18ddc3b51a5",
        "colab": {
          "base_uri": "https://localhost:8080/"
        }
      },
      "source": [
        "print(samples_1[:10])"
      ],
      "execution_count": 19,
      "outputs": [
        {
          "output_type": "stream",
          "text": [
            "[ 3.17595063 -0.22663486 11.31176789  9.76262642 20.78448601  7.31621018\n",
            " 15.86413017  9.6817565  14.85846961 15.58196907]\n"
          ],
          "name": "stdout"
        }
      ]
    },
    {
      "cell_type": "code",
      "metadata": {
        "id": "T-S0WqWdPiId",
        "outputId": "3a28fe52-45bc-4fea-f6bf-94abc238c0bf",
        "colab": {
          "base_uri": "https://localhost:8080/"
        }
      },
      "source": [
        "#Sinh ngẫu nhiên sample 2 có 60 phần tử với mean = 19 std = 7\n",
        "samples_2 = np.random.normal(19, 7, 60)\n",
        "samples_2"
      ],
      "execution_count": 20,
      "outputs": [
        {
          "output_type": "execute_result",
          "data": {
            "text/plain": [
              "array([25.6241277 , 25.46676325, 18.71778593, 22.75785122, 19.76867283,\n",
              "       14.76570552, 10.33243641, 20.40892581, 17.9534719 , 12.52922271,\n",
              "       19.46084316, 19.41784403, 12.68131958, 24.21576661, 23.47552035,\n",
              "       26.15360292, 29.27020308, 20.80259813, 10.10633657,  9.81734465,\n",
              "       17.83741565, 29.6197166 , 26.42451933, 20.54785099, 22.07254801,\n",
              "       25.10879436, 20.39618962, 21.14259917, 19.10319603, 32.54623954,\n",
              "       19.38661097, 22.20834068, 23.63930838, 15.57044581, 13.08649948,\n",
              "       25.02427929, 26.26946461, 27.00935113, 22.36865458, 13.67339991,\n",
              "       18.33434416, 11.56855702, 13.10981732, 22.48389453, 19.51586971,\n",
              "       17.73679125, 20.31785286, 21.96515475, 23.85306956, 20.29994839,\n",
              "       12.76997639, 28.95879653, 23.00275646, 16.21818756, 19.31280227,\n",
              "        6.53233261, 22.58149528, 26.6632862 , 20.07120869, 13.52087831])"
            ]
          },
          "metadata": {
            "tags": []
          },
          "execution_count": 20
        }
      ]
    },
    {
      "cell_type": "code",
      "metadata": {
        "id": "6jq0SydnSRoE",
        "outputId": "7210456b-69e1-46f4-eb08-4890d8d2bc60",
        "colab": {
          "base_uri": "https://localhost:8080/"
        }
      },
      "source": [
        "print(samples_1[:10])"
      ],
      "execution_count": 21,
      "outputs": [
        {
          "output_type": "stream",
          "text": [
            "[ 3.17595063 -0.22663486 11.31176789  9.76262642 20.78448601  7.31621018\n",
            " 15.86413017  9.6817565  14.85846961 15.58196907]\n"
          ],
          "name": "stdout"
        }
      ]
    },
    {
      "cell_type": "code",
      "metadata": {
        "id": "llkdC3fTPiId",
        "outputId": "3692bc06-357a-420c-bf35-24bd224d7b8b",
        "colab": {
          "base_uri": "https://localhost:8080/"
        }
      },
      "source": [
        "#Kiểm định giả thuyết \n",
        "alpha = 0.05\n",
        "ztest_score, p_value = ztest(x1 = samples_1, x2 = samples_2, value = 15 - 19, alternative = 'two-sided')\n",
        "print('z = ', ztest_score, '; p = ', p_value)\n",
        "if(p_value <  alpha):\n",
        "  print(\"Có bằng chứng để bác bỏ giả thuyết H0\")\n",
        "else:\n",
        "  print(\"Chưa có bằng chứng để bác bỏ giả thuyết H0\")"
      ],
      "execution_count": 22,
      "outputs": [
        {
          "output_type": "stream",
          "text": [
            "z =  -1.8632845638699325 ; p =  0.06242224072739755\n",
            "Chưa có bằng chứng để bác bỏ giả thuyết H0\n"
          ],
          "name": "stdout"
        }
      ]
    }
  ]
}