{
 "cells": [
  {
   "cell_type": "markdown",
   "metadata": {
    "colab_type": "text",
    "id": "view-in-github"
   },
   "source": [
    "<a href=\"https://colab.research.google.com/github/PhamQuocDatAI/PTDL-with-Python/blob/master/huong_dan_kiem_dinh_z.ipynb\" target=\"_parent\"><img src=\"https://colab.research.google.com/assets/colab-badge.svg\" alt=\"Open In Colab\"/></a>"
   ]
  },
  {
   "cell_type": "markdown",
   "metadata": {
    "id": "FlhZFteLPiIN"
   },
   "source": [
    "HƯỚNG DẪN SUY DIỄN THỐNG KÊ BẰNG GÓI STATS CỦA THƯ VIỆN SCIPY"
   ]
  },
  {
   "cell_type": "markdown",
   "metadata": {
    "id": "vxP1UYYLPiIS"
   },
   "source": [
    "1. Các thư viện cần thiết"
   ]
  },
  {
   "cell_type": "code",
   "execution_count": 2,
   "metadata": {
    "colab": {
     "base_uri": "https://localhost:8080/"
    },
    "id": "VP-2dBSsPiIT",
    "outputId": "0d8bbeb0-c99b-4ffa-dd62-98054358b891"
   },
   "outputs": [],
   "source": [
    "import numpy as np\n",
    "import pandas as pd\n",
    "import random\n",
    "from scipy import stats\n",
    "from statsmodels.stats.weightstats import ztest\n",
    "import warnings\n",
    "import matplotlib.pyplot as plt\n",
    "import seaborn as sns\n",
    "%matplotlib inline"
   ]
  },
  {
   "cell_type": "markdown",
   "metadata": {
    "id": "dApblv4MPiIT"
   },
   "source": [
    "2. Thiết lập định dạng hình ảnh"
   ]
  },
  {
   "cell_type": "code",
   "execution_count": 3,
   "metadata": {
    "id": "xGFmDvCJPiIU"
   },
   "outputs": [],
   "source": [
    "sns.set(rc={'figure.figsize':(13, 7.5)})\n",
    "sns.set_context('talk')   "
   ]
  },
  {
   "cell_type": "markdown",
   "metadata": {
    "id": "TOBvtJ0lPiIU"
   },
   "source": [
    "3. Tắt các cảnh báo của scipy"
   ]
  },
  {
   "cell_type": "code",
   "execution_count": 4,
   "metadata": {
    "id": "YO14wt37PiIU"
   },
   "outputs": [],
   "source": [
    "warnings.filterwarnings('ignore')"
   ]
  },
  {
   "cell_type": "markdown",
   "metadata": {
    "id": "yLZwGys3PiIV"
   },
   "source": [
    "4. Một số lưu ý khi kiểm định giả thuyết trong thống kê suy diễn\n",
    "\n",
    "(1) Cỡ mẫu thường phải đủ lớn ($n \\geq 30$) để có ý nghĩa thống kê\n",
    "\n",
    "(2) Các mẫu quan sát được (sample observations) phải được lựa chọn ngẫu nhiên từ quần thể\n",
    "\n",
    "(3) Các đại lượng như trung bình mẫu (sample mean), độ lệch chuẩn của mẫu (standard deviation), phương sai mẫu (sample variance) được tính từ tập mẫu quan sát được.\n",
    "\n",
    "(4) Giả định rằng quần thể được nghiên cứu lấy mẫu xấp xỉ với phân phối chuẩn."
   ]
  },
  {
   "cell_type": "markdown",
   "metadata": {
    "id": "NuP3PIHGPiIV"
   },
   "source": [
    "5. Các bước thực hiện kiểm định giả thuyết (sử dụng kiểm định z)\n",
    "\n",
    "Bước 1: Thực hiện các phép đo, hay thu thập dữ liệu quan sát\n",
    "\n",
    "Bước 2: Phát biểu giả thuyết $H_{0}$ và giả thuyết thay thế $H_{a}$\n",
    "\n",
    "Bước 3: Xác định mức $\\alpha$ (hay khoảng tin cậy)\n",
    "\n",
    "Bước 4: Lấy mẫu và tính toán các đại lượng thống kê của mẫu\n",
    "\n",
    "Bước 5: Thực hiện kiểm định z (z-test)\n",
    "\n",
    "Bước 6: Kết luận dựa vào kết quả kiểm định"
   ]
  },
  {
   "cell_type": "markdown",
   "metadata": {
    "id": "bb6b5GSdPiIV"
   },
   "source": [
    "KIỂM ĐỊNH GIẢ THUYẾT MỘT ĐUÔI \n",
    "\n",
    "1. Kỹ thuật sinh dữ liệu ngẫu nhiên\n",
    "\n",
    "Sinh các mẫu ngẫu nhiên lấy ra từ phân phối chuẩn bằng hàm random.normal() với các tham số:\n",
    "\n",
    "- mean: giá trị trung bình của quần thể\n",
    "\n",
    "- scale: độ lệch chuẩn của quần thể (không âm)\n",
    "\n",
    "- size: kích thước mẫu"
   ]
  },
  {
   "cell_type": "code",
   "execution_count": 5,
   "metadata": {
    "colab": {
     "base_uri": "https://localhost:8080/"
    },
    "id": "TkWz0dIhPiIW",
    "outputId": "09d1ddb8-c400-44e0-8e82-36391777466c"
   },
   "outputs": [
    {
     "data": {
      "text/plain": [
       "array([0.98022381, 0.83107499, 1.1602855 , 1.02204444, 1.02510925,\n",
       "       1.11632252, 1.12780758, 0.89186905, 1.14685186, 0.8428224 ,\n",
       "       0.99307151, 0.83252707, 1.12537917, 0.93740968, 1.01697475,\n",
       "       1.11568219, 1.05729435, 0.99379836, 0.83195487, 0.90264673,\n",
       "       0.88698894, 0.96662224, 0.98137446, 0.84783495, 0.88143683,\n",
       "       0.98379108, 0.9869277 , 1.02900166, 1.20298041, 0.91469301,\n",
       "       0.97209701, 1.04657303, 0.94696604, 1.10365989, 0.98875953,\n",
       "       1.17404412, 0.99193152, 1.02480572, 1.24341625, 0.98466237,\n",
       "       1.01571018, 0.86972176, 0.99866279, 1.06743093, 1.01678705,\n",
       "       0.97483871, 0.84852042, 1.0486088 , 1.08421262, 1.0426175 ,\n",
       "       1.20399869, 0.90000682, 1.09426987, 0.89726124, 0.98284882,\n",
       "       1.02631401, 1.02277293, 0.82358573, 0.91666006, 0.86959401,\n",
       "       0.87284955, 0.90831553, 1.0708657 , 0.99552778, 0.92241479,\n",
       "       0.8952041 , 0.9446715 , 1.04841362, 1.01692811, 1.13043891,\n",
       "       0.97852945, 1.07511996, 1.09933609, 0.99143748, 0.85724807,\n",
       "       0.9266519 , 1.20710851, 0.95467092, 0.85263598, 0.95528514,\n",
       "       1.13137351, 0.9045596 , 1.21089552, 0.89145452, 0.91776517,\n",
       "       0.83958076, 0.83132457, 0.98466244, 0.88957116, 1.08633569,\n",
       "       0.9035813 , 0.84768736, 0.92486106, 0.85363508, 0.97995813,\n",
       "       1.03503587, 1.10456432, 0.91939373, 1.01032257, 1.06642539,\n",
       "       0.81498212, 1.05220587, 0.87360799, 0.88806612, 1.05181071,\n",
       "       1.05569918, 1.0106886 , 1.11607143, 0.79098653, 0.96516515,\n",
       "       0.95999571, 1.02322399, 0.97545695, 1.21928133, 1.03961665,\n",
       "       0.80870785, 0.96057031, 1.18615682, 0.76331922, 0.92189273,\n",
       "       0.86750145, 0.96537521, 1.04171928, 1.18186627, 0.96233515,\n",
       "       0.92051616, 0.99217463, 0.95207731, 0.99426058, 1.03777626,\n",
       "       1.01956845, 1.07144314, 1.16828553, 0.98355407, 0.89239612,\n",
       "       0.96052799, 1.06926078, 0.97161623, 1.11236894, 0.89294619,\n",
       "       1.09371348, 0.99538175, 1.0985205 , 1.15553186, 1.12473915,\n",
       "       1.04476475, 1.02352458, 0.80589382, 0.85994904, 0.88617861,\n",
       "       1.07476198, 1.0335755 , 1.04564824, 1.06196025, 1.06208616,\n",
       "       1.01791518, 1.08954658, 1.05308121, 0.89860032, 1.06428802,\n",
       "       1.04458259, 1.01350115, 1.11984547, 0.96016501, 1.11041584,\n",
       "       0.91449641, 1.03560521, 0.9218118 , 0.90065607, 1.04147495,\n",
       "       0.90400692, 0.95972134, 0.98468501, 1.13955481, 1.08661538,\n",
       "       0.95457443, 1.03722017, 0.91739488, 1.00927786, 0.8952794 ,\n",
       "       1.14513494, 1.0416454 , 0.76841882, 1.00456406, 1.01578471,\n",
       "       0.99424126, 1.07981719, 0.88880703, 0.97287397, 0.94102238,\n",
       "       1.20038679, 0.74897708, 0.97135919, 1.02327996, 1.03834126,\n",
       "       0.95621132, 0.94956322, 0.93585067, 1.02395565, 0.9484094 ,\n",
       "       0.80250267, 0.95429732, 1.05485082, 1.09759864, 1.20543052,\n",
       "       0.7595101 , 0.98050455, 0.80292656, 1.1359125 , 1.05061453,\n",
       "       1.1975054 , 1.14514594, 1.26252746, 1.02895042, 1.00716123,\n",
       "       0.92413038, 0.84950572, 1.15385739, 1.14760277, 1.07917948,\n",
       "       0.84006906, 1.17799716, 1.08521218, 1.00136236, 0.83363292,\n",
       "       0.95099733, 0.82538639, 0.91916704, 1.17499265, 0.86692188,\n",
       "       1.00669248, 0.86123504, 0.98195755, 0.87059185, 1.08060433,\n",
       "       1.21522884, 1.04822008, 0.97864088, 1.03081811, 0.83745169,\n",
       "       0.95081553, 0.98372604, 0.87276225, 0.96164054, 1.0090022 ,\n",
       "       0.90054412, 1.17319869, 0.87127776, 1.0711394 , 1.1020423 ,\n",
       "       0.8926944 , 0.94389479, 0.98061767, 0.98238004, 1.11412722,\n",
       "       1.13898208, 0.85139802, 0.8603114 , 0.99742093, 0.90369799,\n",
       "       1.14441767, 0.93996726, 0.99253016, 1.06626332, 1.06356173,\n",
       "       0.85523287, 0.94540199, 0.97592781, 1.06747769, 0.98549804,\n",
       "       0.94906661, 1.01648704, 0.96549348, 1.11805689, 1.0075747 ,\n",
       "       0.96398979, 0.91628371, 1.0523649 , 1.04002527, 1.07449241,\n",
       "       0.97753224, 0.95485136, 0.97567692, 1.0360015 , 1.04963862,\n",
       "       1.0508329 , 0.948401  , 0.72733686, 1.11229639, 1.14311702,\n",
       "       1.04573491, 1.23511503, 0.79861839, 1.10258175, 0.98510414,\n",
       "       1.09201519, 0.87928191, 0.89944656, 0.78140688, 0.93547172,\n",
       "       0.9008052 , 0.9949635 , 0.92693667, 0.77640933, 1.03690601,\n",
       "       1.08984747, 1.17887329, 1.09265246, 0.93741359, 1.1121888 ,\n",
       "       0.84535266, 0.92427461, 0.86113576, 0.89829229, 0.92545201,\n",
       "       1.02424515, 1.03685401, 0.95071257, 1.02330281, 1.07218092,\n",
       "       1.01688216, 0.98451964, 0.82417689, 0.97290527, 1.14451408,\n",
       "       1.02102299, 1.00765199, 0.82500603, 0.98788279, 1.1612395 ,\n",
       "       1.14993271, 1.05162008, 1.14582018, 1.06137331, 1.01832686,\n",
       "       0.90995416, 1.11045318, 0.9503023 , 0.93194873, 1.15278015,\n",
       "       1.02248128, 1.15919949, 0.92445826, 1.04236727, 0.93250774,\n",
       "       0.9970084 , 1.0129573 , 0.99390496, 1.14035352, 1.01536523,\n",
       "       0.85621057, 0.95793588, 1.04679908, 1.03155704, 0.92346582,\n",
       "       1.14752433, 0.9950048 , 0.95470698, 0.95391583, 1.20418261,\n",
       "       0.98420838, 0.99722406, 0.99415277, 1.11529893, 1.08355548,\n",
       "       1.01916388, 1.0555621 , 0.99122231, 0.99689488, 1.05465384,\n",
       "       1.13419382, 0.99847449, 0.88856189, 1.12923338, 1.02253009,\n",
       "       1.04477522, 1.08095647, 0.9166415 , 1.13076184, 0.80907652,\n",
       "       1.01145566, 0.94881764, 1.00469488, 1.15330425, 0.75329206,\n",
       "       1.09140132, 1.10889467, 0.94127063, 1.01305164, 0.8342651 ,\n",
       "       1.04735057, 1.14602239, 1.15130104, 1.12037911, 1.07603806,\n",
       "       1.00062045, 1.18844825, 1.05271398, 0.99561768, 1.12037483,\n",
       "       0.96203789, 1.13442024, 1.25275496, 0.97676703, 1.05316648,\n",
       "       0.98930192, 0.96514337, 0.96491732, 1.17167099, 1.05730831,\n",
       "       0.88403404, 0.99153114, 1.05370909, 1.0344749 , 1.17629475,\n",
       "       0.88568169, 0.99611444, 1.07403268, 0.98191041, 1.00146154,\n",
       "       0.9195829 , 1.19460395, 1.08313657, 1.02073993, 0.80465882,\n",
       "       1.09592067, 0.96856798, 1.14203747, 0.89852631, 1.08134811,\n",
       "       0.89730146, 1.03017395, 0.9377881 , 0.97623491, 0.94398726,\n",
       "       1.1001388 , 1.1458265 , 1.02582122, 0.96813708, 0.96736897,\n",
       "       1.0581251 , 0.99788308, 0.95066653, 0.96209064, 0.86667189,\n",
       "       1.12186566, 0.95114503, 0.99730747, 0.97415551, 1.02218282,\n",
       "       0.98843169, 0.78819436, 0.98516281, 0.7812135 , 1.00962832,\n",
       "       0.92870567, 1.11543096, 0.91550142, 0.88242005, 0.98935116,\n",
       "       0.90965695, 0.93756304, 1.13904671, 1.00847196, 1.05723719,\n",
       "       0.91477772, 0.84511878, 0.98104971, 0.92719487, 0.95781339,\n",
       "       0.902663  , 0.90899491, 0.87217997, 0.75737129, 0.99475768,\n",
       "       0.96710932, 1.00710125, 1.13726454, 0.96657253, 1.1208224 ,\n",
       "       1.00452727, 0.92390262, 1.10104909, 1.0761599 , 0.97182042,\n",
       "       0.88098147, 1.14659101, 0.9791737 , 0.9929215 , 0.95107317,\n",
       "       1.08893178, 1.17902114, 1.03788682, 0.92788742, 1.14099924,\n",
       "       1.1948131 , 1.11116391, 1.18468005, 0.94617434, 1.13510839,\n",
       "       1.01868182, 0.94531027, 1.09424859, 0.96074164, 1.14261896,\n",
       "       0.89758626, 0.94931495, 0.99546653, 1.01740181, 1.07897416,\n",
       "       1.1318978 , 1.2110864 , 1.03667678, 1.0577522 , 1.00537024,\n",
       "       0.9141954 , 0.88323943, 1.12402021, 0.92045703, 0.91865407,\n",
       "       0.99629537, 1.0927065 , 1.12735419, 0.93320481, 0.97874396,\n",
       "       1.05154566, 0.88254308, 0.94571962, 1.02741113, 0.80823641,\n",
       "       0.98484886, 1.08402564, 0.95328003, 1.08279534, 0.97111974,\n",
       "       0.84979724, 0.98141377, 0.9666184 , 1.02938339, 0.98691677,\n",
       "       1.13073854, 0.89194074, 1.0132539 , 0.97390885, 1.03556644,\n",
       "       0.83764817, 0.86970555, 0.98861638, 1.24846922, 1.02396543,\n",
       "       0.95841945, 1.22365282, 1.1171645 , 0.82024592, 1.06211252,\n",
       "       0.96777882, 1.00385202, 1.00867068, 0.96874046, 1.15145418,\n",
       "       1.12506986, 1.05716302, 1.20686654, 0.73702875, 0.89943505,\n",
       "       0.91274723, 0.99536815, 0.92701921, 1.08969099, 1.16209381,\n",
       "       0.99491407, 1.10585466, 1.01160704, 0.98950835, 0.98408641,\n",
       "       1.00458563, 0.96992552, 0.87248961, 1.06158535, 0.80484977,\n",
       "       1.06598267, 0.90630307, 0.84816589, 0.82422594, 0.90007157,\n",
       "       0.97720951, 1.09720737, 1.0070697 , 1.01424622, 1.13610943,\n",
       "       1.06138306, 0.94211638, 1.18233307, 1.23496806, 1.1036332 ,\n",
       "       0.80200324, 1.11469228, 0.95797804, 0.97814552, 0.91575647,\n",
       "       0.8998692 , 0.92559192, 1.02420646, 1.06167313, 0.90352953,\n",
       "       1.02742569, 1.02076863, 0.92935927, 1.18132933, 1.24436064,\n",
       "       1.08899803, 1.15344629, 0.9201384 , 1.03320295, 0.94111259,\n",
       "       1.01462632, 1.01838324, 1.02837761, 1.08106152, 0.76883393,\n",
       "       1.13632774, 1.00770895, 1.15848929, 1.1626823 , 0.80321603,\n",
       "       1.00446762, 0.99287061, 1.2089583 , 1.10155341, 1.04527614,\n",
       "       0.9568685 , 0.91211269, 0.94342015, 0.89492748, 0.88245495,\n",
       "       1.0496766 , 0.91295405, 1.03067339, 0.9084542 , 0.85412389,\n",
       "       0.91474276, 1.11089517, 1.20486304, 0.93213519, 1.0573781 ,\n",
       "       1.10206004, 0.88708372, 0.99631615, 1.1438182 , 1.17559617,\n",
       "       1.01059946, 1.04091912, 0.93722261, 0.8234079 , 1.08533965,\n",
       "       1.081497  , 0.98672416, 1.03049103, 1.02127279, 1.06590141,\n",
       "       1.13289708, 1.18952433, 0.96324645, 1.0779785 , 0.90792294,\n",
       "       0.9747025 , 1.21266313, 0.88271754, 1.10130884, 0.93522668,\n",
       "       0.99873505, 1.11031704, 1.00912867, 1.09468175, 1.0263961 ,\n",
       "       0.87048897, 1.00139706, 0.7652405 , 0.9811225 , 0.90679961,\n",
       "       0.9080075 , 0.91545416, 0.92704949, 1.04516201, 0.99807701,\n",
       "       0.9112337 , 1.09894699, 0.90925253, 0.99015614, 0.85644247,\n",
       "       1.04836034, 1.16120767, 0.91182823, 0.79825059, 1.00712872,\n",
       "       0.96077288, 0.94384934, 1.01756904, 0.96991918, 0.98972924,\n",
       "       0.91342525, 0.94270592, 1.05637989, 0.88182159, 1.06688372,\n",
       "       1.147198  , 0.74571943, 0.81156039, 0.99670418, 0.81068219,\n",
       "       1.07575354, 1.07304495, 0.98330185, 1.0454601 , 0.95845317,\n",
       "       0.79586035, 1.05883994, 0.87484835, 0.94711189, 0.94505797,\n",
       "       0.94850302, 1.00607401, 0.99462231, 0.94328136, 0.72023138,\n",
       "       1.11838054, 0.96790891, 0.8703139 , 1.09034701, 0.96769834,\n",
       "       0.98994573, 1.10344483, 1.04549406, 1.07041038, 0.96961442,\n",
       "       1.14272188, 1.03102796, 1.05913455, 1.02734779, 0.96474359,\n",
       "       0.97185923, 0.96286572, 0.93714966, 0.96840619, 1.05636026,\n",
       "       1.0103687 , 1.00277322, 0.89637318, 0.99432091, 1.0114055 ,\n",
       "       0.92461924, 1.01502002, 0.96277604, 1.23205704, 0.90232304,\n",
       "       1.08579016, 1.04273119, 0.90679181, 0.89870139, 1.11515369,\n",
       "       0.94731901, 1.21782051, 0.90084976, 1.0115399 , 0.96218935,\n",
       "       0.93427847, 1.18136229, 1.23155782, 1.05905381, 1.05973544,\n",
       "       1.15076587, 1.01862789, 1.03258733, 0.98958358, 0.99741253,\n",
       "       0.85999044, 0.99305271, 0.90149582, 1.17545678, 1.01582006,\n",
       "       1.00939338, 0.86843177, 1.07203754, 0.91303675, 0.91232541,\n",
       "       0.94552404, 0.88543757, 1.17158242, 0.99486575, 1.01025937,\n",
       "       0.89511653, 1.08662657, 0.95359635, 1.03203535, 0.94901663,\n",
       "       1.02395584, 1.13416369, 0.92649501, 1.02208365, 1.16252778,\n",
       "       1.17156408, 0.94175086, 0.94088127, 0.91047461, 0.90719746,\n",
       "       1.06575229, 0.8991102 , 0.99535922, 0.87592135, 0.85805681,\n",
       "       1.09399266, 1.11989515, 0.80449899, 1.11220656, 0.86632353,\n",
       "       1.08983189, 0.93700631, 1.05845797, 0.96863028, 1.03495743,\n",
       "       1.25266031, 1.06959415, 0.9485094 , 0.80379897, 1.04833427,\n",
       "       0.83002439, 0.86324023, 0.73912445, 1.21517523, 0.97238797,\n",
       "       0.8859227 , 1.04845349, 1.08241632, 0.8320312 , 1.01914584,\n",
       "       0.98623657, 0.91984777, 0.89109875, 0.99095943, 0.93081517,\n",
       "       0.94665407, 0.99101234, 1.03314068, 1.00889729, 0.77810467,\n",
       "       0.92860489, 0.86627705, 1.00060421, 0.93552825, 0.8035764 ,\n",
       "       0.92081842, 0.94278204, 0.87708381, 0.89597508, 1.12405751,\n",
       "       0.89029562, 0.7643615 , 0.85309971, 0.99864505, 0.92542886,\n",
       "       0.98392151, 0.96103552, 1.18276542, 1.03919497, 0.88755701,\n",
       "       1.13700548, 1.0450592 , 0.99633318, 1.01886113, 1.01399474,\n",
       "       1.04879111, 0.93709102, 1.07892073, 1.08033302, 1.04757132,\n",
       "       1.01447096, 1.01696249, 0.95188497, 0.97229136, 0.98875669,\n",
       "       1.02710693, 0.97352177, 0.97192834, 1.06038052, 0.87526028,\n",
       "       1.02027531, 0.85079819, 0.93310255, 0.9847094 , 1.0372007 ,\n",
       "       1.11984723, 0.99229071, 1.04497863, 0.98312333, 1.08389199,\n",
       "       0.88094109, 0.83265034, 0.90855142, 0.94608251, 1.18332739,\n",
       "       1.00380886, 1.0128105 , 0.863943  , 1.00300781, 1.02316035,\n",
       "       0.98652961, 1.05540518, 0.91874315, 1.05012263, 0.85139082,\n",
       "       1.00249367, 0.80848796, 1.07983727, 1.18535856, 0.93449804,\n",
       "       0.87477821, 0.96227426, 0.93466258, 0.90188281, 1.08718866,\n",
       "       0.88616887, 1.07250915, 1.10407605, 0.94369015, 1.12976555,\n",
       "       0.99796798, 1.06460938, 1.0073658 , 0.98972358, 0.98664766,\n",
       "       1.12515687, 1.01963252, 1.02366114, 1.10980166, 1.08312619,\n",
       "       0.8723283 , 1.04552475, 0.97408882, 1.11787854, 0.98259548,\n",
       "       0.94139736, 0.89090328, 1.0554979 , 1.05179016, 1.02410493,\n",
       "       1.03238181, 0.8348326 , 1.02239197, 0.92935149, 0.99982233,\n",
       "       1.19495298, 0.95413538, 1.08596374, 1.02303588, 1.02843753,\n",
       "       0.89922277, 1.04216802, 1.02397989, 0.84236992, 0.91837209,\n",
       "       1.11426349, 0.95799308, 0.76264685, 0.90780681, 0.78058542,\n",
       "       0.91035004, 1.0360508 , 1.01550715, 1.09137348, 1.08769759,\n",
       "       1.1225211 , 1.00077539, 1.09425616, 0.99278338, 1.09137643,\n",
       "       0.97262326, 0.95071778, 0.84313312, 1.00300332, 0.99949397,\n",
       "       0.84381007, 1.07810462, 1.0227189 , 0.95175687, 0.94659376,\n",
       "       0.86893986, 1.07577706, 1.0013826 , 0.99668524, 0.93751519,\n",
       "       1.02215144, 1.12848526, 0.93604253, 0.98451146, 0.93622959,\n",
       "       0.88284714, 0.88386303, 1.08074693, 0.78621499, 1.06908737])"
      ]
     },
     "execution_count": 5,
     "metadata": {},
     "output_type": "execute_result"
    }
   ],
   "source": [
    "#Sinh ngẫu nhiên 1000 mẫu tuân theo phân phối chuẩn có trung bình mẫu là 1 và độ lệch chuẩn là 0.1\n",
    "mean = 1\n",
    "std = 0.1\n",
    "N = 1000\n",
    "samples = np.random.normal(mean, std, N)\n",
    "samples"
   ]
  },
  {
   "cell_type": "code",
   "execution_count": 6,
   "metadata": {
    "colab": {
     "base_uri": "https://localhost:8080/"
    },
    "id": "7OVVQELBPiIW",
    "outputId": "8d5b2008-18ad-4027-c168-8b00070669a1"
   },
   "outputs": [
    {
     "name": "stdout",
     "output_type": "stream",
     "text": [
      "[0.98022381 0.83107499 1.1602855  1.02204444 1.02510925 1.11632252\n",
      " 1.12780758 0.89186905 1.14685186 0.8428224 ]\n"
     ]
    }
   ],
   "source": [
    "#In ra 10 phần tử đầu tiên\n",
    "print(samples[:10])"
   ]
  },
  {
   "cell_type": "code",
   "execution_count": 7,
   "metadata": {
    "colab": {
     "base_uri": "https://localhost:8080/"
    },
    "id": "H4MmJeQZPiIX",
    "outputId": "ac493cbd-e65a-44b8-b81a-f05ec8a31b24"
   },
   "outputs": [
    {
     "name": "stdout",
     "output_type": "stream",
     "text": [
      "Max:  1.2625274562360675\n",
      "Min:  0.7202313777934867\n"
     ]
    }
   ],
   "source": [
    "#In ra các giá trị max, min của samples\n",
    "print('Max: ', max(samples))\n",
    "print('Min: ', min(samples))"
   ]
  },
  {
   "cell_type": "code",
   "execution_count": 8,
   "metadata": {
    "colab": {
     "base_uri": "https://localhost:8080/",
     "height": 469
    },
    "id": "MN41K_e5PiIX",
    "outputId": "875fc3ab-6bed-4ce5-8448-3341864bdea2"
   },
   "outputs": [
    {
     "data": {
      "image/png": "[encoded data removed]",
      "text/plain": [
       "<Figure size 936x540 with 1 Axes>"
      ]
     },
     "metadata": {},
     "output_type": "display_data"
    }
   ],
   "source": [
    "#Vẽ histogram của mẫu vừa được sinh ngẫu nhiên\n",
    "plt.hist(samples, 30, density=True)\n",
    "plt.show()"
   ]
  },
  {
   "cell_type": "code",
   "execution_count": 10,
   "metadata": {
    "colab": {
     "base_uri": "https://localhost:8080/",
     "height": 469
    },
    "id": "WmoPec2CPiIY",
    "outputId": "28ad895b-59f1-43b3-9bf9-3509d908ca9c"
   },
   "outputs": [
    {
     "data": {
      "image/png": "[encoded data removed]",
      "text/plain": [
       "<Figure size 936x540 with 1 Axes>"
      ]
     },
     "metadata": {},
     "output_type": "display_data"
    }
   ],
   "source": [
    "#Vẽ đường phân phối chuẩn cùng với histogram\n",
    "count, bins, ignored = plt.hist(samples, 30, density=True)\n",
    "plt.plot(bins, 1/(std * np.sqrt(2 * np.pi)) * np.exp( - (bins - mean)**2 / (2 * std**2) ),\n",
    "         linewidth=2, color='r')\n",
    "plt.show()"
   ]
  },
  {
   "cell_type": "code",
   "execution_count": 11,
   "metadata": {
    "colab": {
     "base_uri": "https://localhost:8080/",
     "height": 533
    },
    "id": "M6oRXNTLPiIY",
    "outputId": "9bc419cc-a37a-415e-aad7-f08eac3ffbb7"
   },
   "outputs": [
    {
     "data": {
      "image/png": "[encoded data removed]",
      "text/plain": [
       "<Figure size 936x540 with 1 Axes>"
      ]
     },
     "metadata": {},
     "output_type": "display_data"
    }
   ],
   "source": [
    "#Sinh ngẫu nhiên 6000 mẫu theo phân phối chuẩn có mean = 0 và std = 10\n",
    "samples = np.random.normal(loc=0, scale=10, size=6000)\n",
    "#Minh họa một đuôi và mức alpha = 0.05\n",
    "two_std_from_mean = np.mean(samples) + np.std(samples)*1.645\n",
    "#kernel density\n",
    "kde = stats.gaussian_kde(samples)\n",
    "#Trả về 10000 giá trị phân bố bằng nhau trong khoảng từ min tới max của samples \n",
    "pos = np.linspace(np.min(samples), np.max(samples), 10000)\n",
    "plt.plot(pos, kde(pos), color='teal')\n",
    "shade = np.linspace(two_std_from_mean, 40, 300)\n",
    "plt.fill_between(shade, kde(shade), alpha=0.45, color='teal')\n",
    "plt.title(\"Phân phối mẫu của kiểm định giả thuyết 1 đuôi\", y=1.015, fontsize=20)\n",
    "plt.xlabel(\"giá trị trung bình mẫu\", labelpad=14)\n",
    "plt.ylabel(\"tần suất xuất hiện\", labelpad=14);"
   ]
  },
  {
   "cell_type": "markdown",
   "metadata": {
    "id": "2SiaqwS9PiIY"
   },
   "source": [
    "2. Hình minh họa các kiểm định 1-đuôi, 2-đuôi"
   ]
  },
  {
   "cell_type": "code",
   "execution_count": 14,
   "metadata": {
    "colab": {
     "base_uri": "https://localhost:8080/",
     "height": 321
    },
    "id": "ceHPHUENPiIZ",
    "outputId": "cdd9f846-610a-4aeb-e34b-56f6fd386540"
   },
   "outputs": [
    {
     "data": {
      "text/html": [
       "<img src=\"https://media.geeksforgeeks.org/wp-content/uploads/20201028032933/Screenshot37.png\" width=\"300\" height=\"300\"/>"
      ],
      "text/plain": [
       "<IPython.core.display.Image object>"
      ]
     },
     "execution_count": 14,
     "metadata": {},
     "output_type": "execute_result"
    }
   ],
   "source": [
    "# Sử dụng hình minh họa\n",
    "from IPython.display import Image\n",
    "from IPython.core.display import HTML \n",
    "Image(url= \"https://media.geeksforgeeks.org/wp-content/uploads/20201028032933/Screenshot37.png\", width=300, height=300)"
   ]
  },
  {
   "cell_type": "code",
   "execution_count": 15,
   "metadata": {
    "colab": {
     "base_uri": "https://localhost:8080/",
     "height": 321
    },
    "id": "qcd7o70MPiIZ",
    "outputId": "ca788304-338a-4632-d655-5375150dd222"
   },
   "outputs": [
    {
     "data": {
      "text/html": [
       "<img src=\"https://media.geeksforgeeks.org/wp-content/uploads/20201028032937/Screenshot39.png\" width=\"300\" height=\"300\"/>"
      ],
      "text/plain": [
       "<IPython.core.display.Image object>"
      ]
     },
     "execution_count": 15,
     "metadata": {},
     "output_type": "execute_result"
    }
   ],
   "source": [
    "Image(url= \"https://media.geeksforgeeks.org/wp-content/uploads/20201028032937/Screenshot39.png\", width=300, height=300)"
   ]
  },
  {
   "cell_type": "code",
   "execution_count": 17,
   "metadata": {
    "colab": {
     "base_uri": "https://localhost:8080/",
     "height": 321
    },
    "id": "3xgzhPPXPiIZ",
    "outputId": "74153f14-d0de-4b64-92fc-d1980012fa5d"
   },
   "outputs": [
    {
     "data": {
      "text/html": [
       "<img src=\"https://media.geeksforgeeks.org/wp-content/uploads/20201028032935/Screenshot38.png\" width=\"300\" height=\"300\"/>"
      ],
      "text/plain": [
       "<IPython.core.display.Image object>"
      ]
     },
     "execution_count": 17,
     "metadata": {},
     "output_type": "execute_result"
    }
   ],
   "source": [
    "Image(url= \"https://media.geeksforgeeks.org/wp-content/uploads/20201028032935/Screenshot38.png\", width=300, height=300)"
   ]
  },
  {
   "cell_type": "markdown",
   "metadata": {
    "id": "KqNCyq0MPiIZ"
   },
   "source": [
    "3. Xây dựng một kiểm định z cụ thể với số liệu được sinh ngẫu nhiên theo phân phối chuẩn\n",
    "\n",
    "Bài toán: Giả sử lấy ra ngẫu nhiên 50 học sinh đang theo học chương trình tài năng và có IQ trung bình của nhóm này là 110. Biết giá trị trung bình của quần thể là 100 và độ lệch chuẩn là 15. Liệu với độ tin cậy là 95% (hay hệ số sig - significance level) - 5%) có thể nhận định học sinh theo học chương trình tài năng nói trên thông minh hơn học sinh thông thường hay không? \n",
    "\n",
    "Xây dựng giả thuyết\n",
    "\n",
    "$$H_{0}: \\mu = 100$$\n",
    "\n",
    "Giả thuyết thay thế: \n",
    "\n",
    "$$H_{a}: \\mu > 100 $$\n",
    "\n",
    "với:\n",
    "\n",
    "- Hệ số sig = 0.05\n",
    "- Chỉ số z tương ứng với hệ số sig ở trên là 1.645\n",
    "\n",
    "Công thức:\n",
    "$$Z = \\frac{(\\overline{\\rm X} - \\mu)}{\\sigma / \\sqrt{n}}$$\n",
    "\n",
    "$$Z = \\frac{(\\overline{\\rm X} - \\mu)}{\\frac{\\sigma}{\\sqrt{n}}}$$\n",
    "\n",
    "Áp dụng với các giá trị nêu trên:\n",
    "\n",
    "- $\\overline{\\rm X} = 110$\n",
    "- $\\mu = 100$\n",
    "- $\\sigma = 15$\n",
    "- $\\alpha = 0.05$\n",
    "- $n =50$\n",
    "\n",
    "$$Z = \\frac{(110 - 100)}{(15 / \\sqrt{50})} = 4.71$$\n",
    "\n",
    "Giá trị z = 4.71 > 1.645 nên có bằng chứng để bác bỏ giả thuyết $H_{0}$\n"
   ]
  },
  {
   "cell_type": "markdown",
   "metadata": {
    "id": "c-5FO5mvPiIa"
   },
   "source": [
    "Lập trình Python cho bài toán nêu trên"
   ]
  },
  {
   "cell_type": "code",
   "execution_count": 18,
   "metadata": {
    "colab": {
     "base_uri": "https://localhost:8080/"
    },
    "id": "W_HwEyaaPiIb",
    "outputId": "443fe537-16d8-438d-969d-be348f18dea4"
   },
   "outputs": [
    {
     "name": "stdout",
     "output_type": "stream",
     "text": [
      "[100.69257697 103.64011413 128.04098849  63.7034953  107.55849467\n",
      " 100.15111858  88.24715769 106.80239084 114.68321447 123.13292416]\n"
     ]
    }
   ],
   "source": [
    "#Sinh ngẫu nhiên một mẫu 50 phần tử có trung bình mẫu là 110, độ lệch chuẩn là 15\n",
    "samples = np.random.normal(110, 15, 50)\n",
    "print(samples[:10])"
   ]
  },
  {
   "cell_type": "code",
   "execution_count": 19,
   "metadata": {
    "id": "vB_VbqhKPiIc"
   },
   "outputs": [],
   "source": [
    "#Xác định các thông số\n",
    "null_mean = 100\n",
    "alpha = 0.05"
   ]
  },
  {
   "cell_type": "code",
   "execution_count": 21,
   "metadata": {
    "colab": {
     "base_uri": "https://localhost:8080/"
    },
    "id": "L3IBAJg3PiIc",
    "outputId": "7be3d8ff-b03d-4fa7-a56d-a6f1642e71c4"
   },
   "outputs": [
    {
     "name": "stdout",
     "output_type": "stream",
     "text": [
      "Có bằng chứng để bác bỏ giả thuyết H0. Điều này ngụ ý rằng học sinh chương trình tài năng thông minh hơn\n"
     ]
    }
   ],
   "source": [
    "#Kiểm định z\n",
    "ztest_Score, p_value= ztest(samples, value = null_mean, alternative='larger')\n",
    "if(p_value <  alpha):\n",
    "  print(\"Có bằng chứng để bác bỏ giả thuyết H0. Điều này ngụ ý rằng học sinh chương trình tài năng thông minh hơn\")\n",
    "else:\n",
    "  print(\"Chưa có bằng chứng để bác bỏ giả thuyết H0. Điều này ngụ ý rằng học sinh chương trình tài năng không thông minh hơn học sinh khác\")"
   ]
  },
  {
   "cell_type": "markdown",
   "metadata": {
    "id": "ktBDxJnkPiIc"
   },
   "source": [
    "Kiểm định giả thuyết 2-đuôi\n",
    "\n",
    "Một cách tổng quát, giả sử chúng ta có 2 quần thể độc lập và tuân theo phân phối chuẩn. Lấy ra 2 mẫu ngẫu nhiên tử 2 quần thể này.\n",
    "\n",
    "Xây dựng giả thuyết:\n",
    "\n",
    "$$H_{0}: \\mu_{1} = \\mu_{2}$$\n",
    "\n",
    "Giả thuyết thay thế:\n",
    "\n",
    "$$H_{a}: \\mu_{1} \\neq \\mu_{2}$$\n",
    "\n",
    "Thực hiện kiểm định z và so sánh với giá trị $z_{\\frac{\\alpha}{2}}$ để đi đến kết luận cuối cùng."
   ]
  },
  {
   "cell_type": "code",
   "execution_count": 22,
   "metadata": {
    "colab": {
     "base_uri": "https://localhost:8080/"
    },
    "id": "jZ0ao8F0PiIc",
    "outputId": "9b4e02af-ed94-4879-f00d-7dbd7ac84e2b"
   },
   "outputs": [
    {
     "data": {
      "text/plain": [
       "array([ 5.45737385, 29.8845186 , 21.63645044,  9.88460211, 13.95018704,\n",
       "       12.84170154, 17.48016324, 26.90554343,  4.41984114, 22.30799371,\n",
       "       21.71521632, 14.01297033, 16.26335422, 17.77845689, 11.28480965,\n",
       "       12.04163703, 18.555592  , 17.71051032, 11.67194918, 13.88659143,\n",
       "       18.81095168,  9.97373733, 18.18004466, 10.5143746 ,  6.69440634,\n",
       "       14.65283027,  8.59703529, 15.98236056, 16.3764603 , 20.1940746 ,\n",
       "       22.45111928, 18.91504921,  1.38077649, 20.11833905,  9.10007584,\n",
       "        9.46847284, 23.56303391, 12.04687621, 16.84702182, 19.52694735,\n",
       "       12.15638132, 14.57301943, 21.10664583, 19.9819499 , 18.60538652,\n",
       "       13.22543246, 10.54893973, 28.28283767, 17.23867612, 14.72564139])"
      ]
     },
     "execution_count": 22,
     "metadata": {},
     "output_type": "execute_result"
    }
   ],
   "source": [
    "#Lập trình python minh họa\n",
    "#Sinh ngẫu nhiên sample 1 có 50 phần tử với mean = 15 std = 6\n",
    "samples_1 = np.random.normal(15, 6, 50)\n",
    "samples_1"
   ]
  },
  {
   "cell_type": "code",
   "execution_count": 23,
   "metadata": {
    "colab": {
     "base_uri": "https://localhost:8080/"
    },
    "id": "EvjowAsxSLPl",
    "outputId": "f07f0abb-7c74-4d1f-84fd-d18ddc3b51a5"
   },
   "outputs": [
    {
     "name": "stdout",
     "output_type": "stream",
     "text": [
      "[ 5.45737385 29.8845186  21.63645044  9.88460211 13.95018704 12.84170154\n",
      " 17.48016324 26.90554343  4.41984114 22.30799371]\n"
     ]
    }
   ],
   "source": [
    "print(samples_1[:10])"
   ]
  },
  {
   "cell_type": "code",
   "execution_count": 24,
   "metadata": {
    "colab": {
     "base_uri": "https://localhost:8080/"
    },
    "id": "T-S0WqWdPiId",
    "outputId": "3a28fe52-45bc-4fea-f6bf-94abc238c0bf"
   },
   "outputs": [
    {
     "data": {
      "text/plain": [
       "array([21.55429372,  3.65775776, 27.25905999, 17.59659499,  5.94386586,\n",
       "       14.72005757,  9.98493068, 20.16426425, 13.74039207, 18.48026278,\n",
       "       12.13762912, 22.85916636, 21.63518941, 29.99710489, 28.3553107 ,\n",
       "       23.93667907,  7.55779426, 28.91136003, 18.77726639, 20.41399377,\n",
       "       16.26665594, 21.12915481, 23.34477614, 21.87801232, 18.9994469 ,\n",
       "       26.67292957, 18.87342343, 17.98953158, 14.09988318, 21.04655414,\n",
       "        3.91898375, 22.96647715, 23.66363548, 25.54650503, 18.92656486,\n",
       "       17.63233163, 20.62535898, 25.79089465, 13.60082744, 17.98332724,\n",
       "       32.02569794, 26.89057498, 15.14841763, 14.6832226 , 12.14950097,\n",
       "       22.45576717, 20.82974736, 27.68645339, 25.86692025, 13.27710116,\n",
       "        7.33468088, 14.16489412, 20.44214225, 23.46887771, 16.75110888,\n",
       "        3.97158248, 25.24965225, 19.44444026, 15.20147683, 22.16762986])"
      ]
     },
     "execution_count": 24,
     "metadata": {},
     "output_type": "execute_result"
    }
   ],
   "source": [
    "#Sinh ngẫu nhiên sample 2 có 60 phần tử với mean = 19 std = 7\n",
    "samples_2 = np.random.normal(19, 7, 60)\n",
    "samples_2"
   ]
  },
  {
   "cell_type": "code",
   "execution_count": 25,
   "metadata": {
    "colab": {
     "base_uri": "https://localhost:8080/"
    },
    "id": "6jq0SydnSRoE",
    "outputId": "7210456b-69e1-46f4-eb08-4890d8d2bc60"
   },
   "outputs": [
    {
     "name": "stdout",
     "output_type": "stream",
     "text": [
      "[ 5.45737385 29.8845186  21.63645044  9.88460211 13.95018704 12.84170154\n",
      " 17.48016324 26.90554343  4.41984114 22.30799371]\n"
     ]
    }
   ],
   "source": [
    "print(samples_1[:10])"
   ]
  },
  {
   "cell_type": "code",
   "execution_count": 26,
   "metadata": {
    "colab": {
     "base_uri": "https://localhost:8080/"
    },
    "id": "llkdC3fTPiId",
    "outputId": "3692bc06-357a-420c-bf35-24bd224d7b8b"
   },
   "outputs": [
    {
     "name": "stdout",
     "output_type": "stream",
     "text": [
      "z =  0.5805952029053304 ; p =  0.5615133061303894\n",
      "Chưa có bằng chứng để bác bỏ giả thuyết H0. Điều này ngụ ý rằng trung bình giữa các mẫu bằng nhau.\n"
     ]
    }
   ],
   "source": [
    "#Kiểm định giả thuyết \n",
    "alpha = 0.05\n",
    "ztest_score, p_value = ztest(x1 = samples_1, x2 = samples_2, value = 15 - 19, alternative = 'two-sided')\n",
    "print('z = ', ztest_score, '; p = ', p_value)\n",
    "if(p_value <  alpha):\n",
    "  print(\"Có bằng chứng để bác bỏ giả thuyết H0. Điều này ngụ ý rằng trung bình các mẫu không bằng nhau\")\n",
    "else:\n",
    "  print(\"Chưa có bằng chứng để bác bỏ giả thuyết H0. Điều này ngụ ý rằng trung bình giữa các mẫu bằng nhau.\")"
   ]
  }
 ],
 "metadata": {
  "colab": {
   "include_colab_link": true,
   "name": "huong-dan-kiem-dinh-z.ipynb",
   "provenance": []
  },
  "kernelspec": {
   "display_name": "Python 3",
   "language": "python",
   "name": "python3"
  },
  "language_info": {
   "codemirror_mode": {
    "name": "ipython",
    "version": 3
   },
   "file_extension": ".py",
   "mimetype": "text/x-python",
   "name": "python",
   "nbconvert_exporter": "python",
   "pygments_lexer": "ipython3",
   "version": "3.8.5"
  }
 },
 "nbformat": 4,
 "nbformat_minor": 1
}
