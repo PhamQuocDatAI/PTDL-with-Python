{
 "cells": [
  {
   "cell_type": "markdown",
   "metadata": {},
   "source": [
    "Đề bài: Khảo sát thời gian (tuần) mang thai của thai phụ không hút thuốc. Tiến hành lấy mẫu, người ta có số liệu cho như bảng sau:\n",
    "\n",
    "| Thời gian | Số thai phụ |\n",
    "| --- | --- |\n",
    "| 32-34 | 7 |\n",
    "| 34-36 | 10|\n",
    "| 36-38 | 59|\n",
    "| 38-40 | 41|\n",
    "| 40-42 | 4 |\n",
    "\n",
    "Những thai phụ có thời gian mang thai dưới 36 tuần là thai phụ sinh non.\n",
    "Trong kiểm định giả thuyết H: “tỷ lệ thai phụ sinh non là 12%”, độ tin cậy là 95% mức ý nghĩa\n",
    "tối đa để giả thuyết H được chấp nhận là:\n",
    "\n",
    "Xây dựng giả thuyết:\n",
    "$$H_{0}: \\mu = 0.12$$\n",
    "Giả thuyết thay thế:\n",
    "$$H_{a}: \\mu_{1} \\neq \\mu_{2}$$\n"
   ]
  },
  {
   "cell_type": "code",
   "execution_count": 23,
   "metadata": {},
   "outputs": [],
   "source": [
    "import numpy as np\n",
    "import pandas as pd\n",
    "import random\n",
    "from scipy import stats\n",
    "from statsmodels.stats.weightstats import ztest\n",
    "import warnings\n",
    "import matplotlib.pyplot as plt\n",
    "import seaborn as sns\n",
    "import statistics \n",
    "import math"
   ]
  },
  {
   "cell_type": "code",
   "execution_count": 2,
   "metadata": {},
   "outputs": [],
   "source": [
    "# Tắt các cảnh báo của scipy\n",
    "warnings.filterwarnings('ignore')"
   ]
  },
  {
   "cell_type": "code",
   "execution_count": 3,
   "metadata": {},
   "outputs": [
    {
     "name": "stdout",
     "output_type": "stream",
     "text": [
      "Nhap data cho row 1: \n",
      "Nhap low: 32\n",
      "Nhap high: 34\n",
      "Nhap count: 7\n",
      "--------------------------------------------------\n",
      "Nhap data cho row 2: \n",
      "Nhap low: 34\n",
      "Nhap high: 36\n",
      "Nhap count: 10\n",
      "--------------------------------------------------\n",
      "Nhap data cho row 3: \n",
      "Nhap low: 36\n",
      "Nhap high: 38\n",
      "Nhap count: 59\n",
      "--------------------------------------------------\n",
      "Nhap data cho row 4: \n",
      "Nhap low: 38\n",
      "Nhap high: 40\n",
      "Nhap count: 41\n",
      "--------------------------------------------------\n",
      "Nhap data cho row 5: \n",
      "Nhap low: 40\n",
      "Nhap high: 42\n",
      "Nhap count: 4\n",
      "--------------------------------------------------\n"
     ]
    }
   ],
   "source": [
    "data = []\n",
    "print('Nhap data cho row 1: ')\n",
    "low = int(input('Nhap low: '))\n",
    "high = int(input('Nhap high: '))\n",
    "count = int(input('Nhap count: '))\n",
    "for x in range(count):\n",
    "    a = random.uniform(low, high)\n",
    "    data.append(round(a, 2))\n",
    "print('-'*50)\n",
    "print('Nhap data cho row 2: ')\n",
    "low = int(input('Nhap low: '))\n",
    "high = int(input('Nhap high: '))\n",
    "count = int(input('Nhap count: '))\n",
    "for x in range(count):\n",
    "    a = random.uniform(low, high)\n",
    "    data.append(round(a, 2))\n",
    "print('-'*50)\n",
    "print('Nhap data cho row 3: ')\n",
    "low = int(input('Nhap low: '))\n",
    "high = int(input('Nhap high: '))\n",
    "count = int(input('Nhap count: '))\n",
    "for x in range(count):\n",
    "    a = random.uniform(low, high)\n",
    "    data.append(round(a, 2))\n",
    "print('-'*50)\n",
    "print('Nhap data cho row 4: ')\n",
    "low = int(input('Nhap low: '))\n",
    "high = int(input('Nhap high: '))\n",
    "count = int(input('Nhap count: '))\n",
    "for x in range(count):\n",
    "    a = random.uniform(low, high)\n",
    "    data.append(round(a, 2))\n",
    "print('-'*50)\n",
    "print('Nhap data cho row 5: ')\n",
    "low = int(input('Nhap low: '))\n",
    "high = int(input('Nhap high: '))\n",
    "count = int(input('Nhap count: '))\n",
    "for x in range(count):\n",
    "    a = random.uniform(low, high)\n",
    "    data.append(round(a, 2))\n",
    "print('-'*50)"
   ]
  },
  {
   "cell_type": "code",
   "execution_count": 10,
   "metadata": {},
   "outputs": [
    {
     "data": {
      "text/html": [
       "<div>\n",
       "<style scoped>\n",
       "    .dataframe tbody tr th:only-of-type {\n",
       "        vertical-align: middle;\n",
       "    }\n",
       "\n",
       "    .dataframe tbody tr th {\n",
       "        vertical-align: top;\n",
       "    }\n",
       "\n",
       "    .dataframe thead th {\n",
       "        text-align: right;\n",
       "    }\n",
       "</style>\n",
       "<table border=\"1\" class=\"dataframe\">\n",
       "  <thead>\n",
       "    <tr style=\"text-align: right;\">\n",
       "      <th></th>\n",
       "      <th>Time</th>\n",
       "    </tr>\n",
       "  </thead>\n",
       "  <tbody>\n",
       "    <tr>\n",
       "      <th>0</th>\n",
       "      <td>32.32</td>\n",
       "    </tr>\n",
       "    <tr>\n",
       "      <th>1</th>\n",
       "      <td>32.68</td>\n",
       "    </tr>\n",
       "    <tr>\n",
       "      <th>2</th>\n",
       "      <td>32.78</td>\n",
       "    </tr>\n",
       "    <tr>\n",
       "      <th>3</th>\n",
       "      <td>32.84</td>\n",
       "    </tr>\n",
       "    <tr>\n",
       "      <th>4</th>\n",
       "      <td>33.28</td>\n",
       "    </tr>\n",
       "  </tbody>\n",
       "</table>\n",
       "</div>"
      ],
      "text/plain": [
       "    Time\n",
       "0  32.32\n",
       "1  32.68\n",
       "2  32.78\n",
       "3  32.84\n",
       "4  33.28"
      ]
     },
     "execution_count": 10,
     "metadata": {},
     "output_type": "execute_result"
    }
   ],
   "source": [
    "sample = pd.DataFrame(data)\n",
    "sample.columns = ['Time']\n",
    "sample.head()"
   ]
  },
  {
   "cell_type": "code",
   "execution_count": 27,
   "metadata": {},
   "outputs": [
    {
     "name": "stdout",
     "output_type": "stream",
     "text": [
      "[226.15814771] [0.]\n",
      "Có bằng chứng để bác bỏ giả thuyết H0\n"
     ]
    }
   ],
   "source": [
    "null_mean = 0.12\n",
    "alpha = 0.05\n",
    "ztest_Score, p_value= ztest(data, value = null_mean, alternative='larger')\n",
    "print(ztest_Score, p_value)\n",
    "if(p_value <  alpha):\n",
    "  print(\"Có bằng chứng để bác bỏ giả thuyết H0\")\n",
    "else:\n",
    "  print(\"Chưa có bằng chứng để bác bỏ giả thuyết H0\")"
   ]
  },
  {
   "cell_type": "code",
   "execution_count": 26,
   "metadata": {},
   "outputs": [
    {
     "name": "stdout",
     "output_type": "stream",
     "text": [
      "GTTB la:  37.38338842975206\n",
      "Do lech chuan la:  1.81243646036627\n",
      "Epsilon la:  0.3229432238470808\n",
      "Do tin cay 95% thi khoang gia tri la:  37.060445205904976 : 37.70633165359914\n",
      "Co bang chung de bac bo gia thuyet H0\n"
     ]
    }
   ],
   "source": [
    "mean = sum(data.Time)/len(data.Time)\n",
    "std = statistics.stdev(data.Time)\n",
    "epsilon = statistics.stdev(data.Time)/math.sqrt(len(data.Time))*1.96 \n",
    "muy1 = mean - epsilon\n",
    "muy2 = mean + epsilon\n",
    "print('GTTB la: ',mean)\n",
    "print('Do lech chuan la: ', std)\n",
    "print('Epsilon la: ', epsilon)\n",
    "print('Do tin cay 95% thi khoang gia tri la: ', muy1,':',muy2)\n",
    "print('Co bang chung de bac bo gia thuyet H0')"
   ]
  },
  {
   "cell_type": "code",
   "execution_count": null,
   "metadata": {},
   "outputs": [],
   "source": []
  }
 ],
 "metadata": {
  "kernelspec": {
   "display_name": "Python 3",
   "language": "python",
   "name": "python3"
  },
  "language_info": {
   "codemirror_mode": {
    "name": "ipython",
    "version": 3
   },
   "file_extension": ".py",
   "mimetype": "text/x-python",
   "name": "python",
   "nbconvert_exporter": "python",
   "pygments_lexer": "ipython3",
   "version": "3.8.5"
  }
 },
 "nbformat": 4,
 "nbformat_minor": 4
}
