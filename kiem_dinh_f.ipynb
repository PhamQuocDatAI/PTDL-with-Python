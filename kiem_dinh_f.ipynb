{
 "cells": [
  {
   "cell_type": "markdown",
   "metadata": {
    "id": "DnKQOjBJiepl"
   },
   "source": [
    "KIỂM ĐỊNH F\n",
    "\n",
    "Thay vì xây dựng giả thuyết với giá trị trung bình, người ta có thể xây dựng giả thuyết với phương sai (variance $\\sigma^{2}$). Trong trường hợp này, chúng ta sử dụng kiểm định F. Tóm tắt về kiểm định F như sau:\n",
    "\n",
    "Kiểm định một đuôi:\n",
    "\n",
    "$$H_{0}: \\sigma^{2} = \\sigma_{0}^{2} $$\n",
    "\n",
    "$$H_{a}: \\sigma^{2} < \\sigma_{0}^{2} (H_{a}: \\sigma^{2} > \\sigma_{0}^{2})$$ \n",
    "\n",
    "Giá trị thống kê kiểm định:\n",
    "\n",
    "$$ \\chi^{2} = \\frac{(n-1)s^{2}}{\\sigma_{0}^{2}}$$\n",
    "\n",
    "Vùng bác bỏ: $\\chi^{2} < \\chi_{(1 - \\alpha)}^{2}$  hoặc $\\chi^{2} > \\chi_{(1 - \\alpha)}^{2}$  khi $H_{a}: \\sigma^{2} > \\sigma_{0}^{2}$\n",
    "\n",
    "Ghi chú: \n",
    "\n",
    "- $\\chi^{2}$ - chi-square\n",
    "- (n - 1) mức tự do\n",
    "\n"
   ]
  },
  {
   "cell_type": "markdown",
   "metadata": {
    "id": "xZlvX0jsiepq"
   },
   "source": [
    "Kiểm định 2 đuôi:\n",
    "\n",
    "$$H_{0}: \\sigma^{2} = \\sigma_{0}^{2}$$\n",
    "$$H_{a}:\\sigma^{2} \\neq \\sigma_{0}^{2} $$\n",
    "\n",
    "Giá trị thống kê kiểm định:\n",
    "\n",
    "$$ \\chi^{2} = \\frac{(n-1)s^{2}}{\\sigma_{0}^{2}}$$\n",
    "\n",
    "Vùng bác bỏ: $\\chi^{2} < \\chi_{(1 - \\alpha/2)}^{2}$  hoặc $\\chi^{2} > \\chi_{(\\alpha/2)}^{2}$  \n",
    "Ghi chú: \n",
    "\n",
    "- $\\chi^{2}$ - chi-square\n",
    "- (n - 1) mức tự do"
   ]
  },
  {
   "cell_type": "markdown",
   "metadata": {
    "id": "LkXbNA__iepr"
   },
   "source": [
    "THỰC HÀNH KIỂM ĐỊNH F\n",
    "\n",
    "Bước 1: Sinh ngẫu nhiên số liệu\n",
    "\n",
    "Bước 2: Xây dựng giả thuyết \n",
    "\n",
    "Bước 3: Kiểm định Bartlett "
   ]
  },
  {
   "cell_type": "code",
   "execution_count": 1,
   "metadata": {
    "id": "SCjyOThgiepr"
   },
   "outputs": [],
   "source": [
    "import numpy as np\n",
    "import pandas as pd\n",
    "import random\n",
    "from scipy import stats\n",
    "from statsmodels.stats.weightstats import ztest\n",
    "import warnings\n",
    "import matplotlib.pyplot as plt\n",
    "import seaborn as sns\n",
    "%matplotlib inline"
   ]
  },
  {
   "cell_type": "code",
   "execution_count": 2,
   "metadata": {
    "id": "iHER5NUwieps"
   },
   "outputs": [],
   "source": [
    "#Sinh ngẫu nhiên 1000 mẫu tuân theo phân phối chuẩn có trung bình mẫu là 7.5 và độ lệch chuẩn là 0.25\n",
    "mean_1 = 7.5\n",
    "std_1 = 0.25\n",
    "N_1 = 1000\n",
    "samples_1 = np.random.normal(mean_1, std_1, N_1)"
   ]
  },
  {
   "cell_type": "code",
   "execution_count": 3,
   "metadata": {
    "id": "1PeJVGUbieps",
    "outputId": "b0b12036-fdf9-4a43-d053-473c04b3c63c"
   },
   "outputs": [
    {
     "name": "stdout",
     "output_type": "stream",
     "text": [
      "[6.85706683 7.53956352 7.58029975 7.59973532 6.93977985 7.47344672\n",
      " 7.34677838 7.53657789 7.40141037 7.62919999]\n"
     ]
    }
   ],
   "source": [
    "#In ra 10 phần tử đầu tiên\n",
    "print(samples_1[:10])"
   ]
  },
  {
   "cell_type": "code",
   "execution_count": 4,
   "metadata": {
    "id": "XsT_iZ-1iept"
   },
   "outputs": [],
   "source": [
    "#Sinh ngẫu nhiên 900 mẫu tuân theo phân phối chuẩn có trung bình mẫu là 7 và độ lệch chuẩn là 0.2\n",
    "mean_2= 7\n",
    "std_2 = 0.2\n",
    "N_2 = 900\n",
    "samples_2 = np.random.normal(mean_2, std_2, N_2)"
   ]
  },
  {
   "cell_type": "code",
   "execution_count": 5,
   "metadata": {
    "id": "41iO8Jgoiept",
    "outputId": "45f8b876-734b-4c4d-e486-8d48290228ce"
   },
   "outputs": [
    {
     "name": "stdout",
     "output_type": "stream",
     "text": [
      "[6.98960046 6.88910965 6.99507503 6.74511303 7.12411895 6.9404384\n",
      " 7.0320715  7.15062904 6.97527432 7.33398319]\n"
     ]
    }
   ],
   "source": [
    "#In ra 10 phần tử đầu tiên\n",
    "print(samples_2[:10])"
   ]
  },
  {
   "cell_type": "markdown",
   "metadata": {
    "id": "x7UCrr9yiepu"
   },
   "source": [
    "Xây dựng giả thuyết:\n",
    "$$H_{0}: \\sigma_{1}^{2} = \\sigma_{2}^{2}$$\n",
    "$$H_{a}: \\sigma_{1}^{2} \\neq \\sigma_{2}^{2}$$"
   ]
  },
  {
   "cell_type": "code",
   "execution_count": 6,
   "metadata": {
    "id": "iXAyb8C9iepu",
    "outputId": "ac04fe2e-1d57-4c17-a06b-46bee04c3e91"
   },
   "outputs": [
    {
     "name": "stdout",
     "output_type": "stream",
     "text": [
      "Stat value:  44.48699655797718 ; p-value:  2.560522494544838e-11\n"
     ]
    }
   ],
   "source": [
    "#Kiểm định Bartlett\n",
    "stat_value, p_value = stats.bartlett(samples_1, samples_2)\n",
    "print(\"Stat value: \", stat_value, \"; p-value: \", p_value)"
   ]
  },
  {
   "cell_type": "code",
   "execution_count": 7,
   "metadata": {
    "id": "z1dRMlIliepu",
    "outputId": "b1f882d7-fb66-4ac2-b070-c43735f8d573"
   },
   "outputs": [
    {
     "name": "stdout",
     "output_type": "stream",
     "text": [
      "Có bằng chứng để bác bỏ giả thuyết H0\n"
     ]
    }
   ],
   "source": [
    "alpha = 0.05\n",
    "if(p_value <  alpha):\n",
    "    print(\"Có bằng chứng để bác bỏ giả thuyết H0\")\n",
    "else:\n",
    "    print(\"Chưa có bằng chứng để bác bỏ giả thuyết H0\")"
   ]
  },
  {
   "cell_type": "markdown",
   "metadata": {
    "id": "5ZmsoSL8iepv"
   },
   "source": [
    "BÀI TẬP\n",
    "\n",
    "Bạn hãy thử viết code tiến hành kiểm định F 1 đuôi?\n",
    "\n",
    "Gợi ý: Thử tìm kiếm ví dụ về kiểm dịnh F 1 đuôi trong ngôn ngữ lập trình Python & R để nhận thấy sự khác biệt."
   ]
  },
  {
   "cell_type": "markdown",
   "metadata": {
    "id": "5KDVer-5iepv"
   },
   "source": [
    "Tạo mẫu 1 với:\n",
    "- $\\overline{\\rm X} = 100$\n",
    "- $\\sigma = 10$\n",
    "- $n = 1000$"
   ]
  },
  {
   "cell_type": "code",
   "execution_count": 10,
   "metadata": {},
   "outputs": [
    {
     "data": {
      "text/plain": [
       "array([ 96.25089575,  85.44316337, 102.87829577, 105.571694  ,\n",
       "        99.80829698, 100.11394264,  95.94166412, 101.11615393,\n",
       "        99.48195658, 104.99443601])"
      ]
     },
     "execution_count": 10,
     "metadata": {},
     "output_type": "execute_result"
    }
   ],
   "source": [
    "tb1 = 100\n",
    "std1 = 10\n",
    "count1 = 1000\n",
    "test1 = np.random.normal(tb1, std1, count1)\n",
    "test1[:10]"
   ]
  },
  {
   "cell_type": "markdown",
   "metadata": {},
   "source": [
    "Tạo mẫu 1 với:\n",
    "- $\\overline{\\rm X} = 130$\n",
    "- $\\sigma = 40$\n",
    "- $n = 850$"
   ]
  },
  {
   "cell_type": "code",
   "execution_count": 15,
   "metadata": {},
   "outputs": [
    {
     "data": {
      "text/plain": [
       "array([ 86.77359218, 123.30354629, 108.78442797,  73.54276495,\n",
       "       136.42941018, 132.90464307, 122.73274675, 102.11095531,\n",
       "        93.99947732,  91.57472353])"
      ]
     },
     "execution_count": 15,
     "metadata": {},
     "output_type": "execute_result"
    }
   ],
   "source": [
    "tb2 = 110\n",
    "std2 = 20\n",
    "count2 = 850\n",
    "test2 = np.random.normal(tb2, std2, count2)\n",
    "test2[:10]"
   ]
  },
  {
   "cell_type": "markdown",
   "metadata": {},
   "source": [
    "Xây dựng giả thuyết:\n",
    "$$H_{0}: \\sigma_{1}^{2} = \\sigma_{2}^{2}$$\n",
    "$$H_{a}: \\sigma_{1}^{2} \\neq \\sigma_{2}^{2}$$"
   ]
  },
  {
   "cell_type": "code",
   "execution_count": 19,
   "metadata": {},
   "outputs": [
    {
     "name": "stdout",
     "output_type": "stream",
     "text": [
      "Stat value:  437.5383267077386 ; p-value:  3.7171028495046994e-97\n"
     ]
    }
   ],
   "source": [
    "#Kiểm định Bartlett\n",
    "stat_value_test, p_value_test = stats.bartlett(test1, test2)\n",
    "print(\"Stat value: \", stat_value_test, \"; p-value: \", p_value_test)"
   ]
  },
  {
   "cell_type": "code",
   "execution_count": 20,
   "metadata": {},
   "outputs": [
    {
     "name": "stdout",
     "output_type": "stream",
     "text": [
      "Có bằng chứng để bác bỏ giả thuyết H0\n"
     ]
    }
   ],
   "source": [
    "alpha = 0.05\n",
    "if(p_value_test <  alpha):\n",
    "    print(\"Có bằng chứng để bác bỏ giả thuyết H0\")\n",
    "else:\n",
    "    print(\"Chưa có bằng chứng để bác bỏ giả thuyết H0\")"
   ]
  }
 ],
 "metadata": {
  "colab": {
   "name": "kiem-dinh-f.ipynb",
   "provenance": []
  },
  "kernelspec": {
   "display_name": "Python 3",
   "language": "python",
   "name": "python3"
  },
  "language_info": {
   "codemirror_mode": {
    "name": "ipython",
    "version": 3
   },
   "file_extension": ".py",
   "mimetype": "text/x-python",
   "name": "python",
   "nbconvert_exporter": "python",
   "pygments_lexer": "ipython3",
   "version": "3.8.5"
  }
 },
 "nbformat": 4,
 "nbformat_minor": 1
}
