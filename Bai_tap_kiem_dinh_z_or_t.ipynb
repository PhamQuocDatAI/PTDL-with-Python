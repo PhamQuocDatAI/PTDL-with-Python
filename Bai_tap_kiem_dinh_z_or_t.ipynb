{
 "cells": [
  {
   "cell_type": "markdown",
   "metadata": {},
   "source": [
    "XÂY DỰNG CHƯƠNG TRÌNH KIỂM ĐỊNH Z (HOẶC T) CHO CÁC BÀI TẬP SAU\n",
    "\n",
    "Gợi ý:\n",
    "\n",
    "- Số liệu được sinh ngẫu nhiên theo phân phối chuẩn\n",
    "- Sử dụng gói phần mềm statsmodels để tiến hành kiểm định\n",
    "- Đối với các bài tập kiểm định giả thuyết thì sinh viên cần phát biểu các giả thuyết (bằng tiếng Việt) $H_{0}$ và $H_{a}$ trước khi lập trình kiểm định"
   ]
  },
  {
   "cell_type": "markdown",
   "metadata": {},
   "source": [
    "Bài 1: Bạn là thanh tra Q / C cho Gallo. Độ lệch chuẩn của mẫu đối với chai 2 lít là 0,05 lít. Một mẫu ngẫu nhiên gồm 100 chai cho thấy sample trung bình = 1,99 lít. Ước lượng khoảng tin cậy 90% của lượng trung bình thực trong chai 2 lít là bao nhiêu?\n",
    "\n",
    "Giả thuyết:\n",
    "\n",
    "- $\\overline{\\rm X} = 1.99$\n",
    "- $\\mu = 2$\n",
    "- $\\sigma = 0.05$\n",
    "- $\\alpha = 0.1$\n",
    "- $n =100$\n",
    "\n",
    "=> Khoảng ước lượng cho $\\mu = 95$% có dạng:\n",
    "\n",
    "($\\mu_{1};\\mu_{2}$) = ( $\\overline{\\rm X} - \\epsilon; \\overline{\\rm X} + \\epsilon$)\n",
    "\n",
    "Với $\\epsilon = \\left(\\frac{\\sigma}{\\sqrt(n)}.t_{\\frac{1-\\alpha}{2}}\\right)$\n",
    "\n",
    "$t_{\\frac{1-\\alpha}{2}}$ = $t_{\\frac{1 - 0.1}{2}}$ = $t_{0.45}$ = 1.645"
   ]
  },
  {
   "cell_type": "code",
   "execution_count": 1,
   "metadata": {},
   "outputs": [],
   "source": [
    "import numpy as np\n",
    "import pandas as pd\n",
    "import random\n",
    "from scipy import stats\n",
    "from statsmodels.stats.weightstats import ztest\n",
    "import warnings\n",
    "import matplotlib.pyplot as plt\n",
    "import seaborn as sns\n",
    "import statistics \n",
    "import math"
   ]
  },
  {
   "cell_type": "code",
   "execution_count": 2,
   "metadata": {},
   "outputs": [],
   "source": [
    "warnings.filterwarnings('ignore')"
   ]
  },
  {
   "cell_type": "code",
   "execution_count": 3,
   "metadata": {},
   "outputs": [],
   "source": [
    "class Bai1():\n",
    "\n",
    "\n",
    "    def __init__(self):\n",
    "        mean = 1.9\n",
    "        std = 0.1\n",
    "        count = 100\n",
    "        self.array = np.random.normal(mean, std, count)\n",
    "            \n",
    "    def arrange(self):\n",
    "        return self.array.sort()\n",
    "    \n",
    "    def mean(self):\n",
    "        return (sum(self.array)/len(self.array))\n",
    "    \n",
    "    def sig(self):\n",
    "        return statistics.stdev(self.array)"
   ]
  },
  {
   "cell_type": "code",
   "execution_count": 4,
   "metadata": {},
   "outputs": [
    {
     "name": "stdout",
     "output_type": "stream",
     "text": [
      "[1.61189282 1.66757198 1.66782148 1.70065808 1.70941868 1.71398259\n",
      " 1.71432763 1.71488478 1.723165   1.72550168 1.74156057 1.74215168\n",
      " 1.76349752 1.765701   1.77279058 1.78014981 1.79097958 1.79615679\n",
      " 1.80117172 1.8042293  1.80903218 1.80984519 1.82237396 1.82385741\n",
      " 1.82776201 1.82881564 1.82948036 1.83069615 1.83314311 1.83321007\n",
      " 1.83348449 1.84076466 1.8415084  1.84510296 1.85369455 1.85455935\n",
      " 1.8600223  1.86089087 1.86180546 1.86293046 1.86372669 1.87120465\n",
      " 1.87343759 1.88022452 1.88319621 1.89145963 1.89649703 1.89694397\n",
      " 1.90049059 1.90216155 1.90235659 1.90415227 1.90528643 1.91134548\n",
      " 1.91726038 1.92052908 1.92474242 1.92517827 1.9254614  1.9286999\n",
      " 1.92948571 1.9347201  1.93703192 1.93858035 1.94084132 1.94086623\n",
      " 1.94797644 1.94899206 1.95319696 1.95324251 1.9552218  1.95820531\n",
      " 1.96971546 1.97224442 1.97499596 1.97823616 1.97923686 1.98191749\n",
      " 1.98224862 1.98547605 1.98849725 2.01394572 2.02237821 2.03088616\n",
      " 2.03196357 2.03947549 2.05464551 2.05557406 2.05582813 2.06019106\n",
      " 2.06772632 2.06842619 2.07502354 2.08772849 2.1138446  2.11634454\n",
      " 2.14064364 2.15766845 2.15929241 2.16376508]\n"
     ]
    }
   ],
   "source": [
    "random.seed(0)\n",
    "sample1 = Bai1()\n",
    "sample1.arrange()\n",
    "print(sample1.array)"
   ]
  },
  {
   "cell_type": "code",
   "execution_count": 5,
   "metadata": {},
   "outputs": [
    {
     "data": {
      "text/html": [
       "<div>\n",
       "<style scoped>\n",
       "    .dataframe tbody tr th:only-of-type {\n",
       "        vertical-align: middle;\n",
       "    }\n",
       "\n",
       "    .dataframe tbody tr th {\n",
       "        vertical-align: top;\n",
       "    }\n",
       "\n",
       "    .dataframe thead th {\n",
       "        text-align: right;\n",
       "    }\n",
       "</style>\n",
       "<table border=\"1\" class=\"dataframe\">\n",
       "  <thead>\n",
       "    <tr style=\"text-align: right;\">\n",
       "      <th></th>\n",
       "      <th>Liter</th>\n",
       "    </tr>\n",
       "  </thead>\n",
       "  <tbody>\n",
       "    <tr>\n",
       "      <th>0</th>\n",
       "      <td>1.611893</td>\n",
       "    </tr>\n",
       "    <tr>\n",
       "      <th>1</th>\n",
       "      <td>1.667572</td>\n",
       "    </tr>\n",
       "    <tr>\n",
       "      <th>2</th>\n",
       "      <td>1.667821</td>\n",
       "    </tr>\n",
       "    <tr>\n",
       "      <th>3</th>\n",
       "      <td>1.700658</td>\n",
       "    </tr>\n",
       "    <tr>\n",
       "      <th>4</th>\n",
       "      <td>1.709419</td>\n",
       "    </tr>\n",
       "    <tr>\n",
       "      <th>...</th>\n",
       "      <td>...</td>\n",
       "    </tr>\n",
       "    <tr>\n",
       "      <th>95</th>\n",
       "      <td>2.116345</td>\n",
       "    </tr>\n",
       "    <tr>\n",
       "      <th>96</th>\n",
       "      <td>2.140644</td>\n",
       "    </tr>\n",
       "    <tr>\n",
       "      <th>97</th>\n",
       "      <td>2.157668</td>\n",
       "    </tr>\n",
       "    <tr>\n",
       "      <th>98</th>\n",
       "      <td>2.159292</td>\n",
       "    </tr>\n",
       "    <tr>\n",
       "      <th>99</th>\n",
       "      <td>2.163765</td>\n",
       "    </tr>\n",
       "  </tbody>\n",
       "</table>\n",
       "<p>100 rows × 1 columns</p>\n",
       "</div>"
      ],
      "text/plain": [
       "       Liter\n",
       "0   1.611893\n",
       "1   1.667572\n",
       "2   1.667821\n",
       "3   1.700658\n",
       "4   1.709419\n",
       "..       ...\n",
       "95  2.116345\n",
       "96  2.140644\n",
       "97  2.157668\n",
       "98  2.159292\n",
       "99  2.163765\n",
       "\n",
       "[100 rows x 1 columns]"
      ]
     },
     "execution_count": 5,
     "metadata": {},
     "output_type": "execute_result"
    }
   ],
   "source": [
    "test = pd.DataFrame(sample1.array)\n",
    "test.columns = ['Liter']\n",
    "test"
   ]
  },
  {
   "cell_type": "code",
   "execution_count": 7,
   "metadata": {},
   "outputs": [
    {
     "name": "stdout",
     "output_type": "stream",
     "text": [
      "1.9016122765229773\n",
      "--------------------------------------------------\n",
      "0.11965727867248312\n",
      "--------------------------------------------------\n"
     ]
    }
   ],
   "source": [
    "mean_bt1 = sample1.mean()\n",
    "print(mean_bt1)\n",
    "print('-'*50)\n",
    "std_bt1 = sample1.sig()\n",
    "print(std_bt1)\n",
    "print('-'*50)\n",
    "n = 100"
   ]
  },
  {
   "cell_type": "code",
   "execution_count": 9,
   "metadata": {},
   "outputs": [
    {
     "data": {
      "text/plain": [
       "0.019683622341623474"
      ]
     },
     "execution_count": 9,
     "metadata": {},
     "output_type": "execute_result"
    }
   ],
   "source": [
    "epsilon_bt1 = (std_bt1/math.sqrt(n))*1.645\n",
    "epsilon_bt1"
   ]
  },
  {
   "cell_type": "code",
   "execution_count": 10,
   "metadata": {},
   "outputs": [
    {
     "name": "stdout",
     "output_type": "stream",
     "text": [
      "Vậy uớc lượng khoảng tin cậy 90% của lượng trung bình thực trong chai 2 lít là:\n",
      "( 1.8819286541813538 : 1.9212958988646007 )\n"
     ]
    }
   ],
   "source": [
    "print('Vậy uớc lượng khoảng tin cậy 90% của lượng trung bình thực trong chai 2 lít là:')\n",
    "print('(',mean_bt1 - epsilon_bt1,':',mean_bt1 + epsilon_bt1,')')\n"
   ]
  },
  {
   "cell_type": "markdown",
   "metadata": {},
   "source": [
    "Bài 2: Bạn là một nhà phân tích nghiên cứu thời gian trong lĩnh vực sản xuất. Bạn đã ghi lại thời gian tác vụ sau (tối thiểu): 3.6, 4.2, 4.0, 3.5, 3.8, 3.1. Ước tính khoảng tin cậy 90% của thời gian thực hiện nhiệm vụ trung bình của tổng thể là bao nhiêu?"
   ]
  },
  {
   "cell_type": "code",
   "execution_count": 11,
   "metadata": {},
   "outputs": [],
   "source": [
    "class Bai2():\n",
    "    \n",
    "    \n",
    "    def __init__(self):\n",
    "        count = int(input('Nhập count: '))\n",
    "        data = []\n",
    "        for x in range(count):\n",
    "            a = np.random.uniform(3, 5)\n",
    "            data.append(round(a, 4))        \n",
    "        self.data = data\n",
    "    \n",
    "    def arrange(self):\n",
    "        return self.data.sort()\n",
    "    \n",
    "    def mean(self):\n",
    "        return (sum(self.data)/len(self.data))\n",
    "    \n",
    "    def std(self):\n",
    "        return statistics.stdev(self.data)\n",
    "    \n",
    "    def epsilon(self):\n",
    "        return statistics.stdev(self.data)/math.sqrt(len(self.data))"
   ]
  },
  {
   "cell_type": "code",
   "execution_count": 19,
   "metadata": {},
   "outputs": [
    {
     "name": "stdout",
     "output_type": "stream",
     "text": [
      "Nhập count: 10\n"
     ]
    },
    {
     "data": {
      "text/plain": [
       "[3.4191, 3.87, 3.6586, 4.891, 3.4069, 3.6377, 4.1495, 4.6318, 3.0169, 4.475]"
      ]
     },
     "execution_count": 19,
     "metadata": {},
     "output_type": "execute_result"
    }
   ],
   "source": [
    "bt2 = Bai2()\n",
    "bt2.data\n"
   ]
  },
  {
   "cell_type": "code",
   "execution_count": 20,
   "metadata": {},
   "outputs": [
    {
     "data": {
      "text/html": [
       "<div>\n",
       "<style scoped>\n",
       "    .dataframe tbody tr th:only-of-type {\n",
       "        vertical-align: middle;\n",
       "    }\n",
       "\n",
       "    .dataframe tbody tr th {\n",
       "        vertical-align: top;\n",
       "    }\n",
       "\n",
       "    .dataframe thead th {\n",
       "        text-align: right;\n",
       "    }\n",
       "</style>\n",
       "<table border=\"1\" class=\"dataframe\">\n",
       "  <thead>\n",
       "    <tr style=\"text-align: right;\">\n",
       "      <th></th>\n",
       "      <th>Time</th>\n",
       "    </tr>\n",
       "  </thead>\n",
       "  <tbody>\n",
       "    <tr>\n",
       "      <th>0</th>\n",
       "      <td>3.4191</td>\n",
       "    </tr>\n",
       "    <tr>\n",
       "      <th>1</th>\n",
       "      <td>3.8700</td>\n",
       "    </tr>\n",
       "    <tr>\n",
       "      <th>2</th>\n",
       "      <td>3.6586</td>\n",
       "    </tr>\n",
       "    <tr>\n",
       "      <th>3</th>\n",
       "      <td>4.8910</td>\n",
       "    </tr>\n",
       "    <tr>\n",
       "      <th>4</th>\n",
       "      <td>3.4069</td>\n",
       "    </tr>\n",
       "    <tr>\n",
       "      <th>5</th>\n",
       "      <td>3.6377</td>\n",
       "    </tr>\n",
       "    <tr>\n",
       "      <th>6</th>\n",
       "      <td>4.1495</td>\n",
       "    </tr>\n",
       "    <tr>\n",
       "      <th>7</th>\n",
       "      <td>4.6318</td>\n",
       "    </tr>\n",
       "    <tr>\n",
       "      <th>8</th>\n",
       "      <td>3.0169</td>\n",
       "    </tr>\n",
       "    <tr>\n",
       "      <th>9</th>\n",
       "      <td>4.4750</td>\n",
       "    </tr>\n",
       "  </tbody>\n",
       "</table>\n",
       "</div>"
      ],
      "text/plain": [
       "     Time\n",
       "0  3.4191\n",
       "1  3.8700\n",
       "2  3.6586\n",
       "3  4.8910\n",
       "4  3.4069\n",
       "5  3.6377\n",
       "6  4.1495\n",
       "7  4.6318\n",
       "8  3.0169\n",
       "9  4.4750"
      ]
     },
     "execution_count": 20,
     "metadata": {},
     "output_type": "execute_result"
    }
   ],
   "source": [
    "data2 = pd.DataFrame(bt2.data)\n",
    "data2.columns = ['Time']\n",
    "data2"
   ]
  },
  {
   "cell_type": "code",
   "execution_count": 22,
   "metadata": {},
   "outputs": [
    {
     "name": "stdout",
     "output_type": "stream",
     "text": [
      "Giá trị trung bình là:\n",
      "3.9157\n",
      "--------------------------------------------------\n",
      "Độ lệch chuẩn của data là:\n",
      "0.6046\n",
      "--------------------------------------------------\n",
      "Epsilon là: \n",
      "0.1912\n"
     ]
    }
   ],
   "source": [
    "print('Giá trị trung bình là:')\n",
    "mean_bt2 = bt2.mean()\n",
    "print(round(mean_bt2, 4))\n",
    "print('-'*50)\n",
    "print('Độ lệch chuẩn của data là:')\n",
    "std_bt2 = bt2.std()\n",
    "print(round(std_bt2, 4))\n",
    "print('-'*50)\n",
    "print('Epsilon là: ')\n",
    "epsilon_bt2 = bt2.epsilon()\n",
    "print(round(epsilon_bt2, 4))"
   ]
  },
  {
   "cell_type": "code",
   "execution_count": 31,
   "metadata": {},
   "outputs": [
    {
     "name": "stdout",
     "output_type": "stream",
     "text": [
      "Vậy ước tính khoảng tin cậy 90% của thời gian thực hiện nhiệm vụ trung bình của tổng thể là:\n",
      "( 3.7244464567680704 : 4.10685354323193 )\n",
      "----------------------------------------------------------------------------------------------------\n"
     ]
    }
   ],
   "source": [
    "print('Vậy ước tính khoảng tin cậy 90% của thời gian thực hiện nhiệm vụ trung bình của tổng thể là:')\n",
    "print('(',mean_bt2 - epsilon_bt2,':',mean_bt2 + epsilon_bt2,')')\n",
    "print('-'*100)"
   ]
  },
  {
   "cell_type": "markdown",
   "metadata": {},
   "source": [
    "Bài 3: Một hộp cốm trung bình có 368 gam cốm? Một mẫu ngẫu nhiên gồm 25 hộp có $\\overline{\\rm X}$ = 372,5. Công ty đã quy định $\\sigma$ là 25 gram. Kiểm định ở mức ý nghĩa .05.\n",
    "\n",
    "- $n = 25$\n",
    "- $\\overline{\\rm X} = 372.5$\n",
    "- $\\sigma = 25$\n",
    "- $\\alpha = 0.05$\n",
    "\n",
    "=> $H_{0}: \\overline{\\rm X} = 368? $\n",
    "\n",
    "Vì $n = 25$ (<30) và X ~ $N(\\mu, \\sigma^2)$ nên:\n",
    "- $df = 24; \\alpha = 0.05$\n",
    " => $t_{\\frac{1-\\alpha}{2}}$ = $t_{\\frac{1 - 0.05}{2}}$ = $t_{0.475}$ = 2.064\n",
    "- $\\epsilon = \\left(\\frac{\\sigma}{\\sqrt(n)}.t_{\\frac{1-\\alpha}{2}}\\right)$"
   ]
  },
  {
   "cell_type": "code",
   "execution_count": 24,
   "metadata": {},
   "outputs": [],
   "source": [
    "class Bai3():\n",
    "    \n",
    "    \n",
    "    def __init__(self):\n",
    "        count = 25\n",
    "        sig = 25\n",
    "        mean = 372.5\n",
    "        self.data = np.random.normal(mean, sig, count)\n",
    "    \n",
    "    def arrange(self):\n",
    "        return self.data.sort()\n",
    "    \n",
    "    def mean(self):\n",
    "        return sum(self.data)/len(self.data)\n",
    "    \n",
    "    def std(self):\n",
    "        return statistics.stdev(self.data)\n",
    "    \n",
    "    def epsilon(self):\n",
    "        return statistics.stdev(self.data)/math.sqrt(len(self.data))"
   ]
  },
  {
   "cell_type": "code",
   "execution_count": 25,
   "metadata": {},
   "outputs": [
    {
     "data": {
      "text/plain": [
       "array([316.36516859, 386.88704571, 381.23574352, 356.63714767,\n",
       "       371.81075663, 346.32152495, 385.0543729 , 376.54689011,\n",
       "       410.87899393, 374.35115273, 381.19962892, 370.60377812,\n",
       "       391.72741458, 352.48397094, 338.67023762, 406.6197443 ,\n",
       "       354.43042954, 398.01010198, 369.51571601, 395.42276874,\n",
       "       395.2274974 , 359.55419628, 402.42167269, 382.37793044,\n",
       "       385.44628262])"
      ]
     },
     "execution_count": 25,
     "metadata": {},
     "output_type": "execute_result"
    }
   ],
   "source": [
    "bt3 = Bai3()\n",
    "bt3.data"
   ]
  },
  {
   "cell_type": "code",
   "execution_count": 26,
   "metadata": {},
   "outputs": [
    {
     "data": {
      "text/html": [
       "<div>\n",
       "<style scoped>\n",
       "    .dataframe tbody tr th:only-of-type {\n",
       "        vertical-align: middle;\n",
       "    }\n",
       "\n",
       "    .dataframe tbody tr th {\n",
       "        vertical-align: top;\n",
       "    }\n",
       "\n",
       "    .dataframe thead th {\n",
       "        text-align: right;\n",
       "    }\n",
       "</style>\n",
       "<table border=\"1\" class=\"dataframe\">\n",
       "  <thead>\n",
       "    <tr style=\"text-align: right;\">\n",
       "      <th></th>\n",
       "      <th>Khối lượng tịnh (gram)</th>\n",
       "    </tr>\n",
       "  </thead>\n",
       "  <tbody>\n",
       "    <tr>\n",
       "      <th>0</th>\n",
       "      <td>316.365169</td>\n",
       "    </tr>\n",
       "    <tr>\n",
       "      <th>1</th>\n",
       "      <td>386.887046</td>\n",
       "    </tr>\n",
       "    <tr>\n",
       "      <th>2</th>\n",
       "      <td>381.235744</td>\n",
       "    </tr>\n",
       "    <tr>\n",
       "      <th>3</th>\n",
       "      <td>356.637148</td>\n",
       "    </tr>\n",
       "    <tr>\n",
       "      <th>4</th>\n",
       "      <td>371.810757</td>\n",
       "    </tr>\n",
       "    <tr>\n",
       "      <th>5</th>\n",
       "      <td>346.321525</td>\n",
       "    </tr>\n",
       "    <tr>\n",
       "      <th>6</th>\n",
       "      <td>385.054373</td>\n",
       "    </tr>\n",
       "    <tr>\n",
       "      <th>7</th>\n",
       "      <td>376.546890</td>\n",
       "    </tr>\n",
       "    <tr>\n",
       "      <th>8</th>\n",
       "      <td>410.878994</td>\n",
       "    </tr>\n",
       "    <tr>\n",
       "      <th>9</th>\n",
       "      <td>374.351153</td>\n",
       "    </tr>\n",
       "    <tr>\n",
       "      <th>10</th>\n",
       "      <td>381.199629</td>\n",
       "    </tr>\n",
       "    <tr>\n",
       "      <th>11</th>\n",
       "      <td>370.603778</td>\n",
       "    </tr>\n",
       "    <tr>\n",
       "      <th>12</th>\n",
       "      <td>391.727415</td>\n",
       "    </tr>\n",
       "    <tr>\n",
       "      <th>13</th>\n",
       "      <td>352.483971</td>\n",
       "    </tr>\n",
       "    <tr>\n",
       "      <th>14</th>\n",
       "      <td>338.670238</td>\n",
       "    </tr>\n",
       "    <tr>\n",
       "      <th>15</th>\n",
       "      <td>406.619744</td>\n",
       "    </tr>\n",
       "    <tr>\n",
       "      <th>16</th>\n",
       "      <td>354.430430</td>\n",
       "    </tr>\n",
       "    <tr>\n",
       "      <th>17</th>\n",
       "      <td>398.010102</td>\n",
       "    </tr>\n",
       "    <tr>\n",
       "      <th>18</th>\n",
       "      <td>369.515716</td>\n",
       "    </tr>\n",
       "    <tr>\n",
       "      <th>19</th>\n",
       "      <td>395.422769</td>\n",
       "    </tr>\n",
       "    <tr>\n",
       "      <th>20</th>\n",
       "      <td>395.227497</td>\n",
       "    </tr>\n",
       "    <tr>\n",
       "      <th>21</th>\n",
       "      <td>359.554196</td>\n",
       "    </tr>\n",
       "    <tr>\n",
       "      <th>22</th>\n",
       "      <td>402.421673</td>\n",
       "    </tr>\n",
       "    <tr>\n",
       "      <th>23</th>\n",
       "      <td>382.377930</td>\n",
       "    </tr>\n",
       "    <tr>\n",
       "      <th>24</th>\n",
       "      <td>385.446283</td>\n",
       "    </tr>\n",
       "  </tbody>\n",
       "</table>\n",
       "</div>"
      ],
      "text/plain": [
       "    Khối lượng tịnh (gram)\n",
       "0               316.365169\n",
       "1               386.887046\n",
       "2               381.235744\n",
       "3               356.637148\n",
       "4               371.810757\n",
       "5               346.321525\n",
       "6               385.054373\n",
       "7               376.546890\n",
       "8               410.878994\n",
       "9               374.351153\n",
       "10              381.199629\n",
       "11              370.603778\n",
       "12              391.727415\n",
       "13              352.483971\n",
       "14              338.670238\n",
       "15              406.619744\n",
       "16              354.430430\n",
       "17              398.010102\n",
       "18              369.515716\n",
       "19              395.422769\n",
       "20              395.227497\n",
       "21              359.554196\n",
       "22              402.421673\n",
       "23              382.377930\n",
       "24              385.446283"
      ]
     },
     "execution_count": 26,
     "metadata": {},
     "output_type": "execute_result"
    }
   ],
   "source": [
    "data3 = pd.DataFrame(bt3.data)\n",
    "data3.columns = ['Khối lượng tịnh (gram)']\n",
    "data3"
   ]
  },
  {
   "cell_type": "code",
   "execution_count": 29,
   "metadata": {},
   "outputs": [
    {
     "name": "stdout",
     "output_type": "stream",
     "text": [
      "Giá trị trung bình là:\n",
      "375.592\n",
      "--------------------------------------------------\n",
      "Độ lệch chuẩn của data là:\n",
      "22.6363\n",
      "--------------------------------------------------\n",
      "Epsilon là: \n",
      "4.5273\n"
     ]
    }
   ],
   "source": [
    "print('Giá trị trung bình là:')\n",
    "mean_bt3 = bt3.mean()\n",
    "print(round(mean_bt3, 4))\n",
    "print('-'*50)\n",
    "print('Độ lệch chuẩn của data là:')\n",
    "std_bt3 = bt3.std()\n",
    "print(round(std_bt3, 4))\n",
    "print('-'*50)\n",
    "print('Epsilon là: ')\n",
    "epsilon_bt3 = bt3.epsilon()\n",
    "print(round(epsilon_bt3, 4))\n",
    "h0 = 368\n",
    "muy1 = mean_bt3 - epsilon_bt3\n",
    "muy2 = mean_bt3 + epsilon_bt3"
   ]
  },
  {
   "cell_type": "code",
   "execution_count": 30,
   "metadata": {},
   "outputs": [
    {
     "name": "stdout",
     "output_type": "stream",
     "text": [
      "Vậy ước tính khoảng tin cậy 95% của khối lượng trong mỗi gói cốm là:\n",
      "( 371.06474384831876 : 380.11926950674984 )\n",
      "Bác bỏ giả thuyết H0\n"
     ]
    }
   ],
   "source": [
    "print('Vậy ước tính khoảng tin cậy 95% của khối lượng trong mỗi gói cốm là:')\n",
    "print('(',muy1,':',muy2,')')\n",
    "if (h0 > muy1) and (h0 < muy2):\n",
    "    print('Không đủ bằng chứng bác bỏ giả thuyết H0')\n",
    "else:\n",
    "    print('Bác bỏ giả thuyết H0')"
   ]
  },
  {
   "cell_type": "markdown",
   "metadata": {},
   "source": [
    "Bài 4: Bạn là nhân viên kiểm tra Q / C. Bạn muốn tìm hiểu xem một chiếc máy mới có đang làm dây điện theo thông số kỹ thuật của khách hàng hay không: độ bền đứt trung bình là 70 lb. với σ = 3,5 lb. Bạn lấy mẫu 36 dây và tính giá trị trung bình mẫu là 69,7 lb. Tại 0,05 mức độ ý nghĩa, có bằng chứng cho thấy máy không đạt độ bền đứt trung bình không?"
   ]
  },
  {
   "cell_type": "markdown",
   "metadata": {},
   "source": [
    "Giả thuyết:\n",
    "- Giá trị trung bình $\\overline{\\rm X} = 69.7$\n",
    "- Độ lệch chuẩn $\\sigma = 3.5$ \n",
    "- Số lượng mẫu $n = 36$ (n > 30)\n",
    "    - $t_{\\frac{1-\\alpha}{2}}$ = $t_{\\frac{1 - 0.05}{2}}$ = $t_{0.475}$ = 1.96\n",
    "    (Sử dụng bảng phân phối chuẩn Laplace)\n",
    "- Mức ý nghĩa $\\alpha = 0.05$\n",
    "\n",
    "Có hay không bằng chứng cho $H_{0}: \\overline{\\rm X} = 70?$"
   ]
  },
  {
   "cell_type": "code",
   "execution_count": 38,
   "metadata": {},
   "outputs": [],
   "source": [
    "class Bai4():\n",
    "    \n",
    "    \n",
    "    def __init__(self):\n",
    "        count = 36\n",
    "        mean = 69.7\n",
    "        std = 3.5\n",
    "        self.data = np.random.normal(mean, std, count)\n",
    "        \n",
    "    def arrange(self):\n",
    "        return self.data.sort()\n",
    "    \n",
    "    def mean(self):\n",
    "        return sum(self.data)/len(self.data)\n",
    "    \n",
    "    def std(self):\n",
    "        return statistics.stdev(self.data)\n",
    "    \n",
    "    def epsilon(self):\n",
    "        return statistics.stdev(self.data)/math.sqrt(len(self.data))"
   ]
  },
  {
   "cell_type": "code",
   "execution_count": 39,
   "metadata": {},
   "outputs": [
    {
     "data": {
      "text/plain": [
       "array([67.63552139, 77.37436372, 70.77897239, 68.20789441, 73.22167947,\n",
       "       75.40683274, 68.90942121, 68.0083561 , 67.09067895, 70.4095214 ,\n",
       "       68.0562042 , 77.29472151, 68.03117325, 72.050952  , 70.74650377,\n",
       "       74.93916157, 68.6668736 , 64.62741029, 72.36051205, 63.82123269,\n",
       "       73.34729538, 71.00226861, 67.99065411, 72.99688763, 74.64192168,\n",
       "       64.31744157, 72.08385472, 71.21213781, 67.27737316, 69.66326947,\n",
       "       72.50975569, 70.90542196, 72.79688464, 68.74187288, 72.74350316,\n",
       "       68.3446562 ])"
      ]
     },
     "execution_count": 39,
     "metadata": {},
     "output_type": "execute_result"
    }
   ],
   "source": [
    "bt4 = Bai4()\n",
    "bt4.data"
   ]
  },
  {
   "cell_type": "code",
   "execution_count": 40,
   "metadata": {},
   "outputs": [
    {
     "data": {
      "text/html": [
       "<div>\n",
       "<style scoped>\n",
       "    .dataframe tbody tr th:only-of-type {\n",
       "        vertical-align: middle;\n",
       "    }\n",
       "\n",
       "    .dataframe tbody tr th {\n",
       "        vertical-align: top;\n",
       "    }\n",
       "\n",
       "    .dataframe thead th {\n",
       "        text-align: right;\n",
       "    }\n",
       "</style>\n",
       "<table border=\"1\" class=\"dataframe\">\n",
       "  <thead>\n",
       "    <tr style=\"text-align: right;\">\n",
       "      <th></th>\n",
       "      <th>Sức bền (LB)</th>\n",
       "    </tr>\n",
       "  </thead>\n",
       "  <tbody>\n",
       "    <tr>\n",
       "      <th>0</th>\n",
       "      <td>67.635521</td>\n",
       "    </tr>\n",
       "    <tr>\n",
       "      <th>1</th>\n",
       "      <td>77.374364</td>\n",
       "    </tr>\n",
       "    <tr>\n",
       "      <th>2</th>\n",
       "      <td>70.778972</td>\n",
       "    </tr>\n",
       "    <tr>\n",
       "      <th>3</th>\n",
       "      <td>68.207894</td>\n",
       "    </tr>\n",
       "    <tr>\n",
       "      <th>4</th>\n",
       "      <td>73.221679</td>\n",
       "    </tr>\n",
       "    <tr>\n",
       "      <th>5</th>\n",
       "      <td>75.406833</td>\n",
       "    </tr>\n",
       "    <tr>\n",
       "      <th>6</th>\n",
       "      <td>68.909421</td>\n",
       "    </tr>\n",
       "    <tr>\n",
       "      <th>7</th>\n",
       "      <td>68.008356</td>\n",
       "    </tr>\n",
       "    <tr>\n",
       "      <th>8</th>\n",
       "      <td>67.090679</td>\n",
       "    </tr>\n",
       "    <tr>\n",
       "      <th>9</th>\n",
       "      <td>70.409521</td>\n",
       "    </tr>\n",
       "    <tr>\n",
       "      <th>10</th>\n",
       "      <td>68.056204</td>\n",
       "    </tr>\n",
       "    <tr>\n",
       "      <th>11</th>\n",
       "      <td>77.294722</td>\n",
       "    </tr>\n",
       "    <tr>\n",
       "      <th>12</th>\n",
       "      <td>68.031173</td>\n",
       "    </tr>\n",
       "    <tr>\n",
       "      <th>13</th>\n",
       "      <td>72.050952</td>\n",
       "    </tr>\n",
       "    <tr>\n",
       "      <th>14</th>\n",
       "      <td>70.746504</td>\n",
       "    </tr>\n",
       "    <tr>\n",
       "      <th>15</th>\n",
       "      <td>74.939162</td>\n",
       "    </tr>\n",
       "    <tr>\n",
       "      <th>16</th>\n",
       "      <td>68.666874</td>\n",
       "    </tr>\n",
       "    <tr>\n",
       "      <th>17</th>\n",
       "      <td>64.627410</td>\n",
       "    </tr>\n",
       "    <tr>\n",
       "      <th>18</th>\n",
       "      <td>72.360512</td>\n",
       "    </tr>\n",
       "    <tr>\n",
       "      <th>19</th>\n",
       "      <td>63.821233</td>\n",
       "    </tr>\n",
       "    <tr>\n",
       "      <th>20</th>\n",
       "      <td>73.347295</td>\n",
       "    </tr>\n",
       "    <tr>\n",
       "      <th>21</th>\n",
       "      <td>71.002269</td>\n",
       "    </tr>\n",
       "    <tr>\n",
       "      <th>22</th>\n",
       "      <td>67.990654</td>\n",
       "    </tr>\n",
       "    <tr>\n",
       "      <th>23</th>\n",
       "      <td>72.996888</td>\n",
       "    </tr>\n",
       "    <tr>\n",
       "      <th>24</th>\n",
       "      <td>74.641922</td>\n",
       "    </tr>\n",
       "    <tr>\n",
       "      <th>25</th>\n",
       "      <td>64.317442</td>\n",
       "    </tr>\n",
       "    <tr>\n",
       "      <th>26</th>\n",
       "      <td>72.083855</td>\n",
       "    </tr>\n",
       "    <tr>\n",
       "      <th>27</th>\n",
       "      <td>71.212138</td>\n",
       "    </tr>\n",
       "    <tr>\n",
       "      <th>28</th>\n",
       "      <td>67.277373</td>\n",
       "    </tr>\n",
       "    <tr>\n",
       "      <th>29</th>\n",
       "      <td>69.663269</td>\n",
       "    </tr>\n",
       "    <tr>\n",
       "      <th>30</th>\n",
       "      <td>72.509756</td>\n",
       "    </tr>\n",
       "    <tr>\n",
       "      <th>31</th>\n",
       "      <td>70.905422</td>\n",
       "    </tr>\n",
       "    <tr>\n",
       "      <th>32</th>\n",
       "      <td>72.796885</td>\n",
       "    </tr>\n",
       "    <tr>\n",
       "      <th>33</th>\n",
       "      <td>68.741873</td>\n",
       "    </tr>\n",
       "    <tr>\n",
       "      <th>34</th>\n",
       "      <td>72.743503</td>\n",
       "    </tr>\n",
       "    <tr>\n",
       "      <th>35</th>\n",
       "      <td>68.344656</td>\n",
       "    </tr>\n",
       "  </tbody>\n",
       "</table>\n",
       "</div>"
      ],
      "text/plain": [
       "    Sức bền (LB)\n",
       "0      67.635521\n",
       "1      77.374364\n",
       "2      70.778972\n",
       "3      68.207894\n",
       "4      73.221679\n",
       "5      75.406833\n",
       "6      68.909421\n",
       "7      68.008356\n",
       "8      67.090679\n",
       "9      70.409521\n",
       "10     68.056204\n",
       "11     77.294722\n",
       "12     68.031173\n",
       "13     72.050952\n",
       "14     70.746504\n",
       "15     74.939162\n",
       "16     68.666874\n",
       "17     64.627410\n",
       "18     72.360512\n",
       "19     63.821233\n",
       "20     73.347295\n",
       "21     71.002269\n",
       "22     67.990654\n",
       "23     72.996888\n",
       "24     74.641922\n",
       "25     64.317442\n",
       "26     72.083855\n",
       "27     71.212138\n",
       "28     67.277373\n",
       "29     69.663269\n",
       "30     72.509756\n",
       "31     70.905422\n",
       "32     72.796885\n",
       "33     68.741873\n",
       "34     72.743503\n",
       "35     68.344656"
      ]
     },
     "execution_count": 40,
     "metadata": {},
     "output_type": "execute_result"
    }
   ],
   "source": [
    "data4 = pd.DataFrame(bt4.data)\n",
    "data4.columns = ['Sức bền (LB)']\n",
    "data4"
   ]
  },
  {
   "cell_type": "code",
   "execution_count": 42,
   "metadata": {},
   "outputs": [
    {
     "name": "stdout",
     "output_type": "stream",
     "text": [
      "Giá trị trung bình là:\n",
      "70.5059\n",
      "--------------------------------------------------\n",
      "Độ lệch chuẩn của data là:\n",
      "3.3449\n",
      "--------------------------------------------------\n",
      "Epsilon là: \n",
      "4.5273\n"
     ]
    }
   ],
   "source": [
    "print('Giá trị trung bình là:')\n",
    "mean_bt4 = bt4.mean()\n",
    "print(round(mean_bt4, 4))\n",
    "print('-'*50)\n",
    "print('Độ lệch chuẩn của data là:')\n",
    "std_bt4 = bt4.std()\n",
    "print(round(std_bt4, 4))\n",
    "print('-'*50)\n",
    "print('Epsilon là: ')\n",
    "epsilon_bt4 = bt4.epsilon()\n",
    "print(round(epsilon_bt3, 4))\n",
    "h0 = 70\n",
    "muy1_bt4 = mean_bt4 - epsilon_bt4\n",
    "muy2_bt4 = mean_bt4 + epsilon_bt4"
   ]
  },
  {
   "cell_type": "code",
   "execution_count": 43,
   "metadata": {},
   "outputs": [
    {
     "name": "stdout",
     "output_type": "stream",
     "text": [
      "Vậy ước tính khoảng tin cậy 95% sức căng của máy là:\n",
      "( 69.94844012431449 : 71.06340350739217 )\n",
      "Không đủ bằng chứng bác bỏ giả thuyết H0\n"
     ]
    }
   ],
   "source": [
    "print('Vậy ước tính khoảng tin cậy 95% sức căng của máy là:')\n",
    "print('(',muy1_bt4,':',muy2_bt4,')')\n",
    "if (h0 > muy1_bt4) and (h0 < muy2_bt4):\n",
    "    print('Không đủ bằng chứng bác bỏ giả thuyết H0')\n",
    "else:\n",
    "    print('Bác bỏ giả thuyết H0')"
   ]
  },
  {
   "cell_type": "markdown",
   "metadata": {},
   "source": [
    "Bài 6: Bạn là nhà phân tích của Ford. Bạn muốn tìm hiểu xem dặm trung bình cho mỗi gallon Escorts ít nhất là 32 mpg. Các mô hình tương tự có độ lệch chuẩn là 3,8 mpg. Bạn lấy mẫu 60 Escorts và tính giá trị trung bình mẫu là 30,7 mpg. Ở cấp .01 có ý nghĩa, là có bằng chứng cho thấy dặm cho mỗi gallon là ít hơn 32? "
   ]
  },
  {
   "cell_type": "markdown",
   "metadata": {},
   "source": [
    "Giả thuyết:\n",
    "- Giá trị trung bình $\\overline{\\rm X} = 30.7$\n",
    "- Số lượng mẫu $n = 60$ (n > 30)\n",
    "    - $t_{\\frac{1-\\alpha}{2}}$ = $t_{\\frac{1 - 0.01}{2}}$ = $t_{0.495}$ = 2.575\n",
    "- Độ lệch chuẩn $\\sigma = 3.8$\n",
    "- Mức ý nghĩa $\\alpha = 0.01$ \n",
    "\n",
    "Có hay không bằng chứng $H_{0}: \\overline{\\rm X} \\leq 32$"
   ]
  }
 ],
 "metadata": {
  "kernelspec": {
   "display_name": "Python 3",
   "language": "python",
   "name": "python3"
  },
  "language_info": {
   "codemirror_mode": {
    "name": "ipython",
    "version": 3
   },
   "file_extension": ".py",
   "mimetype": "text/x-python",
   "name": "python",
   "nbconvert_exporter": "python",
   "pygments_lexer": "ipython3",
   "version": "3.8.5"
  }
 },
 "nbformat": 4,
 "nbformat_minor": 4
}
